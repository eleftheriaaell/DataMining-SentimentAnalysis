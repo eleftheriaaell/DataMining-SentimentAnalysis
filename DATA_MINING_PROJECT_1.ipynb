{
  "cells": [
    {
      "cell_type": "markdown",
      "metadata": {
        "id": "Jlcu3QvGeib0"
      },
      "source": [
        "**A PROJECT BY:**\n",
        "\n",
        "ΕΛΕΥΘΕΡΙΑ ΕΛΛΗΝΑ 1115201800228\n",
        "\n",
        "ΣΤΥΛΙΑΝΟΣ ΨΑΡΑ 1115201800226"
      ]
    },
    {
      "cell_type": "code",
      "source": [
        "from google.colab import drive\n",
        "drive.mount('/content/drive')"
      ],
      "metadata": {
        "colab": {
          "base_uri": "https://localhost:8080/"
        },
        "id": "4Bj3VZ15JymW",
        "outputId": "53934fdd-5b24-41a6-ca32-6a15275bf8f2"
      },
      "execution_count": 3,
      "outputs": [
        {
          "output_type": "stream",
          "name": "stdout",
          "text": [
            "Mounted at /content/drive\n"
          ]
        }
      ]
    },
    {
      "cell_type": "code",
      "execution_count": 4,
      "metadata": {
        "id": "Ve_ZPHrIBq69"
      },
      "outputs": [],
      "source": [
        "import pandas as pd\n",
        "import pickle\n",
        "\n",
        "pickle_file = './eclass_all_with_sentiment_v2.pkl'      #load pickle file on sample data of google colab\n",
        "pickle = pd.read_pickle(pickle_file)\n",
        "df_all_pkl= pd.DataFrame(pickle)\n",
        "\n",
        "df_all_pkl=df_all_pkl.sample(frac=0.05)                 #0.05% of dataset for fastest execution"
      ]
    },
    {
      "cell_type": "markdown",
      "metadata": {
        "id": "UWHs60QTE9oJ"
      },
      "source": [
        "# 1. Text Cleaning"
      ]
    },
    {
      "cell_type": "code",
      "execution_count": 5,
      "metadata": {
        "colab": {
          "base_uri": "https://localhost:8080/"
        },
        "id": "kPJ9MFhVJ04X",
        "outputId": "ec7c933a-89d2-47d4-b523-d4ed527803bf"
      },
      "outputs": [
        {
          "output_type": "stream",
          "name": "stdout",
          "text": [
            "[nltk_data] Downloading package stopwords to /root/nltk_data...\n",
            "[nltk_data]   Unzipping corpora/stopwords.zip.\n",
            "[nltk_data] Downloading package wordnet to /root/nltk_data...\n",
            "[nltk_data]   Unzipping corpora/wordnet.zip.\n"
          ]
        }
      ],
      "source": [
        "import nltk\n",
        "nltk.download('stopwords')\n",
        "nltk.download('wordnet')\n",
        "from nltk.corpus import stopwords\n",
        "from nltk.stem import WordNetLemmatizer\n",
        "from nltk.stem.porter import PorterStemmer\n",
        "import string\n",
        "\n",
        "df_all_pkl['text']= df_all_pkl['text'].str.lower()\n",
        "\n",
        "df_all_pkl['text'] = df_all_pkl['text'].replace(to_replace='https\\S+', value=\"\", regex=True)\n",
        "\n",
        "df_all_pkl['text'] = df_all_pkl['text'].replace('[^a-z0-9 ]', '', regex=True)\n",
        "\n",
        "stop_words = stopwords.words('english')\n",
        "df_all_pkl['text'] = df_all_pkl['text'].apply(lambda x: ' '.join([word for word in x.split() if word not in (stop_words)]))"
      ]
    },
    {
      "cell_type": "code",
      "execution_count": 6,
      "metadata": {
        "id": "FC_dTipNRhqk"
      },
      "outputs": [],
      "source": [
        "df_all_pkl['text_split'] = df_all_pkl['text'].apply(lambda x: x.split()) "
      ]
    },
    {
      "cell_type": "code",
      "execution_count": 7,
      "metadata": {
        "id": "1zIcooYPSUT5"
      },
      "outputs": [],
      "source": [
        "lemmatizer = WordNetLemmatizer()\n",
        "df_all_pkl['text_split'] = [[lemmatizer.lemmatize(w) for w in word]for word in df_all_pkl['text_split']]\n",
        "\n",
        "p_stemmer = PorterStemmer()\n",
        "df_all_pkl['text_split'] = [[p_stemmer.stem(w) for w in word]for word in df_all_pkl['text_split']]"
      ]
    },
    {
      "cell_type": "markdown",
      "metadata": {
        "id": "ffSb5oG-FzMS"
      },
      "source": [
        "# 2. Data Analysing"
      ]
    },
    {
      "cell_type": "code",
      "execution_count": 8,
      "metadata": {
        "id": "vKhQutsffCJi"
      },
      "outputs": [],
      "source": [
        "from sklearn.model_selection import train_test_split\n",
        "\n",
        "train, test = train_test_split(df_all_pkl, test_size=0.2)\n",
        "\n",
        "train.to_csv('./train.tsv', sep=\"\\t\")\n",
        "test.to_csv('./test.tsv', sep=\"\\t\")"
      ]
    },
    {
      "cell_type": "code",
      "execution_count": 9,
      "metadata": {
        "colab": {
          "base_uri": "https://localhost:8080/"
        },
        "id": "LHA6Sx8-NleP",
        "outputId": "3e0d74d5-2985-4ecf-8423-d8c354580985"
      },
      "outputs": [
        {
          "output_type": "stream",
          "name": "stdout",
          "text": [
            "Positive tweets:  1279\n",
            "Negative tweets:  1521\n",
            "Neutral tweets:  8610\n"
          ]
        }
      ],
      "source": [
        "#i\n",
        "num_pos = df_all_pkl['sentiment'].value_counts().POS\n",
        "num_neg = df_all_pkl['sentiment'].value_counts().NEG\n",
        "num_neu = df_all_pkl['sentiment'].value_counts().NEU\n",
        "\n",
        "print(\"Positive tweets: \", num_pos)\n",
        "print(\"Negative tweets: \", num_neg)\n",
        "print(\"Neutral tweets: \", num_neu)"
      ]
    },
    {
      "cell_type": "code",
      "execution_count": 10,
      "metadata": {
        "colab": {
          "base_uri": "https://localhost:8080/",
          "height": 351
        },
        "id": "pMdJl0dli_Bb",
        "outputId": "1005793f-bdbc-4ced-c481-d8dcf71ce02a"
      },
      "outputs": [
        {
          "output_type": "execute_result",
          "data": {
            "text/plain": [
              "Text(0, 0.5, 'Counter Of Sentiments')"
            ]
          },
          "metadata": {},
          "execution_count": 10
        },
        {
          "output_type": "display_data",
          "data": {
            "text/plain": [
              "<Figure size 504x360 with 1 Axes>"
            ],
            "image/png": "[encoded data removed]"
          },
          "metadata": {
            "needs_background": "light"
          }
        }
      ],
      "source": [
        "import matplotlib.pyplot as plt\n",
        "\n",
        "sentiment_array = [num_pos, num_neg, num_neu]\n",
        "sentiment_names_array = [\"POSITIVE\", \"NEGATIVE\", \"NEUTRAL\"]\n",
        "\n",
        "fig = plt.figure(figsize = (7,5))\n",
        "\n",
        "plt.bar(sentiment_names_array, sentiment_array, color ='turquoise', width = 0.4)\n",
        " \n",
        "plt.xlabel(\"Sentiments\")\n",
        "plt.ylabel(\"Counter Of Sentiments\")"
      ]
    },
    {
      "cell_type": "code",
      "execution_count": 11,
      "metadata": {
        "colab": {
          "base_uri": "https://localhost:8080/"
        },
        "id": "nWLQ2Ls30XfY",
        "outputId": "9929d225-36e2-44ea-f22a-0a1ec8322715"
      },
      "outputs": [
        {
          "output_type": "stream",
          "name": "stdout",
          "text": [
            "Most common words:  [('vaccin', 4466), ('covaxin', 2516), ('moderna', 2492), ('dose', 1666), ('covid19', 1529), ('pfizer', 759), ('age', 758), ('18', 717), ('bbmp', 714), ('covidvaccin', 714)]\n"
          ]
        }
      ],
      "source": [
        "#ii\n",
        "import collections\n",
        "import itertools\n",
        "\n",
        "text_word_list = list(itertools.chain(*df_all_pkl['text_split']))\n",
        "frequency_counter = collections.Counter(text_word_list)\n",
        "most = frequency_counter.most_common(10)\n",
        "print(\"Most common words: \", most)"
      ]
    },
    {
      "cell_type": "code",
      "execution_count": 12,
      "metadata": {
        "colab": {
          "base_uri": "https://localhost:8080/",
          "height": 459
        },
        "id": "nXcBacmpk10S",
        "outputId": "15381df6-d47b-458c-efcc-e5ab23a1f022"
      },
      "outputs": [
        {
          "output_type": "execute_result",
          "data": {
            "text/plain": [
              "Text(0, 0.5, 'Counter Of Words')"
            ]
          },
          "metadata": {},
          "execution_count": 12
        },
        {
          "output_type": "display_data",
          "data": {
            "text/plain": [
              "<Figure size 720x504 with 1 Axes>"
            ],
            "image/png": "[encoded data removed]"
          },
          "metadata": {
            "needs_background": "light"
          }
        }
      ],
      "source": [
        "most_words = []\n",
        "most_count = []\n",
        "for word in most:\n",
        "  most_words.append(word[0])\n",
        "  most_count.append(word[1])\n",
        "  \n",
        "fig = plt.figure(figsize = (10, 7))\n",
        "\n",
        "plt.bar(most_words, most_count, color ='orange', width = 0.4)\n",
        " \n",
        "plt.xlabel(\"Most Common Words\")\n",
        "plt.ylabel(\"Counter Of Words\")"
      ]
    },
    {
      "cell_type": "code",
      "execution_count": 13,
      "metadata": {
        "colab": {
          "base_uri": "https://localhost:8080/"
        },
        "id": "HiS_sswwj0wR",
        "outputId": "9c0cbec0-d18a-4e69-a388-42eb08255701"
      },
      "outputs": [
        {
          "output_type": "stream",
          "name": "stdout",
          "text": [
            "Most frequent positive words:  [('vaccin', 658), ('moderna', 344), ('covaxin', 312), ('covid19', 235), ('thank', 157)]\n",
            "Most frequent negative words:  [('vaccin', 593), ('moderna', 506), ('covaxin', 189), ('covid19', 155), ('pfizer', 152)]\n",
            "Most frequent neutral words:  [('vaccin', 3215), ('covaxin', 2015), ('moderna', 1642), ('dose', 1410), ('covid19', 1139)]\n"
          ]
        }
      ],
      "source": [
        "#iii\n",
        "positive_tweets = df_all_pkl[df_all_pkl['sentiment']=='POS']['text_split']\n",
        "positive_tweets_words = list(itertools.chain(*positive_tweets))\n",
        "\n",
        "negative_tweets = df_all_pkl[df_all_pkl['sentiment']=='NEG']['text_split']\n",
        "negative_tweets_words = list(itertools.chain(*negative_tweets))\n",
        "\n",
        "neutral_tweets = df_all_pkl[df_all_pkl['sentiment']=='NEU']['text_split']\n",
        "neutral_tweets_words = list(itertools.chain(*neutral_tweets))\n",
        "\n",
        "positive_words_frequency = collections.Counter(positive_tweets_words)\n",
        "most_positive = positive_words_frequency.most_common(5)\n",
        "\n",
        "negative_words_frequency = collections.Counter(negative_tweets_words)\n",
        "most_negative =  negative_words_frequency.most_common(5)\n",
        "\n",
        "neutral_words_frequency = collections.Counter(neutral_tweets_words)\n",
        "most_neutral =  neutral_words_frequency.most_common(5)\n",
        "\n",
        "print(\"Most frequent positive words: \", most_positive)\n",
        "print(\"Most frequent negative words: \", most_negative)\n",
        "print(\"Most frequent neutral words: \", most_neutral)\n"
      ]
    },
    {
      "cell_type": "code",
      "execution_count": 14,
      "metadata": {
        "colab": {
          "base_uri": "https://localhost:8080/",
          "height": 658
        },
        "id": "gk2J2LpWnE7t",
        "outputId": "84ffa642-755a-4b45-9c01-25ac2efba02b"
      },
      "outputs": [
        {
          "output_type": "execute_result",
          "data": {
            "text/plain": [
              "Text(0, 0.5, 'Counter Of Words')"
            ]
          },
          "metadata": {},
          "execution_count": 14
        },
        {
          "output_type": "display_data",
          "data": {
            "text/plain": [
              "<Figure size 360x216 with 1 Axes>"
            ],
            "image/png": "[encoded data removed]"
          },
          "metadata": {
            "needs_background": "light"
          }
        },
        {
          "output_type": "display_data",
          "data": {
            "text/plain": [
              "<Figure size 360x216 with 1 Axes>"
            ],
            "image/png": "[encoded data removed]"
          },
          "metadata": {
            "needs_background": "light"
          }
        },
        {
          "output_type": "display_data",
          "data": {
            "text/plain": [
              "<Figure size 360x216 with 1 Axes>"
            ],
            "image/png": "[encoded data removed]"
          },
          "metadata": {
            "needs_background": "light"
          }
        }
      ],
      "source": [
        "most_words = []\n",
        "most_count = []\n",
        "for word in most_positive:\n",
        "  most_words.append(word[0])\n",
        "  most_count.append(word[1])\n",
        "  \n",
        "fig = plt.figure(figsize = (5, 3))\n",
        "\n",
        "plt.bar(most_words, most_count, color ='tomato', width = 0.4)\n",
        " \n",
        "plt.xlabel(\"Most Frequent Positive Words\")\n",
        "plt.ylabel(\"Counter Of Words\")\n",
        "\n",
        "most_words = []\n",
        "most_count = []\n",
        "for word in most_negative:\n",
        "  most_words.append(word[0])\n",
        "  most_count.append(word[1])\n",
        "  \n",
        "fig = plt.figure(figsize = (5, 3))\n",
        "\n",
        "plt.bar(most_words, most_count, color ='mediumpurple', width = 0.4)\n",
        " \n",
        "plt.xlabel(\"Most Frequent Negative Words\")\n",
        "plt.ylabel(\"Counter Of Words\")\n",
        "\n",
        "most_words = []\n",
        "most_count = []\n",
        "for word in most_neutral:\n",
        "  most_words.append(word[0])\n",
        "  most_count.append(word[1])\n",
        "  \n",
        "fig = plt.figure(figsize = (5, 3))\n",
        "\n",
        "plt.bar(most_words, most_count, color ='mediumvioletred', width = 0.4)\n",
        " \n",
        "plt.xlabel(\"Most Frequent Neutral Words\")\n",
        "plt.ylabel(\"Counter Of Words\")"
      ]
    },
    {
      "cell_type": "code",
      "execution_count": 15,
      "metadata": {
        "colab": {
          "base_uri": "https://localhost:8080/"
        },
        "id": "C4-e3ir0lPnd",
        "outputId": "ae9f06ae-bdfc-4d24-f9f8-08d5ea4d24d8"
      },
      "outputs": [
        {
          "output_type": "stream",
          "name": "stdout",
          "text": [
            "Sentiments of astrazeneca: Counter({'NEU': 230, 'NEG': 73, 'POS': 32})\n",
            "Sentiments of pfizer/biontech, moderna: Counter({'NEU': 2012, 'NEG': 570, 'POS': 451})\n"
          ]
        }
      ],
      "source": [
        "#iv\n",
        "astra = df_all_pkl.loc[df_all_pkl['text'].str.contains('astrazeneca', case=False)]['sentiment']\n",
        "sentiments_astra = collections.Counter(astra)\n",
        "print(\"Sentiments of astrazeneca:\", sentiments_astra)\n",
        "\n",
        "pf_bio_mod = df_all_pkl.loc[df_all_pkl['text'].str.contains('pfizer|biontech|moderna', case=False)]['sentiment']\n",
        "sentiments_pfizer = collections.Counter(pf_bio_mod)\n",
        "print(\"Sentiments of pfizer/biontech, moderna:\", sentiments_pfizer)\n"
      ]
    },
    {
      "cell_type": "code",
      "execution_count": 16,
      "metadata": {
        "colab": {
          "base_uri": "https://localhost:8080/",
          "height": 658
        },
        "id": "qd9cwNw8pX5c",
        "outputId": "7a3d5a62-000c-4a93-a965-426a222735ae"
      },
      "outputs": [
        {
          "output_type": "execute_result",
          "data": {
            "text/plain": [
              "Text(0, 0.5, 'Counter Of Neutrals')"
            ]
          },
          "metadata": {},
          "execution_count": 16
        },
        {
          "output_type": "display_data",
          "data": {
            "text/plain": [
              "<Figure size 360x216 with 1 Axes>"
            ],
            "image/png": "[encoded data removed]"
          },
          "metadata": {
            "needs_background": "light"
          }
        },
        {
          "output_type": "display_data",
          "data": {
            "text/plain": [
              "<Figure size 360x216 with 1 Axes>"
            ],
            "image/png": "[encoded data removed]"
          },
          "metadata": {
            "needs_background": "light"
          }
        },
        {
          "output_type": "display_data",
          "data": {
            "text/plain": [
              "<Figure size 360x216 with 1 Axes>"
            ],
            "image/png": "[encoded data removed]"
          },
          "metadata": {
            "needs_background": "light"
          }
        }
      ],
      "source": [
        "pos = []\n",
        "neg = []\n",
        "neu = []\n",
        "\n",
        "for word in sentiments_astra.most_common(3):\n",
        "  if word[0] == 'POS': \n",
        "    pos.append(word[1])\n",
        "  elif word[0] == 'NEG':\n",
        "    neg.append(word[1])\n",
        "  else:\n",
        "    neu.append(word[1])\n",
        "\n",
        "for word in sentiments_pfizer.most_common(3):\n",
        "  if word[0] == 'POS': \n",
        "    pos.append(word[1])\n",
        "  elif word[0] == 'NEG':\n",
        "    neg.append(word[1])\n",
        "  else:\n",
        "    neu.append(word[1])\n",
        "\n",
        "vaccine_names = [\"Astrazeneca\", \"Pfizer/Biontech-Moderna\"]\n",
        "\n",
        "fig = plt.figure(figsize = (5, 3))\n",
        "plt.bar(vaccine_names, pos, color ='gold', width = 0.4)\n",
        "plt.xlabel(\"Vaccines\")\n",
        "plt.ylabel(\"Counter Of Positives\")\n",
        "\n",
        "fig = plt.figure(figsize = (5, 3))\n",
        "plt.bar(vaccine_names, neg, color ='red', width = 0.4)\n",
        "plt.xlabel(\"Vaccines\")\n",
        "plt.ylabel(\"Counter Of Negatives\")\n",
        "\n",
        "fig = plt.figure(figsize = (5, 3))\n",
        "plt.bar(vaccine_names, neu, color ='dodgerblue', width = 0.4)\n",
        "plt.xlabel(\"Vaccines\")\n",
        "plt.ylabel(\"Counter Of Neutrals\")"
      ]
    },
    {
      "cell_type": "code",
      "execution_count": 17,
      "metadata": {
        "colab": {
          "base_uri": "https://localhost:8080/"
        },
        "id": "Q0Oa0yxa2A6e",
        "outputId": "64e0599c-53d1-4c82-e9b0-33159d10a8d0"
      },
      "outputs": [
        {
          "output_type": "stream",
          "name": "stdout",
          "text": [
            "date\n",
            "1      150\n",
            "2      531\n",
            "3     1306\n",
            "4     1365\n",
            "5      918\n",
            "6     1814\n",
            "7     1398\n",
            "8     1491\n",
            "9      800\n",
            "10     864\n",
            "11     688\n",
            "12      85\n",
            "Name: text, dtype: int64\n"
          ]
        }
      ],
      "source": [
        "#v.\n",
        "df_all_pkl['date'] = pd.to_datetime(df_all_pkl['date'])\n",
        "date = df_all_pkl.groupby(df_all_pkl.date.dt.month)['text'].count()\n",
        "print(date)"
      ]
    },
    {
      "cell_type": "code",
      "execution_count": 18,
      "metadata": {
        "colab": {
          "base_uri": "https://localhost:8080/",
          "height": 351
        },
        "id": "3oOHh7U8vge0",
        "outputId": "416aec0c-1a6c-44db-cde0-0389bdca3108"
      },
      "outputs": [
        {
          "output_type": "execute_result",
          "data": {
            "text/plain": [
              "Text(0, 0.5, 'Counter Of Words')"
            ]
          },
          "metadata": {},
          "execution_count": 18
        },
        {
          "output_type": "display_data",
          "data": {
            "text/plain": [
              "<Figure size 504x360 with 1 Axes>"
            ],
            "image/png": "[encoded data removed]"
          },
          "metadata": {
            "needs_background": "light"
          }
        }
      ],
      "source": [
        "fig = plt.figure(figsize = (7, 5))\n",
        "\n",
        "plt.bar(range(1,13), list(date), color ='mediumvioletred', width = 0.4)\n",
        " \n",
        "plt.xlabel(\"Most Frequent Neutral Words\")\n",
        "plt.ylabel(\"Counter Of Words\")"
      ]
    },
    {
      "cell_type": "markdown",
      "metadata": {
        "id": "G4wFEV9Q0FLw"
      },
      "source": [
        "Παρατηρούμε ότι τα περισσότερα tweets είχαν γίνει τον Ιούνιο του 2021.\n",
        "\n",
        "Σημαντικά γεγονότα που σημειώθηκαν ήταν:\n",
        "\n",
        "Παγκοσμίως υπήρξε ραγδαία αύξηση του εμβολιασμού μετά από παρατήρηση πολλαπλών θανάτων ανεμβολίαστων. \n",
        "\n",
        "Στην Ελλάδα βγήκε πρωτόκολλο για επανεκκίνηση της εστίασης και των κέντρων διασκέδασης, κυρίως για εμβολιασμένους."
      ]
    },
    {
      "cell_type": "markdown",
      "metadata": {
        "id": "lnNOgxmp122K"
      },
      "source": [
        "vi.\n",
        "\n",
        "Σημαντικές Παρατηρήσεις:\n",
        "\n",
        "1. Τον Δεκέμβριο έχουμε μείωση ενασχόλησης με τα κορονοιο-tweets λόγω του γιορτινού κλίματος και της ανάγκης του κόσμου να ξεφύγει από τον Κορονοιό.\n",
        "\n",
        "2. Επίσης βλέπουμε ότι ο κόσμος ασχολείται επι το πλείστον με το εμβόλιο και ποιο εμβόλιο θεωρείται το καλύτερο.\n",
        "\n",
        "Οι παραπάνω παρατηρήσεις φαίνονται στις παραπάνω γραφικές."
      ]
    },
    {
      "cell_type": "markdown",
      "metadata": {
        "id": "7dzQdE6dHOXM"
      },
      "source": [
        "# 3. Vectorization \n",
        "**(part 4 is included)**"
      ]
    },
    {
      "cell_type": "code",
      "execution_count": 19,
      "metadata": {
        "id": "7Z6k3LQody0f"
      },
      "outputs": [],
      "source": [
        "train_file = pd.read_csv('./train.tsv', sep=\"\\t\", lineterminator='\\n')\n",
        "test_file = pd.read_csv('./test.tsv', sep=\"\\t\",  lineterminator='\\n')\n",
        "\n",
        "train_df = pd.DataFrame(train_file)\n",
        "test_df = pd.DataFrame(test_file)"
      ]
    },
    {
      "cell_type": "markdown",
      "metadata": {
        "id": "76VjUNiVQ1HC"
      },
      "source": [
        "##BAG OF WORDS"
      ]
    },
    {
      "cell_type": "code",
      "execution_count": 20,
      "metadata": {
        "id": "KuyzjCCXGRyT"
      },
      "outputs": [],
      "source": [
        "from sklearn.feature_extraction.text import CountVectorizer\n",
        "\n",
        "vectorizer = CountVectorizer(max_features=100)\n",
        "X_train = vectorizer.fit_transform(train_df['text_split'].values.astype('U'))\n",
        "train_words = vectorizer.get_feature_names_out()\n",
        "X_train = X_train.toarray()\n",
        "\n",
        "X_test = vectorizer.transform(test_df['text_split'].values.astype('U'))\n",
        "test_words = vectorizer.get_feature_names_out()\n",
        "X_test = X_test.toarray()\n",
        "\n",
        "train_words_df = pd.DataFrame(columns = train_words)\n",
        "test_words_df = pd.DataFrame(columns = test_words)\n",
        "\n",
        "for i in range(0, X_train.shape[0]):\n",
        "  words_df = pd.Series(X_train[i], index = train_words_df.columns)\n",
        "  train_words_df = train_words_df.append(words_df, ignore_index=True)\n",
        "\n",
        "train_words_df['sentiment'] = train_df['sentiment']\n",
        "\n",
        "for i in range(0, X_test.shape[0]):\n",
        "  words_df = pd.Series(X_test[i], index = test_words_df.columns)\n",
        "  test_words_df= test_words_df.append(words_df, ignore_index=True)\n",
        "\n",
        "test_words_df['sentiment'] = test_df['sentiment']\n",
        "\n",
        "# train_words_df.to_pickle('./vector_train_1.pkl')\n",
        "# pkl_to_csv = pd.read_pickle('./vector_train_1.pkl')\n",
        "# pkl_to_csv.to_csv('./vector_train_1.csv', sep='\\t')\n",
        "\n",
        "# test_words_df.to_pickle('./vector_test_1.pkl')\n",
        "# pkl_to_csv = pd.read_pickle('./vector_test_1.pkl')\n",
        "# pkl_to_csv.to_csv('./vector_test_1.csv', sep='\\t')"
      ]
    },
    {
      "cell_type": "markdown",
      "metadata": {
        "id": "JrMFHCIvJirZ"
      },
      "source": [
        "### 4. Classifiers for Bag of Words\n"
      ]
    },
    {
      "cell_type": "markdown",
      "metadata": {
        "id": "wC6YuKAiOqzu"
      },
      "source": [
        "####SVM FOR BOW"
      ]
    },
    {
      "cell_type": "code",
      "execution_count": 21,
      "metadata": {
        "id": "EVxlzt2x0mol"
      },
      "outputs": [],
      "source": [
        "from sklearn.model_selection import GridSearchCV\n",
        "from sklearn.svm import SVC\n",
        " \n",
        "classifier_svm = GridSearchCV(SVC(), {}, cv = 10)\n",
        "\n",
        "classifier_svm.fit(X_train, train_df['sentiment'])\n",
        "\n",
        "prediction = classifier_svm.predict(X_test)"
      ]
    },
    {
      "cell_type": "code",
      "execution_count": 22,
      "metadata": {
        "colab": {
          "base_uri": "https://localhost:8080/"
        },
        "id": "9nfEp6ICR1gh",
        "outputId": "df89357a-6366-4f5e-e19c-963ef3970fc6"
      },
      "outputs": [
        {
          "output_type": "stream",
          "name": "stdout",
          "text": [
            "Accuracy for BOW with SVM:  0.7695004382120947\n",
            "Precision for BOW with SVM:  0.4209923316515182\n",
            "Recall for BOW with SVM:  0.7266091374031438\n",
            "F-Measure for BOW with SVM:  0.43841866971359417\n"
          ]
        }
      ],
      "source": [
        "from sklearn.metrics import make_scorer, accuracy_score, precision_score, recall_score, f1_score\n",
        "\n",
        "print(\"Accuracy for BOW with SVM: \", accuracy_score(prediction, test_df['sentiment']))\n",
        "print(\"Precision for BOW with SVM: \", precision_score(prediction, test_df['sentiment'], average='macro'))\n",
        "print(\"Recall for BOW with SVM: \", recall_score(prediction, test_df['sentiment'], average='macro'))\n",
        "print(\"F-Measure for BOW with SVM: \", f1_score(prediction, test_df['sentiment'], average='macro'))"
      ]
    },
    {
      "cell_type": "markdown",
      "metadata": {
        "id": "OEQiZ_ZaOvvu"
      },
      "source": [
        "####RANDOM FORESTS FOR BOW"
      ]
    },
    {
      "cell_type": "code",
      "execution_count": 23,
      "metadata": {
        "id": "h6kuIvdQBjXq"
      },
      "outputs": [],
      "source": [
        "from sklearn.ensemble import RandomForestClassifier\n",
        "\n",
        "classifier_forest = GridSearchCV(RandomForestClassifier() , {}, cv= 10)\n",
        "\n",
        "classifier_forest.fit(X_train, train_df['sentiment'])\n",
        "\n",
        "prediction = classifier_forest.predict(X_test) "
      ]
    },
    {
      "cell_type": "code",
      "execution_count": 24,
      "metadata": {
        "colab": {
          "base_uri": "https://localhost:8080/"
        },
        "id": "esVOcJZ5yQFz",
        "outputId": "aab2e8f7-721b-49af-b9dc-c47cc78e8f8a"
      },
      "outputs": [
        {
          "output_type": "stream",
          "name": "stdout",
          "text": [
            "Accuracy for BOW with Random Forests:  0.7497808939526731\n",
            "Precision for BOW with Random Forests:  0.4647047870956789\n",
            "Recall for BOW with Random Forests:  0.5738351200796432\n",
            "F-Measure for BOW with Random Forests:  0.4921306211284056\n"
          ]
        }
      ],
      "source": [
        "print(\"Accuracy for BOW with Random Forests: \", accuracy_score(prediction, test_df['sentiment']))\n",
        "print(\"Precision for BOW with Random Forests: \", precision_score(prediction, test_df['sentiment'], average='macro'))\n",
        "print(\"Recall for BOW with Random Forests: \", recall_score(prediction, test_df['sentiment'], average='macro'))\n",
        "print(\"F-Measure for BOW with Random Forests: \", f1_score(prediction, test_df['sentiment'], average='macro'))"
      ]
    },
    {
      "cell_type": "markdown",
      "metadata": {
        "id": "eA8AcUYOO74a"
      },
      "source": [
        "####KNN FOR BOW"
      ]
    },
    {
      "cell_type": "code",
      "execution_count": 25,
      "metadata": {
        "id": "rKj0c4H-JwEn"
      },
      "outputs": [],
      "source": [
        "from sklearn.neighbors import KNeighborsClassifier\n",
        "  \n",
        "classifier_knn = GridSearchCV(KNeighborsClassifier(), dict(n_neighbors=range(1, 10)), cv=10)\n",
        "\n",
        "classifier_knn.fit(X_train, train_df['sentiment'])\n",
        "\n",
        "prediction = classifier_knn.predict(X_test)"
      ]
    },
    {
      "cell_type": "code",
      "execution_count": 26,
      "metadata": {
        "colab": {
          "base_uri": "https://localhost:8080/"
        },
        "id": "M133e2t_zjiu",
        "outputId": "d9089e53-d14b-4251-ab7a-d307ecc10a99"
      },
      "outputs": [
        {
          "output_type": "stream",
          "name": "stdout",
          "text": [
            "Accuracy for BOW with KNN:  0.7484662576687117\n",
            "Precision for BOW with KNN:  0.3931000697274107\n",
            "Recall for BOW with KNN:  0.5784106697870262\n",
            "F-Measure for BOW with KNN:  0.3995790308887887\n"
          ]
        }
      ],
      "source": [
        "print(\"Accuracy for BOW with KNN: \", accuracy_score(prediction, test_df['sentiment']))\n",
        "print(\"Precision for BOW with KNN: \", precision_score(prediction, test_df['sentiment'], average='macro'))\n",
        "print(\"Recall for BOW with KNN: \", recall_score(prediction, test_df['sentiment'], average='macro'))\n",
        "print(\"F-Measure for BOW with KNN: \", f1_score(prediction, test_df['sentiment'], average='macro'))"
      ]
    },
    {
      "cell_type": "markdown",
      "metadata": {
        "id": "oJeKvah5Qwqj"
      },
      "source": [
        "##TF-IDF"
      ]
    },
    {
      "cell_type": "code",
      "execution_count": 27,
      "metadata": {
        "id": "zXEuoXiOhasP"
      },
      "outputs": [],
      "source": [
        "from sklearn.feature_extraction.text import TfidfVectorizer\n",
        "\n",
        "vectorizer = TfidfVectorizer(max_features=100)\n",
        "\n",
        "X_train = vectorizer.fit_transform(train_df['text'].values.astype('U'))\n",
        "X_test = vectorizer.fit_transform(test_df['text'].values.astype('U'))"
      ]
    },
    {
      "cell_type": "markdown",
      "metadata": {
        "id": "V6DaPDBkS-1K"
      },
      "source": [
        "###4. Classifiers for TF-IDF"
      ]
    },
    {
      "cell_type": "markdown",
      "metadata": {
        "id": "qUi6WC6aTD7q"
      },
      "source": [
        "####SVM FOR TF-IDF"
      ]
    },
    {
      "cell_type": "code",
      "execution_count": 28,
      "metadata": {
        "id": "OrJmW-ua5Buj"
      },
      "outputs": [],
      "source": [
        "classifier_svm = GridSearchCV(SVC(), {}, cv = 10)\n",
        "\n",
        "classifier_svm.fit(X_train, train_df['sentiment'])\n",
        "\n",
        "prediction = classifier_svm.predict(X_test)"
      ]
    },
    {
      "cell_type": "code",
      "execution_count": 29,
      "metadata": {
        "colab": {
          "base_uri": "https://localhost:8080/"
        },
        "id": "7KJHkrav11X0",
        "outputId": "2c837296-029d-4afc-836e-16f75de078e7"
      },
      "outputs": [
        {
          "output_type": "stream",
          "name": "stdout",
          "text": [
            "Accuracy for TF-IDF with SVM:  0.7397020157756354\n",
            "Precision for TF-IDF with SVM:  0.3386312712853427\n",
            "Recall for TF-IDF with SVM:  0.37395999137091646\n",
            "F-Measure for TF-IDF with SVM:  0.3019399734329758\n"
          ]
        }
      ],
      "source": [
        "print(\"Accuracy for TF-IDF with SVM: \", accuracy_score(prediction, test_df['sentiment']))\n",
        "print(\"Precision for TF-IDF with SVM: \", precision_score(prediction, test_df['sentiment'], average='macro'))\n",
        "print(\"Recall for TF-IDF with SVM: \", recall_score(prediction, test_df['sentiment'], average='macro'))\n",
        "print(\"F-Measure for TF-IDF with SVM: \", f1_score(prediction, test_df['sentiment'], average='macro'))"
      ]
    },
    {
      "cell_type": "markdown",
      "metadata": {
        "id": "1V80X5BOTs9L"
      },
      "source": [
        "####RANDOM FORESTS FOR TF-IDF"
      ]
    },
    {
      "cell_type": "code",
      "execution_count": 30,
      "metadata": {
        "id": "M1CaF4bLFmMU"
      },
      "outputs": [],
      "source": [
        "classifier_forest = GridSearchCV(RandomForestClassifier() , {}, cv= 10)\n",
        "\n",
        "classifier_forest.fit(X_train, train_df['sentiment'])\n",
        "\n",
        "prediction = classifier_forest.predict(X_test) "
      ]
    },
    {
      "cell_type": "code",
      "execution_count": 31,
      "metadata": {
        "colab": {
          "base_uri": "https://localhost:8080/"
        },
        "id": "TujqABgs19X1",
        "outputId": "5c3ebce0-6fe1-47c2-fad4-638bd774e234"
      },
      "outputs": [
        {
          "output_type": "stream",
          "name": "stdout",
          "text": [
            "Accuracy for TF-IDF with Random Forests:  0.7226117440841368\n",
            "Precision for TF-IDF with Random Forests:  0.34081096419187334\n",
            "Recall for TF-IDF with Random Forests:  0.37844974948423227\n",
            "F-Measure for TF-IDF with Random Forests:  0.31731474759208167\n"
          ]
        }
      ],
      "source": [
        "print(\"Accuracy for TF-IDF with Random Forests: \", accuracy_score(prediction, test_df['sentiment']))\n",
        "print(\"Precision for TF-IDF with Random Forests: \", precision_score(prediction, test_df['sentiment'], average='macro'))\n",
        "print(\"Recall for TF-IDF with Random Forests: \", recall_score(prediction, test_df['sentiment'], average='macro'))\n",
        "print(\"F-Measure for TF-IDF with Random Forests: \", f1_score(prediction, test_df['sentiment'], average='macro'))"
      ]
    },
    {
      "cell_type": "markdown",
      "metadata": {
        "id": "_Qw9oCQ1UHJq"
      },
      "source": [
        "####KNN FOR TF-IDF"
      ]
    },
    {
      "cell_type": "code",
      "execution_count": 32,
      "metadata": {
        "id": "fdbA3JwxKT7z"
      },
      "outputs": [],
      "source": [
        "classifier_knn = GridSearchCV(KNeighborsClassifier(), dict(n_neighbors=range(1, 10)), cv=10)\n",
        "\n",
        "classifier_knn.fit(X_train, train_df['sentiment'])\n",
        "\n",
        "prediction = classifier_knn.predict(X_test)"
      ]
    },
    {
      "cell_type": "code",
      "execution_count": 33,
      "metadata": {
        "colab": {
          "base_uri": "https://localhost:8080/"
        },
        "id": "hJ7oFV02177l",
        "outputId": "c004e2b2-b4b7-4505-884d-22d990d14830"
      },
      "outputs": [
        {
          "output_type": "stream",
          "name": "stdout",
          "text": [
            "Accuracy for TF-IDF with KNN:  0.6932515337423313\n",
            "Precision for TF-IDF with KNN:  0.3296636143513464\n",
            "Recall for TF-IDF with KNN:  0.35029286952363875\n",
            "F-Measure for TF-IDF with KNN:  0.31133912678818065\n"
          ]
        }
      ],
      "source": [
        "print(\"Accuracy for TF-IDF with KNN: \", accuracy_score(prediction, test_df['sentiment']))\n",
        "print(\"Precision for TF-IDF with KNN: \", precision_score(prediction, test_df['sentiment'], average='macro'))\n",
        "print(\"Recall for TF-IDF with KNN: \", recall_score(prediction, test_df['sentiment'], average='macro'))\n",
        "print(\"F-Measure for TF-IDF with KNN: \", f1_score(prediction, test_df['sentiment'], average='macro'))"
      ]
    },
    {
      "cell_type": "markdown",
      "metadata": {
        "id": "dGOc1hxTUY5Q"
      },
      "source": [
        "##WORD EMBEDDINGS"
      ]
    },
    {
      "cell_type": "code",
      "execution_count": 34,
      "metadata": {
        "colab": {
          "base_uri": "https://localhost:8080/"
        },
        "id": "KUlbLL6Qm-pW",
        "outputId": "e9807fa1-8aa7-4aab-9d30-aa23c1983668"
      },
      "outputs": [
        {
          "output_type": "execute_result",
          "data": {
            "text/plain": [
              "(7279403, 9611700)"
            ]
          },
          "metadata": {},
          "execution_count": 34
        }
      ],
      "source": [
        "import gensim\n",
        "\n",
        "tokenized_train_df = train_df['text'].apply(lambda x: str(x).split()) \n",
        "tokenized_test_df = test_df['text'].apply(lambda x: str(x).split())\n",
        "\n",
        "model_w2v = gensim.models.Word2Vec(tokenized_train_df, size=200, window=5, min_count=2, sg = 1, hs = 0, negative = 10, workers= 2, seed = 34)\n",
        "\n",
        "model_w2v.train(tokenized_train_df, total_examples = len(tokenized_train_df), epochs=100)"
      ]
    },
    {
      "cell_type": "code",
      "execution_count": 35,
      "metadata": {
        "id": "Gbk2X66gsHDp"
      },
      "outputs": [],
      "source": [
        "import numpy as np\n",
        "\n",
        "train_vectors = []\n",
        "\n",
        "for row in tokenized_train_df:\n",
        "  total = np.zeros(200)\n",
        "  vector = np.zeros(200)\n",
        "  for word in row:\n",
        "    if word in model_w2v.wv:\n",
        "      total = total + model_w2v.wv[word]\n",
        "  vector = [item/len(row) for item in total]\n",
        "  train_vectors.extend(vector)\n",
        "\n",
        "# train_df['vectors'] = train_vectors\n",
        "\n",
        "train_vectors = np.reshape(train_vectors, (len(train_df['text']), 200))\n",
        "X_train = train_vectors\n",
        "\n",
        "# vector_df = train_df.filter(['vectors', 'sentiment'])\n",
        "# vector_df.to_pickle('./vector_train_3.pkl')\n",
        "# pkl_to_csv_train = pd.read_pickle('./vector_train_3.pkl')\n",
        "# pkl_to_csv_train.to_csv('./vector_train_3.csv', sep='\\t')\n",
        "\n",
        "test_vectors = []\n",
        "\n",
        "for row in tokenized_test_df:\n",
        "  total = np.zeros(200)\n",
        "  vector = np.zeros(200)\n",
        "  for word in row:\n",
        "    if word in model_w2v.wv:\n",
        "      total = total + model_w2v.wv[word]\n",
        "  vector = [item/len(row) for item in total]\n",
        "  test_vectors.extend(vector)\n",
        "\n",
        "# test_df['vectors'] = test_vectors\n",
        "\n",
        "test_vectors = np.reshape(test_vectors, (len(test_df['text']), 200))\n",
        "X_test = test_vectors\n",
        "\n",
        "# vector_df = test_df.filter(['vectors', 'sentiment'])\n",
        "# vector_df.to_pickle('./vector_tst_3.pkl')\n",
        "# pkl_to_csv_test = pd.read_pickle('./vector_tst_3.pkl')\n",
        "# pkl_to_csv_test.to_csv('./vector_test_3.csv', sep='\\t')"
      ]
    },
    {
      "cell_type": "markdown",
      "metadata": {
        "id": "D5wiWy_2W3QF"
      },
      "source": [
        "###4. Classifiers for Word Embeddings"
      ]
    },
    {
      "cell_type": "markdown",
      "metadata": {
        "id": "INcjRL0DW_nP"
      },
      "source": [
        "####SVM FOR WORD EMBEDDINGS"
      ]
    },
    {
      "cell_type": "code",
      "execution_count": 36,
      "metadata": {
        "id": "u48HEv7h-M6o"
      },
      "outputs": [],
      "source": [
        "classifier_svm = GridSearchCV(SVC(), {}, cv = 10)\n",
        "\n",
        "classifier_svm.fit(X_train, train_df['sentiment'])\n",
        "\n",
        "prediction = classifier_svm.predict(X_test)"
      ]
    },
    {
      "cell_type": "code",
      "execution_count": 37,
      "metadata": {
        "colab": {
          "base_uri": "https://localhost:8080/"
        },
        "id": "Lu-u6OA4XOL-",
        "outputId": "1630018b-3654-4032-ac8a-4a80d814d714"
      },
      "outputs": [
        {
          "output_type": "stream",
          "name": "stdout",
          "text": [
            "Accuracy for Word Embeddings with SVM:  0.782646801051709\n",
            "Precision for Word Embeddings with SVM:  0.44088394165945527\n",
            "Recall for Word Embeddings with SVM:  0.8295538698393211\n",
            "F-Measure for Word Embeddings with SVM:  0.47503020948839186\n"
          ]
        }
      ],
      "source": [
        "print(\"Accuracy for Word Embeddings with SVM: \", accuracy_score(prediction, test_df['sentiment']))\n",
        "print(\"Precision for Word Embeddings with SVM: \", precision_score(prediction, test_df['sentiment'], average='macro'))\n",
        "print(\"Recall for Word Embeddings with SVM: \", recall_score(prediction, test_df['sentiment'], average='macro', zero_division=0))\n",
        "print(\"F-Measure for Word Embeddings with SVM: \", f1_score(prediction, test_df['sentiment'], average='macro'))"
      ]
    },
    {
      "cell_type": "markdown",
      "metadata": {
        "id": "W0Ik4bMdap0H"
      },
      "source": [
        "####RANDOM FORESTS FOR WORD EMBEDDINGS"
      ]
    },
    {
      "cell_type": "code",
      "execution_count": 38,
      "metadata": {
        "id": "-dnjODGwGqgV"
      },
      "outputs": [],
      "source": [
        "classifier_forest = GridSearchCV(RandomForestClassifier() , {}, cv= 10)\n",
        "\n",
        "classifier_forest.fit(X_train, train_df['sentiment'])\n",
        "\n",
        "prediction = classifier_forest.predict(X_test) "
      ]
    },
    {
      "cell_type": "code",
      "execution_count": 39,
      "metadata": {
        "colab": {
          "base_uri": "https://localhost:8080/"
        },
        "id": "-1bP_thDayL7",
        "outputId": "807f838c-84aa-420f-ca3e-4554228a434d"
      },
      "outputs": [
        {
          "output_type": "stream",
          "name": "stdout",
          "text": [
            "Accuracy for Word Embeddings with Random Forests:  0.7598597721297108\n",
            "Precision for Word Embeddings with Random Forests:  0.3675287888966628\n",
            "Recall for Word Embeddings with Random Forests:  0.8055915502463386\n",
            "F-Measure for Word Embeddings with Random Forests:  0.35114864348595853\n"
          ]
        }
      ],
      "source": [
        "print(\"Accuracy for Word Embeddings with Random Forests: \", accuracy_score(prediction, test_df['sentiment']))\n",
        "print(\"Precision for Word Embeddings with Random Forests: \", precision_score(prediction, test_df['sentiment'], average='macro'))\n",
        "print(\"Recall for Word Embeddings with Random Forests: \", recall_score(prediction, test_df['sentiment'], average='macro'))\n",
        "print(\"F-Measure for Word Embeddings with Random Forests: \", f1_score(prediction, test_df['sentiment'], average='macro'))"
      ]
    },
    {
      "cell_type": "markdown",
      "metadata": {
        "id": "wXQKxfiTa892"
      },
      "source": [
        "####KNN FOR WORD EMBEDDINGS"
      ]
    },
    {
      "cell_type": "code",
      "execution_count": 40,
      "metadata": {
        "id": "WvLf-vgnKoZZ"
      },
      "outputs": [],
      "source": [
        "classifier_knn = GridSearchCV(KNeighborsClassifier(), dict(n_neighbors=range(1, 10)), cv=10)\n",
        "\n",
        "classifier_knn.fit(X_train, train_df['sentiment'])\n",
        "\n",
        "prediction = classifier_knn.predict(X_test)"
      ]
    },
    {
      "cell_type": "code",
      "execution_count": 41,
      "metadata": {
        "colab": {
          "base_uri": "https://localhost:8080/"
        },
        "id": "MRNTsqCvbE43",
        "outputId": "9adc1645-2104-4f2f-e270-e9b9be2ee0e1"
      },
      "outputs": [
        {
          "output_type": "stream",
          "name": "stdout",
          "text": [
            "Accuracy for Word Embeddings with KNN:  0.7743207712532866\n",
            "Precision for Word Embeddings with KNN:  0.462608452790781\n",
            "Recall for Word Embeddings with KNN:  0.689244529627855\n",
            "F-Measure for Word Embeddings with KNN:  0.5006571239631552\n"
          ]
        }
      ],
      "source": [
        "print(\"Accuracy for Word Embeddings with KNN: \", accuracy_score(prediction, test_df['sentiment']))\n",
        "print(\"Precision for Word Embeddings with KNN: \", precision_score(prediction, test_df['sentiment'], average='macro'))\n",
        "print(\"Recall for Word Embeddings with KNN: \", recall_score(prediction, test_df['sentiment'], average='macro'))\n",
        "print(\"F-Measure for Word Embeddings with KNN: \", f1_score(prediction, test_df['sentiment'], average='macro'))"
      ]
    },
    {
      "cell_type": "markdown",
      "metadata": {
        "id": "KdA_HtP2TWix"
      },
      "source": [
        "#5. Latent Dirichltet Allocation\n"
      ]
    },
    {
      "cell_type": "code",
      "execution_count": 50,
      "metadata": {
        "id": "I13oPc74TeyR"
      },
      "outputs": [],
      "source": [
        "import gensim\n",
        "import gensim.corpora as corpora\n",
        "from gensim.utils import simple_preprocess\n",
        "from gensim.models import CoherenceModel\n",
        "import warnings\n",
        "warnings.filterwarnings(\"ignore\",category=DeprecationWarning)\n",
        "\n",
        "id2word = corpora.Dictionary(df_all_pkl['text_split'])\n",
        "\n",
        "texts = df_all_pkl['text_split']\n",
        "\n",
        "corpus = [id2word.doc2bow(text) for text in texts]"
      ]
    },
    {
      "cell_type": "code",
      "execution_count": 51,
      "metadata": {
        "id": "277G2HQkd0S8"
      },
      "outputs": [],
      "source": [
        "coherence_score = []\n",
        "for i in range(10, 60, 10):\n",
        "  lda_model = gensim.models.ldamodel.LdaModel(corpus=corpus, id2word=id2word, num_topics=i, random_state=100, update_every=1, chunksize=100, passes=10, alpha='auto', per_word_topics=True)\n",
        "  doc_lda = lda_model[corpus]\n",
        "  coherence_model_lda = CoherenceModel(model=lda_model, texts=df_all_pkl['text_split'], dictionary=id2word, coherence='c_v')\n",
        "  coherence_lda = coherence_model_lda.get_coherence()\n",
        "  coherence_score.append(coherence_lda)"
      ]
    },
    {
      "cell_type": "code",
      "execution_count": 52,
      "metadata": {
        "colab": {
          "base_uri": "https://localhost:8080/",
          "height": 351
        },
        "id": "oGwJNQiwUiYA",
        "outputId": "938240a8-08e5-47be-d9bc-9f9df3c7dcdb"
      },
      "outputs": [
        {
          "output_type": "execute_result",
          "data": {
            "text/plain": [
              "Text(0, 0.5, 'Number of Topics')"
            ]
          },
          "metadata": {},
          "execution_count": 52
        },
        {
          "output_type": "display_data",
          "data": {
            "text/plain": [
              "<Figure size 504x360 with 1 Axes>"
            ],
            "image/png": "[encoded data removed]"
          },
          "metadata": {
            "needs_background": "light"
          }
        }
      ],
      "source": [
        "fig = plt.figure(figsize = (7,5))\n",
        "\n",
        "plt.bar(range(10, 60, 10), coherence_score,  color ='coral', width = 1)\n",
        " \n",
        "plt.xlabel(\"Coherence Scores\")\n",
        "plt.ylabel(\"Number of Topics\")"
      ]
    },
    {
      "cell_type": "code",
      "execution_count": null,
      "metadata": {
        "id": "5pWPtGjPWWrX"
      },
      "outputs": [],
      "source": [
        "!pip install pyLDAvis"
      ]
    },
    {
      "cell_type": "code",
      "execution_count": 54,
      "metadata": {
        "colab": {
          "base_uri": "https://localhost:8080/",
          "height": 916
        },
        "id": "xXJUCjqLU-N7",
        "outputId": "92f03221-3abe-4fee-bf44-bc6f16622579"
      },
      "outputs": [
        {
          "output_type": "stream",
          "name": "stderr",
          "text": [
            "/usr/local/lib/python3.7/dist-packages/pyLDAvis/_prepare.py:247: FutureWarning: In a future version of pandas all arguments of DataFrame.drop except for the argument 'labels' will be keyword-only\n",
            "  by='saliency', ascending=False).head(R).drop('saliency', 1)\n"
          ]
        },
        {
          "output_type": "execute_result",
          "data": {
            "text/plain": [
              "PreparedData(topic_coordinates=              x         y  topics  cluster      Freq\n",
              "topic                                               \n",
              "19    -0.029579 -0.118103       1        1  6.683101\n",
              "42    -0.058921 -0.372731       2        1  5.894319\n",
              "8     -0.066908 -0.234925       3        1  4.896339\n",
              "20    -0.019128 -0.087034       4        1  3.649923\n",
              "12    -0.015620 -0.080162       5        1  3.025730\n",
              "3     -0.014040 -0.246804       6        1  2.996777\n",
              "36    -0.314742  0.082767       7        1  2.928102\n",
              "33    -0.274381  0.027829       8        1  2.558850\n",
              "27     0.007496 -0.013736       9        1  2.421650\n",
              "25    -0.248281  0.084080      10        1  2.204548\n",
              "9      0.024583  0.001080      11        1  2.157701\n",
              "39     0.022560  0.011022      12        1  2.142569\n",
              "2      0.024933 -0.009890      13        1  2.119404\n",
              "10     0.025865  0.001334      14        1  2.047382\n",
              "37     0.013547 -0.007701      15        1  2.042772\n",
              "43     0.024572 -0.000602      16        1  2.003438\n",
              "11     0.020524  0.004335      17        1  1.880170\n",
              "40    -0.219429  0.087133      18        1  1.795242\n",
              "14    -0.143618  0.058047      19        1  1.788367\n",
              "49     0.027276  0.000937      20        1  1.775596\n",
              "21     0.031857  0.023419      21        1  1.718242\n",
              "22     0.025238  0.009131      22        1  1.683933\n",
              "23     0.035800  0.013958      23        1  1.683805\n",
              "18     0.036065  0.016698      24        1  1.640870\n",
              "31     0.043225  0.031344      25        1  1.618168\n",
              "32     0.031766  0.019676      26        1  1.587163\n",
              "5      0.039271  0.015512      27        1  1.570757\n",
              "30     0.044130  0.023046      28        1  1.531451\n",
              "38     0.036301  0.020373      29        1  1.525119\n",
              "48     0.037666  0.028430      30        1  1.512756\n",
              "0      0.049844  0.036132      31        1  1.496398\n",
              "7      0.041990  0.020794      32        1  1.470321\n",
              "24     0.041827  0.028543      33        1  1.470248\n",
              "1      0.034288  0.003281      34        1  1.446515\n",
              "6      0.038207  0.032053      35        1  1.419390\n",
              "29     0.039503  0.028770      36        1  1.418597\n",
              "13     0.040644  0.013433      37        1  1.414681\n",
              "35     0.030398  0.023347      38        1  1.412517\n",
              "47     0.041983  0.024161      39        1  1.411363\n",
              "45     0.043754  0.036643      40        1  1.399940\n",
              "44     0.045044  0.036534      41        1  1.379318\n",
              "4      0.046014  0.039431      42        1  1.367268\n",
              "15     0.042612  0.035647      43        1  1.366266\n",
              "34     0.046119  0.032379      44        1  1.359109\n",
              "26     0.030425  0.017898      45        1  1.321701\n",
              "17     0.041558  0.027200      46        1  1.287389\n",
              "46     0.049254  0.044369      47        1  1.261779\n",
              "41     0.046874  0.047403      48        1  1.176484\n",
              "16     0.050197  0.043009      49        1  1.090150\n",
              "28     0.051436  0.040511      50        1  0.946318, topic_info=         Term         Freq        Total Category  logprob  loglift\n",
              "9      vaccin  4339.000000  4339.000000  Default  30.0000  30.0000\n",
              "7     moderna  2449.000000  2449.000000  Default  29.0000  29.0000\n",
              "48    covaxin  2307.000000  2307.000000  Default  28.0000  28.0000\n",
              "119   covid19  1523.000000  1523.000000  Default  27.0000  27.0000\n",
              "4        dose  1251.000000  1251.000000  Default  26.0000  26.0000\n",
              "...       ...          ...          ...      ...      ...      ...\n",
              "8651   thatll     6.461796     7.326321  Topic50  -5.1674   4.5348\n",
              "8167     viol     6.459871     7.324406  Topic50  -5.1677   4.5347\n",
              "2562     hosp    36.979484    64.579984  Topic50  -3.4229   4.1028\n",
              "301    canada     9.115376   120.405918  Topic50  -4.8233   2.0794\n",
              "307   ontario     7.626241    78.860882  Topic50  -5.0017   2.3243\n",
              "\n",
              "[1572 rows x 6 columns], token_table=       Topic      Freq        Term\n",
              "term                              \n",
              "3304      37  0.948982           0\n",
              "1597       3  0.966522          01\n",
              "2871       4  0.942763  0100pmfree\n",
              "722       22  0.988508    01072021\n",
              "3520      14  0.947640    01082021\n",
              "...      ...       ...         ...\n",
              "67        43  0.936632      youtub\n",
              "2963      26  0.963534          yr\n",
              "4152      25  0.974604        zero\n",
              "4028      32  0.925688     zimbabw\n",
              "12067     27  0.995364  zimbabwean\n",
              "\n",
              "[1564 rows x 3 columns], R=30, lambda_step=0.01, plot_opts={'xlab': 'PC1', 'ylab': 'PC2'}, topic_order=[20, 43, 9, 21, 13, 4, 37, 34, 28, 26, 10, 40, 3, 11, 38, 44, 12, 41, 15, 50, 22, 23, 24, 19, 32, 33, 6, 31, 39, 49, 1, 8, 25, 2, 7, 30, 14, 36, 48, 46, 45, 5, 16, 35, 27, 18, 47, 42, 17, 29])"
            ],
            "text/html": [
              "\n",
              "<link rel=\"stylesheet\" type=\"text/css\" href=\"https://cdn.jsdelivr.net/gh/bmabey/pyLDAvis@3.3.1/pyLDAvis/js/ldavis.v1.0.0.css\">\n",
              "\n",
              "\n",
              "<div id=\"ldavis_el721402225701353768235633235\"></div>\n",
              "<script type=\"text/javascript\">\n",
              "\n",
              "var ldavis_el721402225701353768235633235_data = {\"mdsDat\": {\"x\": [-0.029578702087653834, -0.05892104482067642, -0.06690792305285857, -0.01912751592847451, -0.015619556824131159, -0.014039677906353423, -0.3147422032691606, -0.27438097215072527, 0.007496208347071757, -0.24828145231382742, 0.024583290936726763, 0.02255954326423193, 0.02493269323082851, 0.02586492841539588, 0.013547116399362345, 0.024571662780836705, 0.020523670475695942, -0.21942877107672398, -0.1436179924472418, 0.027276389176478674, 0.031856817522107395, 0.025238248829275237, 0.03580019507200276, 0.03606519398515158, 0.043225401026218045, 0.03176642085879406, 0.039271114343251576, 0.044130058772060124, 0.03630105263189098, 0.0376660644225745, 0.04984422540193574, 0.04198994039416431, 0.04182720096134413, 0.03428764124880175, 0.03820670362617726, 0.03950277962099702, 0.04064382381193765, 0.03039833675850286, 0.04198252817846856, 0.04375389468246281, 0.04504432539915285, 0.04601363334441659, 0.04261182042472331, 0.046118739288367044, 0.03042542028671093, 0.0415583998868325, 0.04925388468547272, 0.04687397762134882, 0.050196775245144994, 0.05143569052091209], \"y\": [-0.11810281878359362, -0.37273082341145847, -0.2349249146912214, -0.08703360675267253, -0.08016242002008543, -0.24680372424945932, 0.08276695733913526, 0.027829132353270017, -0.013736429874117289, 0.0840802174759852, 0.001079579477725814, 0.011022064080721157, -0.009889810872803977, 0.0013340599866359132, -0.007700542230442456, -0.0006019588098358083, 0.004334754907236159, 0.08713291110728164, 0.058047222991017576, 0.0009369598799821885, 0.023419277576743766, 0.009130640777162446, 0.013957831974575948, 0.016698086530246542, 0.031344450337969815, 0.01967648981953248, 0.015511701410507757, 0.023045690286939605, 0.0203728957097426, 0.028430223213614145, 0.03613211658239412, 0.020793661133434508, 0.028542564897576117, 0.0032810218068874673, 0.032052704981715405, 0.02877028970123699, 0.013432932121158666, 0.023347200382044513, 0.024161462505026782, 0.03664265499914711, 0.0365341616054394, 0.03943081947566133, 0.03564660681684113, 0.03237902579100477, 0.017897964237601698, 0.02719957496262373, 0.04436893168542673, 0.047402969145583805, 0.043008712457159655, 0.04051052717169909], \"topics\": [1, 2, 3, 4, 5, 6, 7, 8, 9, 10, 11, 12, 13, 14, 15, 16, 17, 18, 19, 20, 21, 22, 23, 24, 25, 26, 27, 28, 29, 30, 31, 32, 33, 34, 35, 36, 37, 38, 39, 40, 41, 42, 43, 44, 45, 46, 47, 48, 49, 50], \"cluster\": [1, 1, 1, 1, 1, 1, 1, 1, 1, 1, 1, 1, 1, 1, 1, 1, 1, 1, 1, 1, 1, 1, 1, 1, 1, 1, 1, 1, 1, 1, 1, 1, 1, 1, 1, 1, 1, 1, 1, 1, 1, 1, 1, 1, 1, 1, 1, 1, 1, 1], \"Freq\": [6.6831009899083655, 5.894318842956727, 4.896338612674739, 3.64992316770554, 3.025730197150605, 2.9967772419367886, 2.928102483251888, 2.558850333922992, 2.4216500475141145, 2.204547782022587, 2.157701248422694, 2.1425694182512456, 2.119403745642641, 2.0473824235704, 2.0427721025104053, 2.003438319494357, 1.880170063597209, 1.7952421956634594, 1.7883665956004755, 1.7755960968783517, 1.7182421645448462, 1.6839331463506266, 1.6838053098745616, 1.640870403449071, 1.618167856488319, 1.5871627895078528, 1.5707565404434236, 1.5314512597311123, 1.5251194026422847, 1.5127556166040477, 1.4963981584577861, 1.4703214475610502, 1.4702480160390339, 1.44651470632212, 1.4193899340771796, 1.418596909628391, 1.4146806527344185, 1.4125168914056214, 1.4113632347300948, 1.3999403557028052, 1.3793178038920912, 1.367268190464881, 1.3662660915896403, 1.359108749036247, 1.321701346665746, 1.2873893656255069, 1.2617792594539305, 1.1764842889913978, 1.0901501594065004, 0.946318039903829]}, \"tinfo\": {\"Term\": [\"vaccin\", \"moderna\", \"covaxin\", \"covid19\", \"dose\", \"sinovac\", \"get\", \"covid\", \"pfizer\", \"approv\", \"sputnikv\", \"age\", \"amp\", \"covidvaccin\", \"shot\", \"1\", \"covishield\", \"receiv\", \"india\", \"18\", \"slot\", \"first\", \"bbmp\", \"got\", \"news\", \"sinopharm\", \"do\", \"effect\", \"pincod\", \"slotsag\", \"vaccin\", \"pfizerbiontech\", \"1st\", \"fda\", \"covax\", \"aim\", \"administ\", \"earli\", \"deal\", \"grant\", \"covid19\", \"howev\", \"food\", \"here\", \"initi\", \"light\", \"staff\", \"seruminstindia\", \"player\", \"england\", \"pave\", \"bewar\", \"innov\", \"sought\", \"amaz\", \"spain\", \"vote\", \"though\", \"custom\", \"cypru\", \"shot\", \"first\", \"got\", \"second\", \"booster\", \"2nd\", \"vax\", \"week\", \"p\", \"updat\", \"come\", \"other\", \"today\", \"hope\", \"immunocompromis\", \"yesterday\", \"mani\", \"littl\", \"lowerdos\", \"bodi\", \"hit\", \"symptom\", \"modernatx\", \"almost\", \"wont\", \"superpow\", \"ach\", \"fall\", \"fear\", \"bu\", \"dose\", \"moderna\", \"18\", \"pincod\", \"slotsag\", \"2021fee\", \"agesd\", \"14\", \"date\", \"aug\", \"sep\", \"da\", \"30\", \"oct\", \"20\", \"jul\", \"44\", \"25\", \"15\", \"1410apollo\", \"10\", \"1410rxdx\", \"560011covaxin\", \"560103covaxin\", \"560066covaxin\", \"02\", \"01\", \"07\", \"scan\", \"560038covaxin\", \"70\", \"1410aarthi\", \"2\", \"dose\", \"hospit\", \"hosp\", \"covidvaccin\", \"covishield\", \"slot\", \"avail\", \"bengaluru\", \"45\", \"0paid\", \"1844\", \"urban\", \"research\", \"sputnikvaccin\", \"confirm\", \"flu\", \"offer\", \"rural\", \"uae\", \"0130pmfree\", \"dose10\", \"0930amfre\", \"0100pmfree\", \"0330pmfree\", \"1200pmfree\", \"dose11\", \"1030amfre\", \"0430pmfree\", \"dose21\", \"dose16\", \"0300pmfree\", \"1100amfre\", \"dose19\", \"bbmp\", \"dose2\", \"age\", \"slotscovaxin\", \"apollo\", \"27062021\", \"560011\", \"jayanagarcovaxin1410r\", \"560076\", \"11410r\", \"26062021\", \"20072021\", \"23072021\", \"23062021\", \"g\", \"c11410r\", \"24062021\", \"100d2\", \"uphcfre\", \"covaxin1410r\", \"malathi\", \"4550d1\", \"20d2\", \"21072021\", \"560066\", \"cradl\", \"560078\", \"19062021\", \"560064\", \"43d2\", \"jayanagar1410r\", \"nagar1410r\", \"bbmp\", \"pfizer\", \"peopl\", \"given\", \"went\", \"base\", \"inc\", \"covaxinapprov\", \"real\", \"jandj\", \"dead\", \"instead\", \"actual\", \"admit\", \"person\", \"interim\", \"pericard\", \"place\", \"apart\", \"nih\", \"etc\", \"x\", \"own\", \"fauciouchi\", \"vaccino\", \"breakthrough\", \"vaccinevictim\", \"sequenc\", \"janssen\", \"maderna\", \"yellowcard\", \"moderna\", \"india\", \"health\", \"boost\", \"th\", \"ministri\", \"soon\", \"offici\", \"certif\", \"recognit\", \"reach\", \"sever\", \"clear\", \"decis\", \"authoris\", \"access\", \"welfar\", \"promis\", \"visit\", \"anyth\", \"accept\", \"emergencyus\", \"min\", \"global\", \"effort\", \"bla\", \"smoke\", \"organ\", \"build\", \"staysaf\", \"ensur\", \"covaxin\", \"dose1\", \"road\", \"cloudnin\", \"plot\", \"122001\", \"94\", \"mg\", \"centr\", \"find\", \"marg\", \"hous\", \"thane\", \"tmc\", \"28\", \"17072021\", \"18072021\", \"marathon\", \"circl\", \"98\", \"highway\", \"400602\", \"appart\", \"devashish\", \"150\", \"ground\", \"02082021\", \"breach\", \"candi\", \"besid\", \"vika\", \"hospit\", \"covaxin\", \"1\", \"russia\", \"v\", \"sputnik\", \"indian\", \"made\", \"process\", \"24072021\", \"school\", \"regul\", \"mumbaicovaxin\", \"tire\", \"mumbai\", \"3rd\", \"galaxi\", \"statu\", \"400026\", \"chembur\", \"90\", \"villa\", \"putin\", \"dosag\", \"harmoni\", \"coloni\", \"toward\", \"colombia\", \"evalu\", \"400071\", \"mu\", \"progress\", \"dose2\", \"approv\", \"also\", \"world\", \"would\", \"show\", \"stock\", \"watch\", \"result\", \"usfda\", \"phase\", \"center\", \"drharshvardhan\", \"gavi\", \"trade\", \"invest\", \"area\", \"916\", \"eye\", \"kindli\", \"thei\", \"mileston\", \"navroopsingh\", \"cmoguj\", \"await\", \"candid\", \"mcgm\", \"thi\", \"icmrfightscovid19\", \"novemb\", \"ice\", \"covaxin\", \"sputnikv\", \"fulli\", \"say\", \"frontlin\", \"russian\", \"eu\", \"experi\", \"order\", \"european\", \"part\", \"true\", \"effici\", \"chennai\", \"safer\", \"told\", \"campaign\", \"across\", \"serum\", \"four\", \"california\", \"rdif\", \"reuter\", \"hyderabad\", \"shipment\", \"supp\", \"4th\", \"israel\", \"ambassador\", \"gain\", \"geopolit\", \"do\", \"ocgn\", \"100\", \"govern\", \"ocugen\", \"product\", \"5\", \"vaccigen\", \"never\", \"proud\", \"buy\", \"deliveri\", \"inform\", \"keep\", \"taken\", \"readi\", \"middl\", \"increas\", \"extra\", \"le\", \"forget\", \"cr\", \"covid19india\", \"goi\", \"among\", \"crore\", \"700\", \"taiwan\", \"short\", \"upgrad\", \"covid\", \"day\", \"mom\", \"man\", \"sore\", \"die\", \"post\", \"6\", \"89yearold\", \"8\", \"fever\", \"inject\", \"site\", \"three\", \"privat\", \"novavax\", \"impact\", \"healthi\", \"fine\", \"keshabmahanta\", \"recipi\", \"1410\", \"woke\", \"condit\", \"exactli\", \"780\", \"vaccinati\", \"bit\", \"shame\", \"bet\", \"amp\", \"like\", \"done\", \"gurgaoncovaxin\", \"next\", \"citi\", \"forti\", \"immun\", \"begin\", \"29062021\", \"absolut\", \"schedul\", \"park\", \"122002\", \"opposit\", \"memori\", \"eua\", \"night\", \"sector\", \"max\", \"cocktail\", \"15072021\", \"01082021\", \"dlf\", \"hamilton\", \"schol\", \"huda\", \"anim\", \"except\", \"gurga\", \"cricket\", \"biotech\", \"u\", \"bharat\", \"go\", \"dont\", \"know\", \"chines\", \"panel\", \"want\", \"cvspharmaci\", \"anyon\", \"releas\", \"review\", \"japanes\", \"nyc\", \"saudi\", \"what\", \"reject\", \"charg\", \"homemad\", \"join\", \"interest\", \"hyderabadbas\", \"claim\", \"lie\", \"boostershot\", \"ab\", \"outsid\", \"licenc\", \"faster\", \"get\", \"news\", \"free\", \"back\", \"everyon\", \"famili\", \"june\", \"corona\", \"tomorrow\", \"top\", \"nod\", \"break\", \"pune\", \"medium\", \"immedi\", \"camp\", \"abl\", \"wa\", \"download\", \"normal\", \"reopen\", \"therapi\", \"gene\", \"29\", \"drtomfrieden\", \"keninchausti\", \"britain\", \"nba\", \"vega\", \"nk\", \"good\", \"use\", \"thank\", \"emerg\", \"list\", \"uk\", \"issu\", \"dcgi\", \"posit\", \"administr\", \"congratul\", \"recommend\", \"bring\", \"push\", \"hand\", \"god\", \"logo\", \"vp\", \"event\", \"franc\", \"joebiden\", \"advisori\", \"demand\", \"feb\", \"featur\", \"sourc\", \"anymor\", \"info\", \"period\", \"often\", \"bharatbiotech\", \"probabl\", \"announc\", \"manufactur\", \"anoth\", \"per\", \"everi\", \"level\", \"understand\", \"partner\", \"cost\", \"publish\", \"recent\", \"cdsco\", \"least\", \"gujarat\", \"addit\", \"biolog\", \"submit\", \"bottl\", \"weigh\", \"jump\", \"quick\", \"rule\", \"water\", \"vacin\", \"contain\", \"biden\", \"bhubaneswar\", \"mou\", \"kudo\", \"covaxin\", \"clinic\", \"trial\", \"120029\", \"start\", \"big\", \"pmc\", \"punecovaxin\", \"scienc\", \"safe\", \"411014\", \"nyati\", \"kid\", \"turn\", \"delhi\", \"aundh\", \"j\", \"millenium\", \"vimanngr\", \"roll\", \"coronavaccin\", \"monday\", \"26\", \"societ\", \"co\", \"note\", \"institut\", \"aiim\", \"411007\", \"apolo\", \"colaba\", \"floor\", \"covaxin\", \"need\", \"parent\", \"pleas\", \"child\", \"endors\", \"group\", \"sinc\", \"think\", \"design\", \"n\", \"american\", \"gurleen1984\", \"within\", \"tuesday\", \"cancer\", \"name\", \"success\", \"cdc\", \"microchip\", \"tradit\", \"resid\", \"special\", \"deni\", \"adult\", \"despit\", \"sell\", \"older\", \"adolesc\", \"appear\", \"pharmaci\", \"time\", \"said\", \"efficaci\", \"data\", \"read\", \"doctor\", \"eul\", \"heard\", \"deltavari\", \"must\", \"current\", \"safeti\", \"long\", \"continu\", \"away\", \"till\", \"hey\", \"tri\", \"lead\", \"involv\", \"run\", \"analysi\", \"recognis\", \"demonstr\", \"independ\", \"switch\", \"check\", \"paid\", \"met\", \"gonna\", \"sec\", \"right\", \"complet\", \"cant\", \"intern\", \"nurs\", \"16\", \"juli\", \"johnson\", \"01072021\", \"11\", \"home\", \"fund\", \"opp\", \"ltd\", \"dear\", \"near\", \"122003\", \"modern\", \"union\", \"direct\", \"east\", \"nmmcp\", \"launch\", \"jnj\", \"welcom\", \"kind\", \"qualiti\", \"idea\", \"29072021\", \"pvt\", \"sinovac\", \"take\", \"b\", \"pakistan\", \"mix\", \"sunday\", \"later\", \"rollout\", \"49\", \"thailand\", \"singl\", \"unit\", \"organis\", \"flattenthecurv\", \"journey\", \"pill\", \"indianarmi\", \"herdimmun\", \"conclud\", \"individu\", \"alhamdulillah\", \"peac\", \"suspect\", \"600\", \"strang\", \"vaksin\", \"remind\", \"appro\", \"isupportiqrarulhassan\", \"match\", \"2021sub\", \"channelfarah\", \"savesheikhjarrah\", \"hartaldoktorkontrak\", \"malayjoin\", \"im\", \"month\", \"end\", \"six\", \"arriv\", \"million\", \"dr\", \"via\", \"srilanka\", \"bangladesh\", \"total\", \"thought\", \"ago\", \"deliv\", \"7\", \"lka\", \"blame\", \"fantast\", \"statist\", \"warn\", \"reddi\", \"theyr\", \"fake\", \"coronavirusvaccin\", \"5th\", \"role\", \"approach\", \"skynew\", \"ineffect\", \"togeth\", \"effect\", \"covid19vaccin\", \"side\", \"suppli\", \"chanc\", \"talk\", \"pfizervaccin\", \"spread\", \"friday\", \"low\", \"provid\", \"longer\", \"prevent\", \"muscl\", \"along\", \"maker\", \"profession\", \"zero\", \"whatsapp\", \"minut\", \"left\", \"promot\", \"agre\", \"joint\", \"bear\", \"al\", \"realworld\", \"servic\", \"figur\", \"headach\", \"b16171\", \"let\", \"4\", \"still\", \"wait\", \"swamy39\", \"final\", \"delta\", \"yr\", \"grate\", \"experienc\", \"add\", \"love\", \"nhmassam\", \"word\", \"dolli\", \"assur\", \"power\", \"websit\", \"36\", \"himantabiswa\", \"cowin\", \"decid\", \"phone\", \"appt\", \"colleagu\", \"repthomasmassi\", \"ram\", \"super\", \"sad\", \"nice\", \"china\", \"took\", \"countri\", \"zimbabwean\", \"around\", \"thing\", \"15000\", \"price\", \"move\", \"5g\", \"usa\", \"profit\", \"poor\", \"beyond\", \"200000\", \"popul\", \"colleg\", \"globaltimesnew\", \"past\", \"donat\", \"closer\", \"lakh\", \"led\", \"polit\", \"17th\", \"enter\", \"rumour\", \"bahrain\", \"fo\", \"dutert\", \"sinopharm\", \"gravita\", \"oxfordastrazeneca\", \"ye\", \"studi\", \"trust\", \"inactiv\", \"expert\", \"didnt\", \"e\", \"shortag\", \"la\", \"public\", \"react\", \"activ\", \"appreci\", \"urg\", \"warzon\", \"form\", \"oxfordvaccin\", \"daili\", \"lanka\", \"concern\", \"cours\", \"ccp\", \"affair\", \"argentina\", \"matthancock\", \"67\", \"medicin\", \"shivaroor\", \"particip\", \"sinopharm\", \"jab\", \"50\", \"life\", \"husband\", \"much\", \"develop\", \"woman\", \"w\", \"13\", \"student\", \"believ\", \"17\", \"560078covaxin\", \"indiafightscorona\", \"south\", \"lockdown\", \"myocard\", \"meanwhil\", \"chinaembsl\", \"lane\", \"sri\", \"unlik\", \"fast\", \"invivo\", \"malaysia\", \"angel\", \"400\", \"liber\", \"wish\", \"rna\", \"tomor\", \"yet\", \"see\", \"old\", \"drtedro\", \"r\", \"mohfwindia\", \"lot\", \"risk\", \"pmoindia\", \"patient\", \"major\", \"healthcar\", \"doctorsoumya\", \"step\", \"ani\", \"manag\", \"caus\", \"line\", \"mansukhmandviya\", \"bed\", \"flight\", \"icmrdelhi\", \"lancet\", \"madeinindia\", \"august\", \"de\", \"manip\", \"wellspr\", \"13th\", \"regard\", \"feel\", \"test\", \"drug\", \"tell\", \"gener\", \"infect\", \"set\", \"mayb\", \"inocul\", \"ill\", \"seek\", \"surg\", \"social\", \"slovakia\", \"80\", \"record\", \"pact\", \"otherwis\", \"committe\", \"holi\", \"program\", \"mild\", \"hall\", \"return\", \"america\", \"prepar\", \"dramat\", \"confus\", \"email\", \"vaccinecenturi\", \"new\", \"dgci\", \"receiv\", \"look\", \"may\", \"c\", \"happi\", \"book\", \"happen\", \"accord\", \"support\", \"ok\", \"els\", \"fact\", \"as\", \"zimbabw\", \"senior\", \"rememb\", \"forward\", \"septemb\", \"9\", \"id\", \"covidvacccin\", \"invent\", \"wanna\", \"55\", \"garden\", \"newsom\", \"harar\", \"front\", \"choos\", \"mrnao\", \"that\", \"year\", \"even\", \"follow\", \"expect\", \"allow\", \"call\", \"full\", \"f\", \"author\", \"friend\", \"job\", \"appli\", \"everyth\", \"drop\", \"thousand\", \"ceo\", \"australia\", \"green\", \"airport\", \"cipla\", \"crime\", \"pretti\", \"coimbator\", \"select\", \"ibuprofen\", \"came\", \"singledos\", \"benefit\", \"560097covaxin\", \"astrazeneca\", \"great\", \"includ\", \"viru\", \"live\", \"morn\", \"entir\", \"40\", \"problem\", \"district\", \"sleep\", \"fullyvacinn\", \"twitter\", \"refus\", \"combin\", \"war\", \"repli\", \"preliminari\", \"twodos\", \"88\", \"trend\", \"futur\", \"mutat\", \"project\", \"sh\", \"awar\", \"netherland\", \"mauritiu\", \"wi\", \"knock\", \"2\", \"coronaviru\", \"street\", \"cv\", \"presid\", \"brazil\", \"2021\", \"minist\", \"there\", \"doubt\", \"contract\", \"march\", \"becom\", \"ladi\", \"prime\", \"31\", \"gandhi\", \"hospita\", \"subscrib\", \"97\", \"republ\", \"april\", \"slow\", \"200\", \"seriou\", \"wh\", \"negoti\", \"easili\", \"vladimir\", \"comirnati\", \"anvisa\", \"two\", \"neg\", \"nation\", \"close\", \"16072021\", \"japan\", \"seem\", \"ive\", \"potu\", \"contamin\", \"wednesday\", \"heart\", \"suchitraella\", \"se\", \"diseas\", \"halt\", \"stat\", \"requir\", \"vaer\", \"transmiss\", \"fight\", \"highli\", \"inflamm\", \"advers\", \"investig\", \"terrorist\", \"65\", \"mln\", \"quickli\", \"although\", \"case\", \"report\", \"govt\", \"busi\", \"open\", \"local\", \"moscow\", \"politic\", \"218\", \"usual\", \"38\", \"turkey\", \"15th\", \"0\", \"27\", \"borisjohnson\", \"ctvnew\", \"icu\", \"canada\", \"grow\", \"116\", \"cp24\", \"ontario\", \"del\", \"cityoftoronto\", \"63\", \"celliott\", \"johnsonandjohnsonvaccin\", \"3065\", \"southkorea\", \"1508\", \"new\", \"covid19\", \"team\", \"better\", \"variant\", \"import\", \"realtuckfrump\", \"doubl\", \"icmr\", \"strain\", \"purchas\", \"distribut\", \"procur\", \"respons\", \"60\", \"yall\", \"compar\", \"noth\", \"chile\", \"antibodi\", \"central\", \"17062021\", \"st\", \"mutant\", \"huge\", \"neutralis\", \"multipl\", \"lab\", \"mark\", \"sarscov2\", \"higher\", \"1230pmfree\", \"pandem\", \"mrna\", \"latest\", \"articl\", \"control\", \"behind\", \"hard\", \"mask\", \"biontech\", \"icymi\", \"germani\", \"vaccinessavel\", \"situat\", \"proven\", \"restrict\", \"rais\", \"armi\", \"cannot\", \"kill\", \"oth\", \"mexico\", \"astrazenaca\", \"alway\", \"wo\", \"sister\", \"predict\", \"wear\", \"mandat\", \"pro\", \"cyber\", \"work\", \"well\", \"give\", \"12\", \"young\", \"meet\", \"parti\", \"potenti\", \"bad\", \"play\", \"face\", \"plan\", \"hold\", \"whoafro\", \"ne\", \"simpli\", \"az\", \"mean\", \"put\", \"02072021\", \"achiev\", \"whoeurop\", \"whosearo\", \"opsom\", \"whowpro\", \"pahowho\", \"whoemro\", \"mallig\", \"aint\", \"excel\", \"pvt\", \"worker\", \"elderli\", \"last\", \"death\", \"best\", \"state\", \"market\", \"billion\", \"video\", \"care\", \"worth\", \"itali\", \"trump\", \"tweet\", \"govcanhealth\", \"ban\", \"95\", \"consid\", \"younger\", \"s\", \"region\", \"seen\", \"agenc\", \"salut\", \"reduct\", \"potenc\", \"attent\", \"capit\", \"unitedn\", \"graphic\", \"make\", \"compani\", \"alreadi\", \"ask\", \"thursday\", \"pharma\", \"stop\", \"whole\", \"fullyvaccin\", \"pharmaceut\", \"technolog\", \"gate\", \"couldnt\", \"bill\", \"mission\", \"fauci\", \"urgent\", \"ai\", \"leav\", \"fuck\", \"son\", \"mind\", \"hate\", \"profil\", \"rich\", \"ambani\", \"tn\", \"mess\", \"vivo\", \"edit\", \"shri\", \"3\", \"pm\", \"found\", \"sign\", \"way\", \"rest\", \"sure\", \"differ\", \"un\", \"someth\", \"reaction\", \"foreign\", \"black\", \"agreement\", \"ever\", \"rare\", \"youtub\", \"link\", \"vial\", \"glad\", \"drive\", \"thaw\", \"unvaccin\", \"steel\", \"unicef\", \"vonderleyen\", \"di\", \"fm\", \"thursdayvib\", \"law\", \"batch\", \"could\", \"far\", \"possibl\", \"produc\", \"560001\", \"doesnt\", \"corrupt\", \"block\", \"key\", \"europ\", \"small\", \"explain\", \"without\", \"hasnt\", \"wonder\", \"appoint\", \"elig\", \"cri\", \"experiment\", \"sparsh\", \"nagar1200r\", \"vasanth\", \"modernavaccin\", \"massiv\", \"folk\", \"insid\", \"19d2\", \"pr\", \"one\", \"narendramodi\", \"ji\", \"swadeshi\", \"aiimscovaxin\", \"firebrand\", \"sir\", \"travel\", \"realli\", \"commun\", \"request\", \"wave\", \"modi\", \"indigen\", \"head\", \"reason\", \"bless\", \"debat\", \"yay\", \"congress\", \"abroad\", \"vaccineregistr\", \"mother\", \"consign\", \"postpon\", \"dad\", \"coz\", \"walk\", \"inbound\", \"bori\", \"protect\", \"havent\", \"share\", \"third\", \"getvaccin\", \"high\", \"number\", \"stori\", \"cdcgov\", \"23\", \"guy\", \"johnsonandjohnson\", \"okay\", \"oxygen\", \"sit\", \"your\", \"shit\", \"observ\", \"provision\", \"comment\", \"worldwid\", \"cell\", \"octob\", \"improv\", \"hi\", \"vaccinepassport\", \"measur\", \"matter\", \"vaccinationcovid\", \"mygovindia\", \"save\", \"help\", \"medic\", \"question\", \"19\", \"ad\", \"someon\", \"system\", \"choic\", \"560057\", \"allevi\", \"enough\", \"kenya\", \"challeng\", \"diagnost\", \"africa\", \"offic\", \"brilliant\", \"option\", \"council\", \"creat\", \"discu\", \"hospital1400r\", \"1892d1\", \"cite\", \"center1400r\", \"75d2\", \"availablehelpnagar\", \"cycl\", \"menstrual\", \"rate\", \"scientist\", \"p31410r\", \"due\", \"whether\", \"delay\", \"25062021\", \"0d2\", \"560103\", \"court\", \"isnt\", \"chief\", \"rwmalonemd\", \"560086\", \"field\", \"bellandur\", \"hundr\", \"cm\", \"28062021\", \"81\", \"expir\", \"jp\", \"s2\", \"vydehi\", \"term\", \"sakra\", \"cnbc\", \"harshvshringla\", \"swaminathan\", \"22072021\", \"arm\", \"hour\", \"24\", \"pain\", \"embarrass\", \"strong\", \"sick\", \"suspend\", \"justintrudeau\", \"19072021\", \"sa\", \"send\", \"ward\", \"feder\", \"gift\", \"percentag\", \"basic\", \"sent\", \"sweden\", \"pan\", \"chhattisgarh\", \"32\", \"southafrica\", \"waiver\", \"fatigu\", \"battl\", \"bhavan\", \"terapanth\", \"temperatur\", \"leadership\", \"irregular\", \"ho\", \"h\", \"toronto\", \"stay\", \"22\", \"forc\", \"asia\", \"columbia\", \"yo\", \"kharadi\", \"2anear\", \"empir\", \"icaua\", \"ford\", \"hide\", \"sunglass\", \"mr\", \"trudeau\", \"alon\", \"tribal\", \"bangalor\", \"domin\", \"eat\", \"outstand\", \"oil\", \"impos\", \"abus\", \"accus\", \"thatll\", \"viol\", \"hosp\", \"canada\", \"ontario\"], \"Freq\": [4339.0, 2449.0, 2307.0, 1523.0, 1251.0, 601.0, 616.0, 618.0, 666.0, 540.0, 531.0, 549.0, 472.0, 547.0, 634.0, 453.0, 502.0, 373.0, 448.0, 524.0, 459.0, 537.0, 513.0, 532.0, 360.0, 399.0, 360.0, 330.0, 456.0, 456.0, 4338.2780786861595, 318.83489840966854, 261.367666404726, 238.10116370200936, 129.46309765801513, 110.02795006760587, 93.12266954848688, 52.10632587425347, 38.494183473873754, 34.62739614364014, 1478.255248768891, 24.658456060322663, 19.941741059159703, 16.27870109972382, 14.162434237445007, 13.861409526260369, 13.63497218785342, 13.580014591917509, 12.425881773952622, 11.93481763148472, 9.880686716984668, 9.76344309994878, 8.763591248990396, 8.49925620238001, 8.307602317728119, 8.024742071205416, 7.22598287788434, 7.0311159327464985, 6.895970246327697, 6.419005538994833, 633.6330436426734, 536.8887215626348, 531.2598693587237, 367.92218641921863, 280.438155170844, 250.50712648233204, 199.40872281493446, 137.6928657005702, 131.30708780139105, 128.3870362070644, 123.68442617884476, 117.63415062193425, 350.63677847751313, 97.38947943051501, 92.92017940954145, 68.78191316907959, 65.50345836296775, 55.65283546752753, 90.1240042877434, 37.77285334233362, 32.97751189258931, 32.050931005013815, 29.476700955790786, 22.439104920494067, 19.187321208898897, 18.71268556122945, 15.225431320953335, 14.588820690734563, 12.455342769037195, 11.574108168107127, 780.3491939331217, 1060.256643485634, 523.2493381450416, 455.2132714301477, 455.2127469461305, 423.26747442477097, 303.37241675487854, 250.4129709177315, 144.97291129766643, 140.60960856408775, 139.1471722960487, 99.75229269522953, 98.84686938023758, 91.49060952909427, 84.41135918967537, 79.81126831244352, 74.23019017811257, 65.32999142800293, 64.3139675458779, 45.77830901400628, 38.40891247724395, 28.960515929939252, 27.84871361754303, 27.637188120719703, 25.080530681611922, 25.019469268918634, 25.004087136100853, 23.604007100672593, 22.820464856715528, 22.63336474447579, 20.51474980050712, 20.3993701459358, 237.33065680849495, 470.18514847895386, 70.5157233442223, 26.753828646390023, 546.963074825951, 502.0504124199521, 458.68886226369847, 364.1978199543786, 267.0556359278259, 174.79034260576069, 159.9448156416231, 148.9300224591198, 105.18248619081083, 69.69464382999058, 61.6687057770815, 49.16736757515, 45.2872411248337, 45.2329491009056, 34.034814958744704, 28.10299899238095, 24.075384844176696, 22.56398058582739, 19.88535482962687, 19.292746657112396, 16.992760016405366, 16.37296917839632, 16.21983581865477, 15.574610484926197, 15.498764148745487, 15.243729901545743, 15.180594195226229, 14.724922594578278, 13.767143442728907, 13.37655120367162, 128.9166897913775, 36.60457362038112, 548.5834465956082, 387.84688343681654, 184.00172424522862, 83.97667421342406, 72.80436212960659, 49.56853965471653, 45.38756468437903, 41.65972777671217, 41.13085288172477, 37.2664141832868, 33.28500254189521, 31.799358049265475, 31.536944594593685, 31.38413398057322, 26.953132594202106, 23.59877216016608, 23.081801516538235, 23.0315933276291, 22.585990797866717, 21.387928844958545, 19.60831754167109, 18.809763749888887, 18.579653153132075, 18.14646467108639, 17.473822139181923, 17.426725058505298, 17.398574846413418, 17.333120032677353, 15.97396243091141, 15.925270126534446, 383.7856093263636, 665.5002171357352, 285.2730352630858, 81.00756472488979, 48.47914525237302, 36.435218712900216, 36.34368808528853, 30.4088432609721, 22.995944153064496, 21.993017857197422, 20.524087210673372, 20.028737417868285, 19.86874356609281, 18.5748422978505, 16.607855029052484, 14.217677794427065, 12.954703599387562, 12.608109049531631, 12.31265752625897, 11.833271172471097, 11.222112046598895, 10.691630315789125, 10.578260305881425, 10.416048659609057, 9.74210078716255, 9.010662464983543, 8.745260259835764, 8.7126412092256, 8.671237920178442, 8.59256682243698, 8.517262960365887, 1388.4269767466387, 447.26910099117947, 227.40887337031327, 125.66933189373594, 73.09072354886901, 62.29532293957443, 38.68139571385332, 35.88752392113773, 35.421245329890574, 33.65100394764823, 33.522890461890015, 30.924227394745213, 24.56358493826894, 24.019806705612833, 23.308563184709104, 21.89659979733466, 21.234815165225378, 18.52403482843662, 18.313104331635888, 17.98402041133681, 17.820286266635442, 16.83020184246798, 16.02741788384178, 15.918510639183983, 15.127697705035445, 14.661987606762938, 14.29125667526933, 13.575486447374937, 13.287619084538148, 13.034064683442772, 12.756667066222434, 1263.1335732806936, 207.22419799729795, 165.48986990696565, 122.26680194622277, 113.54376209411969, 101.11133259942686, 96.54532993399052, 94.75222148328028, 60.83088255359705, 40.20136709300399, 39.31329277124814, 29.582046629732822, 26.87296583098105, 25.824061714665092, 23.501954321459554, 23.032033468299066, 22.954994828933533, 22.600669052244506, 20.835717022188902, 20.603493291770242, 20.57435754218142, 20.57260731292002, 20.57260731292002, 20.57260731292002, 20.08892588891889, 19.55191529339343, 19.304671854933027, 18.143347629419136, 17.939655776666317, 16.83751813757033, 16.78942823308461, 336.5547082483615, 294.8881508623499, 452.22475680185505, 193.2751099826463, 186.78795830385639, 117.78770187359407, 93.24163491285871, 76.91847660551451, 67.81899141399684, 54.724109671808314, 52.04086772485459, 38.591084432611034, 38.442504214914806, 37.52637708034877, 34.32616179441865, 27.38890017139822, 24.847950662000347, 24.66128978873111, 21.50520380291385, 20.046503660677832, 19.918807952094195, 18.94310768097682, 18.161241000095867, 18.01050045570336, 17.018984809785106, 16.50737513371315, 16.220223266279426, 13.183832079292614, 13.008738884055596, 11.871174885499785, 10.88779390314518, 10.666344204193793, 322.1479385654715, 539.3157326977866, 147.93594329220733, 128.00043134561392, 114.03565092124852, 84.6151832055921, 73.01529038388553, 67.09175359508066, 54.0083875812324, 52.36193439025385, 45.17908094417217, 39.933553348186116, 27.731220467690356, 23.688956866075173, 17.40251186249128, 16.825495611024877, 15.387486645949451, 13.657600171939201, 12.685869810605627, 11.859155144023159, 11.082944942638091, 10.535633872075367, 10.129680695335976, 9.993461433750781, 9.916575048613671, 9.785292096384095, 8.92375514037072, 8.638185308657842, 8.277566601756106, 8.238125323964658, 8.062617910417035, 390.1187803696621, 530.3356471481604, 276.743048926369, 182.90665787045864, 98.47926641456903, 91.69227652685579, 53.680767729928874, 42.250435412857556, 36.28638798379962, 33.57480663076515, 31.142487811943255, 30.793658226908025, 26.493138468177737, 25.76755858212215, 25.01029252351501, 22.31352742349188, 21.492443617310553, 17.143786685569427, 16.627408728814167, 16.261261414186713, 15.903685087651613, 15.844796862020994, 15.70163006232661, 15.432182031754062, 15.241614778811833, 14.958874493953358, 14.821274021357155, 13.826648170743463, 12.67086366818421, 12.632903339742583, 11.525442597715843, 359.3950802184475, 194.01758385558645, 176.79666872934246, 157.52982405270632, 147.63272221218566, 135.50418231987734, 81.66514748091136, 46.538277432250084, 39.75688932155666, 39.092705963423626, 34.28741754311334, 33.51386459219408, 33.26627686950194, 31.191630270308774, 30.1663369565236, 23.471685712925506, 20.27277573782064, 18.582082201280414, 18.507185259608573, 18.019429341443228, 17.919797056329866, 17.86032249909153, 17.860312936304716, 14.785610413075608, 13.803845709517224, 12.773546276835173, 12.585085265011024, 12.070959962207397, 11.88479162852179, 11.769319782400183, 617.4573764500104, 226.87126319724473, 126.64281720881159, 105.14278038872585, 87.90229878436354, 68.43119298319564, 53.910679435750914, 49.94311676364618, 45.26182396969627, 42.32792228032824, 41.42806441180323, 35.150577086391344, 33.82162696156987, 26.584713604962804, 24.999257849422268, 23.2940178001198, 22.07899187508684, 20.656947133898154, 20.280468021556832, 19.033079148167793, 18.224489050733776, 17.45930219572967, 17.118560670202896, 15.522588434476795, 14.799798578970515, 14.663854094664828, 14.011286043213016, 12.743049850040782, 12.196074637978612, 12.19446535874176, 471.81363271471093, 228.5209260512887, 150.75662975276683, 140.72568814401816, 87.74605748692964, 63.803512879897134, 45.10448563428601, 44.82946090165876, 39.50261005021531, 34.2030336803052, 33.112716919988515, 29.66817309663492, 25.947763849708082, 25.003272701228088, 23.163644445565225, 22.721811094745338, 22.096327892977648, 20.490944005602323, 19.7914457332928, 17.668680534271065, 17.38388505388286, 17.344176113602046, 13.9125864696215, 13.616844873288322, 13.616844873288322, 13.616844873288322, 13.54636618748672, 12.977236692936101, 12.01863655727544, 11.405169753268485, 11.415079854691692, 221.1630438696419, 206.19640998521345, 200.84958415105177, 125.91698071211103, 124.82420032045366, 110.52596981082011, 108.61001872040357, 102.58975672424062, 101.49941978724141, 86.74734492695734, 83.69475890419017, 30.086589989972957, 24.563543664643028, 24.08908494465623, 22.094904556363737, 18.11777067895675, 17.347733722302603, 16.940084796612066, 16.068129340344697, 17.249221699356017, 15.217486871746367, 14.835438376086824, 14.405867878404738, 14.278411630666398, 13.376491944048011, 12.87995209812743, 11.387670288872455, 11.386739177652435, 11.27011436324956, 10.822145016686186, 615.6136597270438, 360.1214033723322, 87.58928079862272, 65.80789343068169, 57.73941006886926, 54.66499593124201, 47.05733780729587, 39.03042493079159, 38.121722199246186, 36.063965292868616, 27.87487253151703, 27.516976494851434, 25.81125203173425, 23.788602915836584, 20.597811091333558, 19.312776541646098, 19.00719457774782, 18.735688742737192, 17.44022580447356, 17.276557107880983, 17.213758760210716, 13.523448240635622, 13.339069189066851, 11.961119150210202, 10.776341317577065, 10.546595981385611, 9.158967548458108, 8.283640131262596, 8.281670697107051, 7.905855268624394, 337.6200729731112, 273.29434632706676, 193.95378190618487, 113.94186132477404, 72.63312031919898, 71.59313631446776, 58.991137626673556, 51.044131209872816, 39.71098165144398, 39.18618124089389, 35.18477793631314, 34.026062753047576, 26.81847496917068, 21.868713849848785, 19.618876024022626, 19.16620593205842, 18.87513150206021, 18.234211810091683, 18.19403684642117, 16.949806683043978, 15.74723470523365, 14.216811946869283, 13.665827529970802, 13.548970833422853, 12.108100481675795, 11.714167655134414, 11.384153930061089, 11.104588630647552, 10.225267767185121, 9.826660798656384, 298.60581786847507, 115.34237101710438, 75.89951064564097, 69.7796188343354, 58.190937823829344, 45.921631833825856, 40.25935875170872, 32.53711631227346, 26.818865312068464, 26.1921429912873, 25.501794740564304, 20.74716518991507, 19.70236223789566, 19.598491099426248, 16.63057273085821, 16.226324825093418, 15.724492654930383, 15.073307913834713, 14.540595243215696, 13.5320272012085, 13.48224601561679, 13.286594728607408, 12.53976076225727, 12.353435121970309, 11.13781588843278, 11.072507315757225, 11.017505931398759, 10.710381566426555, 10.028933293877266, 9.554606322972216, 12.609660545820546, 259.777330422015, 159.1676793597036, 115.11430450893917, 88.5491543268838, 67.98674192259361, 67.80114685261286, 65.90855126349351, 58.374514475189, 57.592009198844515, 57.30285300571458, 50.0574336324898, 49.91680058853699, 41.382236997181096, 40.439818404582994, 38.25951932759503, 32.68655681859276, 28.61797437236145, 27.887006209731837, 27.79898584012008, 24.516047551244338, 22.803910681360293, 22.38255431850061, 20.826679046974252, 20.53763659587714, 20.368699745019477, 18.855723179136138, 18.77126074013009, 18.648553041455504, 15.168311237378054, 13.193197798919082, 13.193197798919082, 42.25274268839474, 98.56852636946785, 189.1257570706811, 181.9918102456529, 134.9094444490841, 108.26150289201985, 89.69527064523204, 63.04548654907419, 54.70059925703785, 51.230194705276425, 39.191987330751054, 32.98966789594081, 32.577287834546084, 82.38547030413136, 30.67844035000655, 28.604105875988395, 23.140563387491373, 22.710263147492814, 22.270542183418943, 21.844067688570636, 19.351084557789868, 17.548455257207763, 16.526530573442308, 15.114464086406908, 14.935275178330029, 14.164198323583618, 13.438933330623422, 13.063757699733062, 13.059064178106475, 12.657107340551962, 12.558691978256043, 11.830092583903893, 149.19299657009762, 113.38348712448598, 111.1574847464233, 79.80662900655093, 63.312839675572064, 56.5655247188515, 53.22659400645334, 42.929851948635175, 35.81676807399638, 34.74839230342328, 32.36296084401867, 31.500545298711767, 31.30775643557, 26.979744620153934, 26.869325659625236, 26.216384620046544, 24.99033211529045, 24.23823200015493, 23.33443690481432, 22.041816297536798, 20.980014704652877, 20.532717547581928, 19.062352571862835, 18.66505099122838, 17.938534377721442, 17.163256883150375, 16.416620870206213, 15.738873765293178, 14.25306551127536, 13.095640212813864, 219.34124587713245, 135.0638941418699, 70.88674601394872, 44.91237301038548, 43.51120498733257, 42.955172091975065, 42.56451279848015, 39.40522951792252, 38.33998331740011, 36.56670120332444, 34.91399484740914, 34.35261071227041, 32.64921413626457, 29.365711820181463, 27.762788153171904, 26.869142383386738, 24.017296095625277, 23.765691999633553, 17.992001149247663, 17.484704369566206, 17.189416645177825, 17.045541949767742, 16.659099012336412, 16.461978729524525, 15.58112952523445, 13.519144454963275, 13.345616225063274, 13.06726344595164, 12.980127299584266, 12.741640129474822, 29.64470907796057, 600.5927071661515, 140.68605435037063, 65.78804745717785, 58.80454834894507, 57.74296025967256, 44.22799474907356, 31.86216583241037, 29.487295687875, 24.195610652953867, 23.354874084662207, 18.2857014333796, 16.70213088981529, 16.18222075623776, 14.315593372990145, 12.279260208239693, 11.733432914106391, 10.321802989297526, 9.749652712963591, 9.200540330191213, 9.118408417204476, 8.960916739929635, 8.950645318946025, 7.797431250821511, 7.574824457286437, 7.454786266284325, 7.1356188154239595, 7.118708640819428, 7.08434954458877, 6.894571091797543, 6.768570516582611, 7.23980835603148, 7.23980835603148, 7.807289334944612, 7.23980835603148, 7.23980835603148, 243.91631766948538, 131.65275732289336, 118.94033560194666, 115.16652043854715, 112.70161338830702, 107.1662704551943, 78.44402584110149, 46.848214352075054, 46.61107660019871, 37.10256313791049, 34.791861538674326, 30.96360282841106, 27.985830462834716, 26.07949889711971, 24.447675517604306, 21.469048123228347, 19.542968504766748, 15.070228632723593, 13.011109645566295, 11.851321667584472, 11.75379345752464, 11.60820146045599, 11.603230575678781, 10.791034690950674, 9.737663926930471, 9.612604521881721, 9.605472263447238, 8.201521382616631, 7.977785795222484, 7.126410092421184, 329.7103423875665, 141.35083031605603, 133.2810521149435, 64.35398008509999, 50.82681637721649, 38.69993340259112, 33.97108257916855, 32.89981191793067, 31.698793348804656, 27.361878346606474, 23.803207040448946, 23.016421215933217, 21.77899884331652, 18.876796700780957, 18.100327875230896, 17.85093961286902, 16.992202019228017, 15.557832216933873, 15.501309001564572, 13.942735279013391, 13.858818932771214, 13.457271185751637, 12.64855496756475, 12.44565458976168, 12.41423865985214, 12.07471658783572, 11.115507421575892, 10.946101179109291, 10.80235291945711, 10.654973668394367, 11.168855550721684, 157.53486749558394, 146.70476631468577, 109.39812734404279, 101.5125602913913, 92.04739480396609, 77.95249739093029, 44.945853555788105, 30.272819644525132, 29.999760958667316, 28.89664715029355, 25.706557490764514, 24.66896954969867, 22.989017363658174, 22.368673352037764, 18.499640074851776, 18.2757789185565, 18.2344055317444, 17.16858833865455, 15.940539723926605, 14.632445063889183, 14.172084228270446, 14.13783190936227, 13.20453812644861, 13.18313507592564, 13.071526814206383, 12.760694236814937, 12.46133222814115, 12.288828298575499, 12.03710270994988, 11.795648743767122, 163.45872226345074, 138.14165717898697, 99.37776774899696, 87.5453915449272, 61.238450351376486, 41.249102692308725, 77.13856144713343, 36.0184757952191, 20.522180043752627, 19.792726895338948, 16.771558002587636, 15.303488782769703, 14.886258554667101, 14.714734174699188, 13.90368141130205, 13.720797145074885, 13.39386675187257, 13.308309623478113, 13.277842203469202, 13.160628473113057, 12.674166297602165, 12.36231757087534, 11.356515888002248, 11.034374646879455, 10.497426132767776, 10.17741613004524, 9.28858718634405, 8.929757447332653, 8.765704670407741, 8.493240913838267, 183.1191301010054, 9.685815146154782, 203.00808037209706, 129.55039282524274, 118.37344820874742, 36.77668008860034, 29.653604298922406, 29.345609105423346, 28.757164671150505, 27.87191943148675, 21.15721239096113, 20.75254320679953, 20.699802618405418, 20.309140517028503, 17.67751605070186, 16.90322700225138, 16.80054143207969, 14.934308261359819, 14.881711212669734, 13.631529945963997, 13.280642013050711, 11.773060735306615, 10.978079754998168, 10.238033469988256, 9.559284619419099, 9.4012764549868, 9.169751184405401, 9.029297584014468, 8.755299085891926, 8.56784648526798, 7.931323085369919, 7.890215193823036, 215.70163816045118, 226.0506929138441, 217.40492358916393, 138.60793675877756, 92.81347073561591, 65.98665600617917, 65.37699713201478, 64.84530521717198, 39.35745082908968, 36.24425546528263, 35.73587399676398, 32.6374871819358, 27.53044713746826, 23.818501058420587, 21.8423289566093, 20.883767258784456, 16.426451875330162, 16.086382788483007, 15.976537117598397, 12.8299382824162, 12.746803136097498, 11.838688695248576, 10.758370842247786, 10.660124237076813, 9.765089376491243, 9.690017078375476, 7.726047309413312, 7.652586559893616, 7.460042239221342, 6.870438806547806, 6.54198537738769, 8.848370933845352, 153.20712003555528, 78.48682078505799, 65.2053046314014, 59.82992146067323, 44.26582058090234, 43.92240474453533, 43.43858224664283, 41.23904780256521, 39.47094203591712, 35.05077045628546, 34.99652327194142, 34.309759117017265, 33.609109924492316, 30.77532667801128, 27.803877993085692, 22.472374646995256, 22.030291659167464, 21.82981609014148, 19.963542803825685, 19.369357381856826, 17.742885412928686, 16.906046046104954, 16.75064367900625, 15.385791407726856, 15.160719100563425, 14.69242569894217, 13.941481645868741, 12.819858908773407, 12.262966105116357, 11.71015981690199, 141.33622532481448, 91.16871581961908, 76.42466805161443, 63.05345560363132, 52.000675972638625, 40.39608268957337, 37.49840649635627, 32.88754466831507, 28.336434490418718, 22.44391262341029, 18.177687213282425, 16.33361430816117, 16.105707829701146, 15.446941963074629, 14.940360306822328, 14.315267148195337, 14.81851776599576, 12.894346326231112, 12.579733501261375, 12.570992656000428, 12.515598905785113, 12.269474401987518, 11.962956250909867, 11.47831520156329, 11.265319920544124, 10.698712784419609, 10.596150193970912, 9.946196134577376, 9.769505833296776, 9.485844115987437, 114.43249468310431, 11.674105961174854, 372.7744211961874, 103.88558496416762, 87.02145682974891, 62.1200578540042, 61.80768165145645, 32.29968687490194, 32.256594958050826, 31.220423518598306, 29.75543615579582, 29.29717151899586, 21.381011177702824, 19.277702033261935, 15.054320125771135, 14.260948817072464, 13.32946632348703, 12.651124642598356, 12.09296488392579, 11.894533054372031, 11.869212082595588, 10.802176094611891, 10.736293826624813, 10.406445267629012, 9.24874169475318, 8.554281149817367, 8.290577354304576, 7.91650158543775, 7.311538879840317, 6.9681726231023875, 6.661327692832995, 6.519537469511047, 142.586075583932, 104.98509971578987, 64.8660646957262, 63.49738966496789, 61.22834755288455, 56.23803242544258, 52.30633172896775, 49.007439974420784, 46.32703546660175, 43.740022191811526, 41.92163280765613, 37.11956676660499, 35.16072633859544, 29.241358086040822, 19.13303015024481, 19.086815204600228, 18.787260462318823, 17.373420415460945, 17.23822558139151, 16.12824826897941, 13.327758889707086, 13.193837095210979, 11.448620418025804, 11.003552823122853, 9.437617357550673, 9.218489679189558, 8.803799498950648, 8.759048712866884, 8.147360580200358, 7.95628652712749, 186.8033219730533, 90.0052253296147, 69.07866652230835, 46.35808411035891, 45.21675611912526, 39.35214751632157, 31.187877478408858, 29.775943927284704, 29.727555215230897, 27.56571283765524, 26.07854597611574, 22.124185886770444, 20.663857167460122, 19.073275977744785, 18.57014151260225, 16.94751692394081, 16.421183961188223, 13.647064586855942, 13.10946083103225, 12.96595230685479, 12.350470647396934, 12.072685868319796, 11.114933158702687, 10.93920288492262, 10.852561588623475, 10.282844223414239, 9.715621346346403, 9.639695615735224, 9.452802689101118, 8.874095159577681, 174.43670373160225, 139.43108760957227, 107.08457157657507, 97.8004911484911, 57.389287615885735, 50.02453012413621, 49.44787104045659, 38.454560709623, 28.71707628436797, 27.70308210395565, 27.523948548566104, 25.415205489884965, 21.942734476850763, 21.501865995840713, 18.166994247441455, 16.815002006891696, 16.504689778467558, 14.283758997388192, 14.139557007942729, 13.734921949387742, 13.472848097619616, 12.69392850027612, 12.158124271288814, 11.862454761079043, 11.366498110943443, 10.900644121031783, 10.786395917708035, 10.746500033961457, 9.391645926361422, 8.289161137961393, 8.284488233295178, 90.1821417035138, 89.2607079963553, 60.840178722404225, 41.59065353743127, 41.1197999063602, 40.60867775258587, 37.984993552606646, 30.215416363575446, 28.88309809968295, 25.98114004639089, 25.481756546876284, 23.693362439961366, 22.87614886141244, 21.930911772005032, 21.79945973834092, 20.404027213216228, 18.27934028949927, 18.196788235075406, 16.500987987145262, 15.71099681635776, 15.334375327329555, 14.964123356200638, 14.628330730168026, 14.491118588244593, 14.484836128865298, 14.329900455153014, 14.064158280072947, 13.528013924769798, 13.52493680180851, 13.327583051390173, 179.0773940667501, 169.33304766270672, 85.92496442093987, 62.59427348074629, 43.870815066036826, 35.692889646939236, 32.178808521675435, 30.48031656209553, 28.82175465192933, 28.619420933798096, 20.863937000472706, 20.096502160824006, 19.63241636118273, 19.157972363239246, 14.627676531636501, 13.290040396938723, 10.761277755007283, 10.0714283778322, 110.44223575268435, 8.183877200063527, 7.872525891495749, 7.8354142759541325, 70.38633470316933, 7.004931283686158, 6.285579115316644, 5.723727756181785, 5.6459437957751435, 5.475313709737894, 4.802364280836665, 4.744630979434022, 5.785976392275599, 62.17858171395309, 44.01003354477222, 119.36576037495507, 73.36058056368645, 72.54394742598569, 49.60660482730271, 79.86588112209598, 46.53740290418504, 41.96081765668287, 40.004933567640656, 34.239617346708286, 28.26953446750456, 27.86121474645808, 26.6526217854391, 25.688341358789728, 25.516587650211665, 24.2375557152744, 23.799933179337366, 22.057151731137296, 18.50433830716803, 17.57942723363566, 16.18694303297836, 14.434969780967956, 14.304733647145001, 13.785927876903019, 13.02378832917863, 12.750921626490806, 12.563849820993566, 11.71316981328065, 11.658828316765806, 10.507661276139725, 10.276220734520281, 135.97875082919012, 120.08193042326502, 37.73305544450613, 33.589649522408756, 31.673271724128696, 31.317843228663506, 29.16468003001678, 26.06927446626288, 23.188517187637654, 21.708350953782258, 19.64914884076368, 19.408703580127174, 18.490070778344187, 18.23162385559731, 18.15600144158803, 17.29655947805895, 17.080177326253388, 15.180964965555608, 14.509103439341967, 14.464804011893383, 13.591387177437223, 13.385959409468574, 13.266812374918095, 13.097241473766964, 12.959968367053909, 12.819266109851366, 12.522648135834938, 11.733860058281001, 11.537897690549812, 11.464331192023437, 132.19607761598593, 81.90659317963663, 80.60109419470518, 77.5738621248691, 32.60668007300242, 31.921789530184494, 28.65872625234527, 28.216564996766266, 27.214137871736312, 23.907168069630973, 23.217449183761016, 21.869769756437435, 21.545036740566164, 20.74105592083333, 20.59298933734604, 19.01445856538065, 18.45862739859057, 17.033024356530433, 16.474417400156568, 15.378595968190986, 14.620319609590293, 13.519196528864242, 13.210332531778352, 13.078644200280896, 13.071217362027616, 13.070597222205015, 13.070597222205015, 12.221965554212442, 11.245146142486764, 11.154206620768303, 12.161687026216672, 140.1092793392287, 92.59211272540826, 77.81542528113594, 56.47294780428012, 49.68546008794333, 48.66329722094935, 36.524696476463085, 34.47091787139319, 31.264073680833036, 29.168411253942203, 22.119961502331005, 20.57637475741303, 20.128671577116094, 19.35869967533856, 18.651204140982173, 17.556990450200917, 13.913201068412993, 13.89977128120018, 12.742691842277537, 11.353763117899138, 10.633548839384295, 10.311381695482895, 10.0706251336698, 10.023905603457544, 9.716226346552228, 8.314020970856921, 8.264221793130016, 7.920529436764899, 7.784185392037711, 7.6892326717777895, 122.0930740444287, 93.71858028344676, 61.61233054208374, 61.28083397637399, 55.82540813913725, 52.13071225675616, 37.66824853290105, 27.27819101016723, 26.96843437515482, 25.960497958785822, 24.46451306593947, 21.568774129972812, 21.079947592817867, 15.67524826054159, 14.881444821909307, 13.84686059013747, 13.58302936802205, 13.27497988967282, 12.399113170887881, 12.23006423258994, 12.162570520027431, 11.749925276863486, 9.969240354041434, 9.961399485703259, 9.960555823831285, 9.568081422331543, 9.380555068550033, 9.119914658017313, 9.098194560239204, 9.082547912573805, 100.38135529653131, 77.09082175600717, 63.38900135280701, 57.066424857588316, 56.52916373178491, 47.468625753776095, 34.37841590349876, 33.120381520685704, 30.788349311177246, 30.06829561392974, 28.795461472279783, 25.30285101749085, 20.08303187208849, 19.53993651914574, 18.813454043260496, 18.54357187323013, 17.636540876684453, 17.287328767367352, 15.494914546781558, 15.268237976792035, 14.78762998633029, 14.431024095558824, 12.378777912002024, 10.814471758474959, 11.206054808998624, 14.001699983060947, 9.471148200972047, 9.463852749188574, 9.25471087492855, 9.080549971648283, 98.37447739822943, 84.16630147038441, 62.57513111493745, 47.580517029183476, 42.055765691524385, 33.566817676815326, 31.488265868642383, 27.431621596228883, 27.396626731477603, 26.040028264132932, 25.872008631386645, 24.80018550129515, 24.4661647036906, 24.115765654252378, 23.666340357917214, 23.279522445721064, 22.995177795830923, 22.28702616518212, 21.440185621112498, 20.858395236370075, 18.67637230573311, 17.773139014192477, 17.771038655045288, 17.77061555020625, 16.724111984245773, 16.157536692155873, 16.113131915124228, 15.771420921681848, 15.698965355375442, 15.57155317164307, 175.3753388635218, 91.48709550181893, 87.74053681859415, 72.65906174197454, 70.02589777625667, 70.02589777625667, 38.05285312634715, 35.114689997335354, 26.841722634013383, 25.384781337539486, 23.606914887188857, 21.801204867785227, 19.18280772711649, 18.788610333577186, 17.224096705860493, 17.13829928442, 15.955000691218588, 12.411095408303616, 11.368319090283917, 10.81790128222049, 9.678892840809318, 9.829368307068293, 8.942296235714213, 8.37584477920035, 7.433955681273171, 7.009457022291731, 6.755128582901804, 6.74765742184129, 6.724570708295728, 6.6276528190351005, 218.9202673879251, 92.72458188659516, 57.994702587369986, 47.7490627165242, 41.208290779129534, 39.55253243290719, 32.57582050384561, 30.024626779884073, 29.85542383397549, 22.013053315236004, 20.754350891211182, 17.643271959649493, 17.37473213184587, 17.362606806551582, 15.47753602064746, 14.752278958544942, 14.52037080001388, 13.548503209473058, 13.472401387006421, 12.495991647599286, 12.375653432236353, 11.975150676957012, 11.281797111137342, 11.073572911946359, 10.779955021236956, 10.658153033042028, 10.046230629440423, 9.746603225833418, 9.128554236237244, 9.103034455818372, 137.79025588453524, 80.43749456132689, 70.8703324275761, 55.28638099112912, 48.60847387769746, 35.00019435060356, 26.462854677125314, 22.705176466485874, 21.132904178750987, 19.807216377288057, 19.540738211045888, 18.071226002126696, 17.467136740639173, 15.616958331933294, 15.337486621993666, 14.725213216014502, 14.644862741168081, 13.196956223177613, 12.75495469657548, 11.195485181580091, 11.193174811528348, 10.086861644536649, 9.894249852425911, 9.82280929645362, 9.820264510427707, 9.665003700820135, 9.227148450758147, 9.006027311686559, 8.298603546653837, 8.298603546653837, 54.92783301020748, 53.53218476048728, 39.428642269885316, 39.309871627687414, 37.893064781091304, 35.463210360657506, 29.67062504834744, 27.37027678352829, 24.819191663163284, 21.031704367555125, 17.28274572428027, 16.8156222430218, 15.836487759622907, 15.467644503721765, 15.050167192909402, 14.036809814575951, 13.470132758973323, 12.325764835397486, 12.222947812000498, 12.076931439677296, 11.99457332757893, 11.626705430747078, 11.310032726840154, 11.2863103664887, 10.929580991464277, 10.771585293183064, 10.606563202683315, 9.372327033448677, 9.329557603896879, 9.16930860300135, 93.317710089939, 72.35762020841743, 58.59523804808364, 34.86517019176407, 28.274318855233027, 27.444472283372377, 26.308020286099254, 25.800341743049977, 24.259021210487088, 19.72423744170132, 19.537719749441354, 18.055867726927623, 15.942074748294566, 15.863722866730281, 14.195096491856757, 10.716576076927996, 10.620596147180432, 10.280179706911317, 9.738016264193536, 9.712637932474529, 8.970368408988953, 8.832830221845464, 8.809482667551379, 8.347293782100095, 8.067367018485843, 7.990148820395668, 7.902774910583013, 7.902774910583013, 7.6842312683787, 7.454133664287215, 8.761911751987501, 42.89378531936682, 37.249526640129694, 34.675713427476154, 32.84405254734289, 32.18613222802277, 31.527189788299776, 31.447760051537898, 27.82022095264788, 20.564445854593163, 19.517146233616877, 19.403162914144755, 19.403162914144755, 16.406806394036145, 14.751618613914525, 13.283218057869867, 13.020162490095275, 12.276489647884777, 11.829866324120358, 11.217084024409624, 9.436384504817392, 8.089241956794003, 7.345513679334385, 6.7317346010489505, 6.731066738285712, 6.675806770141289, 6.6279936037956695, 6.4963824030573125, 6.461972951994784, 6.461795559197592, 6.459871164120907, 36.97948411914664, 9.115376399655279, 7.626241476574509], \"Total\": [4339.0, 2449.0, 2307.0, 1523.0, 1251.0, 601.0, 616.0, 618.0, 666.0, 540.0, 531.0, 549.0, 472.0, 547.0, 634.0, 453.0, 502.0, 373.0, 448.0, 524.0, 459.0, 537.0, 513.0, 532.0, 360.0, 399.0, 360.0, 330.0, 456.0, 456.0, 4339.137538850198, 319.69435857370627, 262.2271265687637, 238.9606238660471, 130.32255782205286, 110.88741023164353, 93.98212971252454, 52.965786038291185, 39.35364363791147, 35.486856307677854, 1523.108522704866, 25.517916224360366, 20.801201223197406, 17.13816126376152, 15.021894401482692, 14.720869690298054, 14.494432351891104, 14.439474755955194, 13.285341937990305, 12.794277795522403, 10.7401624006796, 10.622903263986464, 9.623051413028081, 9.358716366417694, 9.167062481765802, 8.8842022352431, 8.085443041922026, 7.890576096784189, 7.7554304103653875, 7.530442634668193, 634.4949392265886, 537.75061714655, 532.1217649426388, 368.78408200313385, 281.30005075475924, 251.36902206624728, 200.2706183988497, 138.55476128448544, 132.1689833853063, 129.24893179097964, 124.54632176275992, 118.49604620584941, 353.42158581004867, 98.25137501443017, 93.7820749934566, 69.64380875299474, 66.3653539468829, 56.51473105144274, 92.06581359676046, 38.634748926248825, 33.83940747650452, 32.91282658892902, 30.338596539705982, 23.301000504409263, 20.049216792814093, 19.574581145144645, 16.087326904868515, 15.450716274649741, 13.317238352952375, 12.436003752022307, 1251.378383232401, 2449.5254452736476, 524.1111877031963, 456.0751209883024, 456.0745965042852, 424.12932398292565, 304.23426631303323, 251.27482047588614, 145.83476085582106, 141.47145812224238, 140.00902185420333, 100.6141422533841, 99.70871893839215, 92.35245908724885, 85.27320874782994, 80.67311787059809, 75.09203973626714, 66.1918409861575, 65.17581710403248, 46.64015857216091, 39.270762035398576, 29.822365488093865, 28.710563175697644, 28.499037678874316, 25.942380239766536, 25.881318827073247, 25.865936694255467, 24.465856658827207, 23.68231441487014, 23.495214302630405, 21.376599358661732, 21.261219704090415, 412.61057366359597, 1251.378383232401, 407.91752032919493, 64.57998358534262, 547.8238618075951, 502.91119940159626, 459.5496492453426, 365.0586069360227, 267.91642290947004, 175.6511295874048, 160.80560262326722, 149.79080944076392, 106.04327317245489, 70.55543081163464, 62.529492758725596, 50.0281545567941, 46.148028106477796, 46.0937360825497, 34.8956019403888, 28.96378597402504, 24.936171825820786, 23.42476756747148, 20.74614181127096, 20.153533638756485, 17.853546998049456, 17.23375616004041, 17.08062280029886, 16.435397466570286, 16.359551130389576, 16.104516883189817, 16.0413811768703, 15.585709576222351, 14.627930424372979, 14.240065082986645, 513.5473673992542, 359.59356068930924, 549.4474322172211, 388.7108690584296, 184.86570986684163, 84.84065983503703, 73.66834775121956, 50.43252527632954, 46.25155030599204, 42.52371339832518, 41.99483850333778, 38.13039980489981, 34.14898816350822, 32.66334367087848, 32.40093021620669, 32.248119602186215, 27.817118215815107, 24.462757781779082, 23.945787138151235, 23.8955789492421, 23.449976419479718, 22.251914466571545, 20.472303163284092, 19.673749371501888, 19.443638774745075, 19.010450292699392, 18.337807760794924, 18.2907106801183, 18.262560468026418, 18.197105654290354, 16.83794805252441, 16.789255748147447, 513.5473673992542, 666.359850914938, 286.1326690422886, 81.86719850409257, 49.33877903157586, 37.294852492103054, 37.203321864491365, 31.26847704017493, 23.855577932267323, 22.85265163640025, 21.3837209898762, 20.888371197071113, 20.728377345295637, 19.434476077053326, 17.46748880825531, 15.077311573629872, 13.814337378590372, 13.467742828734439, 13.172291305461778, 12.692904951673905, 12.081745825801702, 11.551264094991934, 11.437894085084233, 11.275682438811865, 10.601734566365357, 9.87029624418635, 9.604894039038571, 9.57227498842841, 9.53087169938125, 9.452200603241856, 9.376896739568695, 2449.5254452736476, 448.1295772128444, 228.2693495919782, 126.52980811540083, 73.95119977053389, 63.15579916123936, 39.541871935518245, 36.74800014280265, 36.2817215515555, 34.51148016931315, 34.38336668355494, 31.784703616410127, 25.424061159933853, 24.880282927277747, 24.16903940637402, 22.757076018999573, 22.095291386890292, 19.384511050101533, 19.173580553300802, 18.844496633001725, 18.680762488300356, 17.690678064132893, 16.887894105506692, 16.7789868608489, 15.988173926700343, 15.522463828427837, 15.19173242795211, 14.435962669039837, 14.148095306203048, 13.89454090510767, 13.617143287887332, 2307.278613204254, 208.0891414974984, 166.3548134071661, 123.13174544642314, 114.40870559432005, 101.97627609962723, 97.41027343419088, 95.61716498348065, 61.69582605379746, 41.0663105932044, 40.23861834879713, 30.446990129933234, 27.737909331181463, 26.689005214865503, 24.366897821659965, 23.896976968499477, 23.819938329133944, 23.465612552444917, 21.700660522389313, 21.468436791970653, 21.43930104238183, 21.43755081312043, 21.43755081312043, 21.43755081312043, 20.9538693891193, 20.416858793593843, 20.169615355133438, 19.008291129619547, 18.80459927686673, 17.702461637770742, 17.65437173328502, 407.91752032919493, 2307.278613204254, 453.0847226454115, 194.13507582620275, 187.64792414741282, 118.64766771715044, 94.10160075641508, 77.77844244907088, 68.67895725755321, 55.58407551536473, 52.90083356841101, 39.45105027616745, 39.30247005847122, 38.38634292390519, 35.18612763797507, 28.24886601495463, 25.707916505556756, 25.52125563228752, 22.36516964647026, 20.90646950423424, 20.778773795650604, 19.80307352453323, 19.021206843652276, 18.87046629925977, 17.879202628324446, 17.36734097726956, 17.080189109835835, 14.043798275755726, 13.868704727611986, 12.731140729056177, 11.74775974670157, 11.526310047750185, 359.59356068930924, 540.1765042949883, 148.7967148894089, 128.86120294281548, 114.89642251845005, 85.47595480279364, 73.87606198108706, 67.9525251922822, 54.86915917843398, 53.222705987455434, 46.039852541373754, 40.7943249453877, 28.59199206489193, 24.549728463276747, 18.263283459692854, 17.68626720822645, 16.248258243151014, 14.518371769140755, 13.546641407807181, 12.719926741224713, 11.943716539839647, 11.396405469276923, 10.990452292537531, 10.854233030952335, 10.777346645815227, 10.646063693585651, 9.784526737572273, 9.498956905859396, 9.138338330677161, 9.098896921166213, 8.923389514347315, 2307.278613204254, 531.1962361155474, 277.603637893756, 183.76724683784565, 99.33985538195599, 92.55286549424275, 54.54135669731588, 43.11102438024456, 37.14697695118662, 34.435395598152155, 32.00307677933025, 31.654247194295017, 27.35372743556473, 26.62814754950914, 25.870881490902, 23.174116390878872, 22.353032584697544, 18.00437565295642, 17.48799769620116, 17.121850381573704, 16.764274055038605, 16.705385829407987, 16.5622190297136, 16.292770999141048, 16.10220374619881, 15.819463461340332, 15.68186298874413, 14.687237138130437, 13.531452635571187, 13.493492307129559, 12.386031565102817, 360.2540051717692, 194.87650880890814, 177.65559368266415, 158.388749006028, 148.49164716550735, 136.36310727319903, 82.524072434233, 47.39720238557177, 40.615814274878346, 39.95163091674531, 35.146342496435025, 34.372789545515765, 34.12520182282362, 32.05055522363046, 31.02526190984528, 24.330610666247185, 21.13170069114232, 19.441007154602094, 19.366110212930252, 18.878354294764907, 18.778722009651545, 18.71924745241321, 18.719237889626395, 15.644535366397273, 14.66277066283889, 13.632471230156836, 13.444010218332688, 12.92988491552906, 12.743716581843453, 12.628244763921899, 618.3190163841498, 227.7329031313841, 127.50445714295093, 106.00442032286519, 88.76393871850287, 69.29283291733498, 54.77231936989028, 50.80475669778555, 46.12346390383564, 43.18956221446761, 42.289704345942596, 36.01221702053071, 34.68326689570924, 27.446353539102162, 25.860897783561626, 24.155657734259158, 22.940631809226197, 21.51858706803751, 21.14210795569619, 19.89471908230715, 19.086128984873135, 18.320942129869028, 17.980200604342254, 16.384228368616157, 15.661438513109863, 15.525494028804173, 14.872925977352361, 13.60468978418013, 13.057714572117957, 13.056105292881108, 472.6745946760921, 229.38188801266992, 151.61759171414803, 141.58665010539937, 88.60701944831081, 64.6644748412783, 45.965447595667214, 45.69042286303997, 40.36357201159652, 35.063995641686404, 33.97367888136972, 30.529135058016116, 26.80872581108928, 25.864234662609284, 24.024606406946422, 23.582773056126534, 22.957289854358844, 21.35190596698352, 20.652407694673997, 18.52964249565226, 18.244847015264057, 18.205138074983243, 14.773548431002682, 14.477806834669506, 14.477806834669506, 14.477806834669506, 14.407328148867903, 13.838198654317283, 12.879598518656623, 12.266131714649669, 14.415114501117294, 222.0258997936923, 207.05926590926384, 201.71244007510217, 126.77983663616136, 125.68705624450399, 111.38882573487045, 109.47287464445391, 103.45261264829095, 102.36227571129174, 87.61020085100768, 84.5576148282405, 30.949445914023336, 25.426399588693407, 24.951940868706608, 22.957760480414116, 18.980626603007128, 18.210589646352982, 17.802940720662445, 16.930985264395076, 18.202116584962862, 16.08034279579673, 15.698294300137187, 15.268723802455101, 15.14126755471676, 14.239347868098376, 13.742808022177792, 12.25052621292282, 12.2495951017028, 12.132970287299925, 11.685000940736549, 616.4756459569, 360.9833896021885, 88.45126702847892, 66.66987966053789, 58.60139629872551, 55.52698216109826, 47.91932403715212, 39.89241116064784, 38.983708429102435, 36.925951522724866, 28.736858761373263, 28.378962724707666, 26.67323826159048, 24.650589145692816, 21.45979732118979, 20.17476277150233, 19.869180807604053, 19.597674972593424, 18.30221203432979, 18.138543337737215, 18.075744990066948, 14.38543447049184, 14.20105541892307, 12.823105380066421, 11.638327547433283, 11.40858221124183, 10.020953778314327, 9.145632047015201, 9.143775443608817, 8.767841498480612, 338.4828834640807, 274.1571568180363, 194.8165923971544, 114.80467181574353, 73.49593081016847, 72.45594680543725, 59.85394811764311, 51.90694170084237, 40.57379214241353, 40.04899173186344, 36.04758842728269, 34.88887324401713, 27.681285460140217, 22.73152434081832, 20.481686514992163, 20.029016423027958, 19.737941993029747, 19.09702230106122, 19.056847337390707, 17.812617174013514, 16.610045196203185, 15.079622437838802, 14.528638020940322, 14.411781324392374, 12.970910972645315, 12.576978146103935, 12.24696442103061, 11.967399121617072, 11.08807825815464, 10.689471289625905, 299.4682384117604, 116.20479156038968, 76.76193118892627, 70.64203937762069, 59.053358367114704, 46.784052377111216, 41.12177929499408, 33.39953685555882, 27.681285855353803, 27.05456353457264, 26.364215283849642, 21.609585733200408, 20.564782781181, 20.489456890992315, 17.492993274143547, 17.088745368378756, 16.586913198215722, 15.935728457120033, 15.403015786501017, 14.394447744493823, 14.34466655890211, 14.149015271892731, 13.402181305542593, 13.21585566525563, 12.000236431718102, 11.934927859042547, 11.879926474684082, 11.572802109711878, 10.891353837162589, 10.417026866257538, 13.988735880611195, 2307.278613204254, 160.03013668439283, 115.97676183362833, 89.41161165157295, 68.84919924728277, 68.66360417730202, 66.77100858818267, 59.23697179987824, 58.45446652353375, 58.16531033040382, 50.919890957179035, 50.779257913226225, 42.244694321870334, 41.30227572927223, 39.12197665228427, 33.549014143282, 29.480431697050665, 28.749463534421054, 28.661443164809295, 25.378504875933555, 23.66636800604951, 23.245011643189827, 21.68913637166347, 21.400093920566356, 21.231157069708694, 19.718180503825355, 19.633718064819305, 19.51101036614472, 16.030768562067255, 14.05565512360828, 14.05565512360828, 55.45061790409991, 2307.278613204254, 189.98912274589108, 182.8551759208629, 135.7728101242941, 109.1248685672298, 90.55863632044199, 63.9088522242842, 55.56396493224786, 52.09356038048644, 40.05535300596107, 33.853033571150824, 33.440653509756096, 84.6704880407748, 31.541806025216545, 29.46747155119839, 24.003929062701367, 23.57362882270281, 23.133907858628938, 22.70743336378063, 20.214450232999862, 18.411820932417758, 17.389896248652303, 15.977829761616889, 15.79864085354001, 15.027563998793598, 14.302299005833403, 13.927123374943042, 13.922429853316455, 13.520473015761942, 13.422057653466023, 12.693458259113873, 150.05365993924315, 114.2441504936315, 112.0181481155688, 80.66729237569645, 64.17350304471763, 57.426188087997076, 54.08725737559892, 43.79051531778075, 36.677431443141955, 35.60905567256886, 33.22362421316425, 32.361208667857326, 32.168419804715555, 27.84040798929949, 27.72998902877079, 27.0770479891921, 25.850995484436005, 25.098895369300486, 24.195100273959877, 22.902479666682353, 21.840678073798433, 21.393380916727484, 19.92301594100839, 19.525714360373936, 18.799197746866998, 18.02392025229593, 17.27728423935177, 16.599537134438734, 15.1137288804209, 13.956303581959405, 220.20469496068003, 135.92734322541747, 71.75019509749629, 45.775822093933094, 44.37465407088018, 43.81862117552268, 43.427961882027766, 40.268678601470135, 39.203432400947726, 37.430150286872056, 35.77744393095676, 35.216059795818026, 33.51266321981218, 30.22916090372906, 28.6262372367195, 27.732591466934334, 24.880745179172873, 24.62914108318115, 18.85545023279526, 18.348153453113802, 18.052865728725422, 17.90899103331534, 17.52254809588401, 17.32542781307212, 16.44457860878205, 14.382593538510855, 14.209065308610855, 13.930712529499221, 13.843576383131847, 13.605089213022403, 42.65207911569037, 601.454616736081, 141.54796392030008, 66.64995702710729, 59.66645791887455, 58.60486982960204, 45.08990431900304, 32.72407540233985, 30.34920525780447, 25.057520222883337, 24.216783654591676, 19.14761100330907, 17.56404045974476, 17.04413032616723, 15.177502957067698, 13.141169778169148, 12.595342484035847, 11.183712560822293, 10.611562825435877, 10.062449900120669, 9.980317987133931, 9.82282630985909, 9.81255488887548, 8.659340820750966, 8.436734950993074, 8.31669583621378, 7.997529162087194, 7.980618210748891, 7.9462591145182335, 7.756504988372265, 7.630480086512074, 9.234408690765324, 9.234408690765324, 14.66992728226878, 9.234408690765324, 9.234408690765324, 244.77808661570126, 132.51452626910924, 119.80210454816253, 116.02828938476303, 113.5633823345229, 108.02803940141017, 79.30579478731737, 47.70998329829097, 47.472845546414625, 37.964332084126404, 35.65363048489024, 31.825371774626962, 28.84759940905062, 26.941267843335613, 25.30944446382021, 22.330817069444254, 20.404737450982655, 15.931997578939482, 13.872878591782184, 12.713090613800361, 12.61556240374053, 12.46997040667188, 12.46499952189467, 11.652803637166564, 10.59943287314636, 10.47437346809761, 10.467241209663127, 9.06329032883252, 8.839554741438373, 7.988179038637083, 330.56943304514544, 142.20992097363492, 134.14014277252238, 65.21307074267887, 51.6859070347954, 39.55902406017003, 34.83017323674746, 33.75890257550958, 32.55788400638357, 28.220969004185374, 24.662297698027846, 23.875511873512117, 22.63808950089542, 19.735887358359857, 18.959418532809796, 18.71003027044792, 17.851292676806917, 16.416922874512775, 16.367572176950606, 14.801825936592277, 14.7179095903501, 14.316361843330522, 13.507645625143637, 13.304745247340566, 13.273329317431026, 12.933807245414606, 11.974598079154777, 11.805191836688177, 11.661443577035996, 11.514064325973253, 12.091487844135656, 158.39742101130662, 147.56731983040845, 110.26068085976549, 102.37511380711399, 92.90994831968878, 78.81505090665298, 45.80840707151083, 31.13537316024785, 30.862314474390033, 29.759200666016266, 26.56911100648723, 25.531523065421386, 23.85157087938089, 23.23122686776048, 19.362193590574492, 19.138332434279217, 19.096959047467116, 18.031141854377267, 16.80309323964932, 15.494998579611885, 15.034637743993148, 15.000385425084971, 14.067091642171311, 14.045688591648341, 13.934080329929085, 13.623247752537639, 13.323885743863851, 13.151381814298201, 12.899656225672581, 12.658202259489824, 164.3232215288366, 139.00615644437283, 100.24226701438282, 88.40989081031306, 62.10294961676237, 42.11360195769461, 78.89649066258308, 36.88297506060499, 21.38667930913851, 20.657226160724832, 17.63605726797352, 16.16798804815558, 15.75075782005297, 15.579233440085057, 14.76818067668792, 14.585296410460753, 14.258366017258439, 14.172808888863981, 14.14234146885507, 14.025127738498925, 13.538665562988033, 13.226816836261209, 12.221015153388116, 11.898873912265323, 11.361925398153645, 11.041915395431108, 10.153086451729918, 9.794260251834316, 9.63020393579361, 9.357740179224136, 399.6682986160076, 11.084914024655847, 203.87081578300607, 130.41312823615175, 119.23618361965643, 37.63941549950937, 30.516339709831435, 30.208344516332374, 29.619900082059534, 28.734654842395777, 22.01994780187016, 21.615278617708558, 21.562538029314446, 21.17187592793753, 18.54025146161089, 17.76596241316041, 17.66327684298872, 15.797045068703696, 15.744446623578748, 14.494265356873012, 14.143377423959725, 12.635796146215629, 11.840815165907182, 11.10076888089727, 10.422020030328113, 10.264011865895814, 10.032486595314415, 9.892032994923483, 9.61803449680094, 9.430581896176994, 8.794086218285832, 8.752950604732051, 399.6682986160076, 226.91334316808224, 218.26757384340206, 139.4705870130157, 93.67612098985404, 66.84930626041731, 66.23964738625291, 65.70795547141012, 40.22010108332783, 37.10690571952078, 36.59852425100213, 33.50013743617396, 28.393097391706412, 24.681151312658738, 22.70497921084745, 21.746417513022607, 17.289102129568313, 16.949033042721158, 16.839187371836548, 13.692588536654336, 13.609453390335634, 12.701338949486713, 11.621021182895518, 11.52277449131495, 10.62773963072938, 10.552667332613613, 8.588697563651449, 8.515236814131752, 8.322692493459478, 7.73308906078595, 7.404635631625834, 13.6250175527251, 154.06904886140387, 79.34874961090658, 66.06723345725, 60.69185028652185, 45.12774940675096, 44.78433357038394, 44.300511072491446, 42.100976628413825, 40.332870861765734, 35.91269928213408, 35.858452097790035, 35.17168794286588, 34.47103875034093, 31.637255503859897, 28.66580681893431, 23.334303472843875, 22.892220485016082, 22.6917449159901, 20.825471629674304, 20.231286207705445, 18.604814238777305, 17.767974871953573, 17.612572504854867, 16.247720233575468, 16.022647926412027, 15.554354524790773, 14.803410471717344, 13.68178773462201, 13.12489493096496, 12.572088642750593, 142.19586935254992, 92.02835984735452, 77.28431207934987, 63.91309963136678, 52.86032000037408, 41.255726717308825, 38.35805052409172, 33.74718869605053, 29.196078518154174, 23.303556651145747, 19.03733124101788, 17.193258335896626, 16.965351857436602, 16.306585990810085, 15.80000433455777, 15.17491117593078, 15.74368523273877, 13.753990353966554, 13.439377528996818, 13.43063668373587, 13.375242933520557, 13.129118429722961, 12.82260027864531, 12.337959229298733, 12.124963948279568, 11.55835681215505, 11.455794221706356, 10.805840162312819, 10.629149861032218, 10.345488143722879, 177.4545006519583, 15.02097345459686, 373.63735632065215, 104.74852008863236, 87.88439195421365, 62.98299297846895, 62.6706167759212, 33.162621999366685, 33.119530082515574, 32.08335864306306, 30.61837128026057, 30.160106643460608, 22.243946302167572, 20.140637157726683, 15.91725525023587, 15.1238839415372, 14.192401447951765, 13.514059767063092, 12.955900008390525, 12.757468178836767, 12.732147207060324, 11.665111219076627, 11.599228951089549, 11.269380425306725, 10.111676819217916, 9.417216274282103, 9.153512478769311, 8.779436709902486, 8.174474004305056, 7.831107747567132, 7.52426281729774, 7.38247259397579, 143.4480950363493, 105.84711916820714, 65.72808414814347, 64.35940911738517, 62.09036700530184, 57.100051877859876, 53.16835118138504, 49.86945942683808, 47.18905491901904, 44.60204164422882, 42.783652260073424, 37.98158621902228, 36.02274579101273, 30.103377538458112, 19.9950496026621, 19.948834657017517, 19.649279914736113, 18.235439867878235, 18.1002450338088, 16.990267721396698, 14.189778342124363, 14.055856547628256, 12.310639870443081, 11.86557227554013, 10.29963680996795, 10.080509147748892, 9.665818951367925, 9.62106816528416, 9.009380032617635, 8.818305979544768, 187.6643898601413, 90.86629321670272, 69.93973440939637, 47.21915199744693, 46.07782400621328, 40.21321540340959, 32.04894536549688, 30.637011814372723, 30.588623102318916, 28.42678072474326, 26.93961386320376, 22.985253773858464, 21.52492505454814, 19.934343864832805, 19.43120939969027, 17.80858481102883, 17.282251848276243, 14.50813247394395, 13.970528718120258, 13.827020193942799, 13.211538534484943, 12.933753755407805, 11.976001045790696, 11.800270772010629, 11.713629475711484, 11.143912110502248, 10.576689233434411, 10.500763502823233, 10.313870576189126, 9.73516304666569, 412.61057366359597, 140.29381196115196, 107.94729592815474, 98.66321550007078, 58.25201196746542, 50.8872544757159, 50.31059539203628, 39.31728506120269, 29.579800635947656, 28.565806455535338, 28.38667290014579, 26.27792984146465, 22.80545882843045, 22.3645903474204, 19.02971859902114, 17.677726358471382, 17.367414130047244, 15.14648334896787, 15.00693098104698, 14.597646300967419, 14.335572449199294, 13.556652851855798, 13.020848622868492, 12.72517911265872, 12.22922246252312, 11.763368472611461, 11.649120269287712, 11.609224385541134, 10.2543702779411, 9.15188548954107, 9.147212584874856, 91.04486664131721, 90.1234329341587, 61.702903660207625, 42.45337847523467, 41.9825248441636, 41.47140269038927, 38.847718490410045, 31.078141301378853, 29.745823037486357, 26.843864984194298, 26.34448148467969, 24.556087377764772, 23.738873799215845, 22.79363670980844, 22.662184676144328, 21.266752151019634, 19.142065227302677, 19.059513172878813, 17.36371292494867, 16.573721754161166, 16.197100265132956, 15.826848294004032, 15.49105566797142, 15.353843526047987, 15.347561066668693, 15.192625745913615, 14.926883217876341, 14.390738862573192, 14.387661739611904, 14.190307989193567, 179.9408786156595, 170.19653221161613, 86.78844896984927, 63.45775802965568, 44.73429961494622, 36.556374195848626, 33.042293070584826, 31.34380111100493, 29.685239200838726, 29.482905482707494, 21.727421549382104, 20.959986709733403, 20.49590091009213, 20.021456912148643, 15.491161080545888, 14.15352494584811, 11.62476230391667, 10.934912926741587, 120.40591796290036, 9.047361748972914, 8.736010440405137, 8.69889882486352, 78.86088199030456, 7.86841583259555, 7.149063829334359, 6.587212523203805, 6.509428344684536, 6.338798467037981, 5.665848829746057, 5.6081160069694755, 7.216441826146773, 177.4545006519583, 1523.108522704866, 120.2297746006226, 74.22459478935399, 73.40796165165322, 50.470619052970235, 81.31015888965001, 47.40141712985257, 42.824831882350395, 40.86894779330818, 35.10363157237581, 29.133548693172088, 28.72522897212561, 27.516636011106627, 26.552355584457256, 26.380601875879194, 25.10156994094193, 24.663947405004894, 22.921165956804824, 19.36835253283556, 18.443441459303187, 17.050957258645887, 15.298984006635475, 15.16874787281252, 14.649942102570538, 13.88780255484615, 13.614935852158325, 13.427864046661085, 12.57718403894817, 12.522842542433326, 11.371675501807244, 11.1402349601878, 136.84224445161902, 120.9454240456939, 38.59654906693501, 34.45314314483764, 32.53676534655758, 32.18133685109239, 30.028173652445663, 26.932768088691763, 24.052010810066538, 22.57184457621114, 20.512642463192563, 20.272197202556058, 19.35356440077307, 19.095117478026193, 19.019495064016915, 18.160053100487833, 17.94367094868227, 16.044458587984487, 15.372597061770845, 15.328297634322261, 14.454880799866102, 14.249453031897453, 14.130305997346973, 13.960735096195842, 13.823461989482787, 13.682759732280244, 13.386141758263816, 12.59735368070988, 12.40139131297869, 12.329854765817771, 133.05801586569538, 82.76853142934607, 81.46303244441462, 78.43580037457853, 33.468618322711876, 32.783727779893944, 29.52066450205472, 29.078503246475716, 28.076076121445762, 24.769106319340423, 24.079387433470465, 22.731708006146885, 22.406974990275614, 21.60299417054278, 21.45492758705549, 19.8763968150901, 19.32056564830002, 17.894962606239883, 17.336355649866018, 16.240534217900436, 15.482257859299736, 14.381134778573685, 14.072270781487795, 13.94058244999034, 13.933155611737059, 13.932535471914457, 13.932535471914457, 13.083903803921885, 12.107084392196207, 12.016144870477746, 42.65207911569037, 140.97126215340464, 93.45409553958419, 78.67740809531188, 57.33493061845607, 50.547442902119286, 49.525280035125306, 37.38667929063904, 35.33290068556914, 32.12605649500898, 30.03039406811815, 22.98194431650695, 21.438357571588977, 20.99065439129204, 20.220682489514505, 19.51318695515812, 18.418973264376863, 14.775183882588934, 14.761754095376121, 13.604674656453478, 12.215745932075079, 11.495531653560235, 11.173364509658835, 10.93260794784574, 10.885888417633485, 10.578209160728168, 9.176003785032862, 9.126207508248651, 8.78251225094084, 8.646168206213652, 8.55121548595373, 122.9542158637111, 94.57972210272915, 62.473472361366156, 62.14197579565641, 56.68654995841967, 52.99185407603858, 38.52939035218347, 28.139332829449643, 27.829576194437234, 26.821639778068235, 25.325654885221883, 22.429915949255225, 21.94108941210028, 16.536390079824002, 15.742586641191712, 14.708002409419878, 14.444171187304457, 14.136121708955228, 13.260254990170287, 13.091206051872346, 13.023712339309837, 12.611067096145893, 10.830382173323839, 10.822541304985664, 10.821697643113692, 10.438055457125321, 10.241696887832438, 9.981056719014525, 9.959363992642556, 9.943689731856212, 101.2441715092103, 77.95363796868617, 64.25181756548601, 57.929241070267324, 57.39197994446392, 48.3314419664551, 35.24123211617777, 33.98319773336471, 31.651165523856246, 30.931111826608745, 29.658277684958787, 26.16566723016985, 20.945848084767494, 20.402752731824744, 19.676270255939496, 19.406388085909132, 18.499357089363453, 18.150144980046353, 16.357730759460562, 16.131054189471037, 15.650446199009288, 15.293840308237822, 13.241594124681022, 11.677313571005598, 12.130928440606928, 15.21989700543931, 10.333964413651046, 10.326668961867572, 10.117527087607549, 9.943366184327282, 99.23654654779118, 85.02837061994616, 63.43720026449921, 48.44258617874524, 42.91783484108615, 34.42888682637709, 32.35033501820414, 28.293690745790634, 28.258695881039355, 26.902097413694683, 26.734077780948397, 25.6622546508569, 25.32823385325235, 24.97783480381413, 24.528409507478965, 24.141591595282815, 23.857246945392674, 23.14909531474387, 22.30225477067425, 21.720464385931827, 19.538441455294862, 18.63520816375423, 18.63310780460704, 18.63268470751005, 17.586181133807525, 17.019605841717624, 16.97520106468598, 16.6334900712436, 16.561034504937194, 16.433622321204822, 176.2412639056981, 92.35302054399521, 88.60646186077044, 73.52499333430053, 71.59229966827537, 71.59229966827537, 38.91877816852345, 35.980615039511655, 27.70764767618968, 26.250706379715783, 24.472839929365154, 22.667129909961524, 20.048732769292787, 19.654535375753483, 18.09002174803679, 18.004224326596297, 16.820925733394883, 13.27702045047991, 12.23424413246021, 11.683826324396783, 10.544817882985612, 10.758052656136101, 9.808221277890507, 9.241769821376643, 8.299880723449466, 7.875382064468028, 7.621053625078101, 7.613582464017587, 7.590495750472025, 7.4935778612113975, 219.78430877391108, 93.58862327258115, 58.85874397335596, 48.61310410251018, 42.07233216511551, 40.41657381889317, 33.43986188983159, 30.88866816587005, 30.719465219961467, 22.87709470122198, 21.61839227719716, 18.50731334563547, 18.23877351783185, 18.22664819253756, 16.341577406633437, 15.61632034453092, 15.384412185999858, 14.412544595459035, 14.336442772992399, 13.360033033585264, 13.23969481822233, 12.83919206294299, 12.14583849712332, 11.937614297932337, 11.643996407222934, 11.522194419028006, 10.9102720154264, 10.610644611819396, 9.992595622223222, 9.96707584180435, 138.651448594199, 81.29868727099063, 71.73152513723984, 56.14757370079287, 49.46966658736121, 35.861387060267305, 27.32404738678906, 23.56636917614962, 21.994096888414735, 20.668409086951804, 20.401930920709635, 18.932418711790444, 18.32832945030292, 16.47815104159704, 16.198679331657413, 15.586405925678248, 15.506055450831827, 14.058148932841359, 13.616147406239225, 12.056677891243837, 12.054367521192093, 10.948054354200394, 10.755442562089657, 10.684002006117366, 10.681457220091453, 10.52619641048388, 10.088341160421892, 9.867220021350304, 9.159847358429412, 9.159847358429412, 55.789684514572436, 54.39403626485224, 40.29049377425027, 40.17172313205237, 38.75491628545626, 36.32506186502246, 30.532476552712396, 28.232128287893246, 25.68104316752824, 21.893555871920082, 18.144597228645228, 17.677473747386756, 16.69833926398786, 16.32949600808672, 15.912018697274359, 14.898661318940906, 14.331984263338278, 13.187616339762442, 13.084799316365455, 12.938782944042252, 12.856424831943887, 12.488556935112033, 12.171884231205109, 12.148161870853656, 11.791432495829234, 11.633436797548018, 11.468414707048272, 10.234178537813634, 10.191409108261833, 10.031160107366304, 94.18059945229948, 73.2205095707779, 59.45812741044411, 35.72805955412455, 29.137208217593503, 28.307361645732854, 27.17090964845973, 26.663231105410453, 25.121910572847565, 20.587126804061796, 20.40060911180183, 18.9187570892881, 16.804964110655042, 16.726612229090758, 15.057985854217232, 11.579465439288471, 11.483485509540907, 11.143069069271792, 10.600905626554011, 10.575527294835004, 9.833257771349428, 9.69571958420594, 9.672372029911854, 9.210183212486166, 8.930256380846318, 8.853038182756144, 8.76566427294349, 8.76566427294349, 8.547120630739176, 8.317023026647691, 10.567547807942054, 43.75831090276207, 38.11405222352494, 35.5402390108714, 33.70857813073814, 33.05065781141802, 32.39171537169503, 32.31228563493315, 28.684746536043132, 21.428971437988416, 20.38167181701213, 20.267688497540007, 20.267688497540007, 17.271332038344724, 15.616144197309778, 14.14774364126512, 13.884688073490528, 13.14101523128003, 12.69439190751561, 12.081609607804877, 10.359489286935931, 8.953767540189256, 8.210039262729637, 7.596260184444203, 7.595592321680964, 7.540332353536542, 7.492519187190922, 7.360907986452565, 7.326498715635772, 7.3263213017333175, 7.3244064172601835, 64.57998358534262, 120.40591796290036, 78.86088199030456], \"Category\": [\"Default\", \"Default\", \"Default\", \"Default\", \"Default\", \"Default\", \"Default\", \"Default\", \"Default\", \"Default\", \"Default\", \"Default\", \"Default\", \"Default\", \"Default\", \"Default\", \"Default\", \"Default\", \"Default\", \"Default\", \"Default\", \"Default\", \"Default\", \"Default\", \"Default\", \"Default\", \"Default\", \"Default\", \"Default\", \"Default\", \"Topic1\", \"Topic1\", \"Topic1\", \"Topic1\", \"Topic1\", \"Topic1\", \"Topic1\", \"Topic1\", \"Topic1\", \"Topic1\", \"Topic1\", \"Topic1\", \"Topic1\", \"Topic1\", \"Topic1\", \"Topic1\", \"Topic1\", \"Topic1\", \"Topic1\", \"Topic1\", \"Topic1\", \"Topic1\", \"Topic1\", \"Topic1\", \"Topic1\", \"Topic1\", \"Topic1\", \"Topic1\", \"Topic1\", \"Topic1\", \"Topic2\", \"Topic2\", \"Topic2\", \"Topic2\", \"Topic2\", \"Topic2\", \"Topic2\", \"Topic2\", \"Topic2\", \"Topic2\", \"Topic2\", \"Topic2\", \"Topic2\", \"Topic2\", \"Topic2\", \"Topic2\", \"Topic2\", \"Topic2\", \"Topic2\", \"Topic2\", \"Topic2\", \"Topic2\", \"Topic2\", \"Topic2\", \"Topic2\", \"Topic2\", \"Topic2\", \"Topic2\", \"Topic2\", \"Topic2\", \"Topic2\", \"Topic2\", \"Topic3\", \"Topic3\", \"Topic3\", \"Topic3\", \"Topic3\", \"Topic3\", \"Topic3\", \"Topic3\", \"Topic3\", \"Topic3\", \"Topic3\", \"Topic3\", \"Topic3\", \"Topic3\", \"Topic3\", \"Topic3\", \"Topic3\", \"Topic3\", \"Topic3\", \"Topic3\", \"Topic3\", \"Topic3\", \"Topic3\", \"Topic3\", \"Topic3\", \"Topic3\", \"Topic3\", \"Topic3\", \"Topic3\", \"Topic3\", \"Topic3\", \"Topic3\", \"Topic3\", \"Topic3\", \"Topic4\", \"Topic4\", \"Topic4\", \"Topic4\", \"Topic4\", \"Topic4\", \"Topic4\", \"Topic4\", \"Topic4\", \"Topic4\", \"Topic4\", \"Topic4\", \"Topic4\", \"Topic4\", \"Topic4\", \"Topic4\", \"Topic4\", \"Topic4\", \"Topic4\", \"Topic4\", \"Topic4\", \"Topic4\", \"Topic4\", \"Topic4\", \"Topic4\", \"Topic4\", \"Topic4\", \"Topic4\", \"Topic4\", \"Topic4\", \"Topic4\", \"Topic4\", \"Topic5\", \"Topic5\", \"Topic5\", \"Topic5\", \"Topic5\", \"Topic5\", \"Topic5\", \"Topic5\", \"Topic5\", \"Topic5\", \"Topic5\", \"Topic5\", \"Topic5\", \"Topic5\", \"Topic5\", \"Topic5\", \"Topic5\", \"Topic5\", \"Topic5\", \"Topic5\", \"Topic5\", \"Topic5\", \"Topic5\", \"Topic5\", \"Topic5\", \"Topic5\", \"Topic5\", \"Topic5\", \"Topic5\", \"Topic5\", \"Topic5\", \"Topic6\", \"Topic6\", \"Topic6\", \"Topic6\", \"Topic6\", \"Topic6\", \"Topic6\", \"Topic6\", \"Topic6\", \"Topic6\", \"Topic6\", \"Topic6\", \"Topic6\", \"Topic6\", \"Topic6\", \"Topic6\", \"Topic6\", \"Topic6\", \"Topic6\", \"Topic6\", \"Topic6\", \"Topic6\", \"Topic6\", \"Topic6\", \"Topic6\", \"Topic6\", \"Topic6\", \"Topic6\", \"Topic6\", \"Topic6\", \"Topic6\", \"Topic7\", \"Topic7\", \"Topic7\", \"Topic7\", \"Topic7\", \"Topic7\", \"Topic7\", \"Topic7\", \"Topic7\", \"Topic7\", \"Topic7\", \"Topic7\", \"Topic7\", \"Topic7\", \"Topic7\", \"Topic7\", \"Topic7\", \"Topic7\", \"Topic7\", \"Topic7\", \"Topic7\", \"Topic7\", \"Topic7\", \"Topic7\", \"Topic7\", \"Topic7\", \"Topic7\", \"Topic7\", \"Topic7\", \"Topic7\", \"Topic7\", \"Topic8\", \"Topic8\", \"Topic8\", \"Topic8\", \"Topic8\", \"Topic8\", \"Topic8\", \"Topic8\", \"Topic8\", \"Topic8\", \"Topic8\", \"Topic8\", \"Topic8\", \"Topic8\", \"Topic8\", \"Topic8\", \"Topic8\", \"Topic8\", \"Topic8\", \"Topic8\", \"Topic8\", \"Topic8\", \"Topic8\", \"Topic8\", \"Topic8\", \"Topic8\", \"Topic8\", \"Topic8\", \"Topic8\", \"Topic8\", \"Topic8\", \"Topic8\", \"Topic9\", \"Topic9\", \"Topic9\", \"Topic9\", \"Topic9\", \"Topic9\", \"Topic9\", \"Topic9\", \"Topic9\", \"Topic9\", \"Topic9\", \"Topic9\", \"Topic9\", \"Topic9\", \"Topic9\", \"Topic9\", \"Topic9\", \"Topic9\", \"Topic9\", \"Topic9\", \"Topic9\", \"Topic9\", \"Topic9\", \"Topic9\", \"Topic9\", \"Topic9\", \"Topic9\", \"Topic9\", \"Topic9\", \"Topic9\", \"Topic9\", \"Topic10\", \"Topic10\", \"Topic10\", \"Topic10\", \"Topic10\", \"Topic10\", \"Topic10\", \"Topic10\", \"Topic10\", \"Topic10\", \"Topic10\", \"Topic10\", \"Topic10\", \"Topic10\", \"Topic10\", \"Topic10\", \"Topic10\", \"Topic10\", \"Topic10\", \"Topic10\", \"Topic10\", \"Topic10\", \"Topic10\", \"Topic10\", \"Topic10\", \"Topic10\", \"Topic10\", \"Topic10\", \"Topic10\", \"Topic10\", \"Topic10\", \"Topic11\", \"Topic11\", \"Topic11\", \"Topic11\", \"Topic11\", \"Topic11\", \"Topic11\", \"Topic11\", \"Topic11\", \"Topic11\", \"Topic11\", \"Topic11\", \"Topic11\", \"Topic11\", \"Topic11\", \"Topic11\", \"Topic11\", \"Topic11\", \"Topic11\", \"Topic11\", \"Topic11\", \"Topic11\", \"Topic11\", \"Topic11\", \"Topic11\", \"Topic11\", \"Topic11\", \"Topic11\", \"Topic11\", \"Topic11\", \"Topic12\", \"Topic12\", \"Topic12\", \"Topic12\", \"Topic12\", \"Topic12\", \"Topic12\", \"Topic12\", \"Topic12\", \"Topic12\", \"Topic12\", \"Topic12\", \"Topic12\", \"Topic12\", \"Topic12\", \"Topic12\", \"Topic12\", \"Topic12\", \"Topic12\", \"Topic12\", \"Topic12\", \"Topic12\", \"Topic12\", \"Topic12\", \"Topic12\", \"Topic12\", \"Topic12\", \"Topic12\", \"Topic12\", \"Topic12\", \"Topic13\", \"Topic13\", \"Topic13\", \"Topic13\", \"Topic13\", \"Topic13\", \"Topic13\", \"Topic13\", \"Topic13\", \"Topic13\", \"Topic13\", \"Topic13\", \"Topic13\", \"Topic13\", \"Topic13\", \"Topic13\", \"Topic13\", \"Topic13\", \"Topic13\", \"Topic13\", \"Topic13\", \"Topic13\", \"Topic13\", \"Topic13\", \"Topic13\", \"Topic13\", \"Topic13\", \"Topic13\", \"Topic13\", \"Topic13\", \"Topic14\", \"Topic14\", \"Topic14\", \"Topic14\", \"Topic14\", \"Topic14\", \"Topic14\", \"Topic14\", \"Topic14\", \"Topic14\", \"Topic14\", \"Topic14\", \"Topic14\", \"Topic14\", \"Topic14\", \"Topic14\", \"Topic14\", \"Topic14\", \"Topic14\", \"Topic14\", \"Topic14\", \"Topic14\", \"Topic14\", \"Topic14\", \"Topic14\", \"Topic14\", \"Topic14\", \"Topic14\", \"Topic14\", \"Topic14\", \"Topic14\", \"Topic15\", \"Topic15\", \"Topic15\", \"Topic15\", \"Topic15\", \"Topic15\", \"Topic15\", \"Topic15\", \"Topic15\", \"Topic15\", \"Topic15\", \"Topic15\", \"Topic15\", \"Topic15\", \"Topic15\", \"Topic15\", \"Topic15\", \"Topic15\", \"Topic15\", \"Topic15\", \"Topic15\", \"Topic15\", \"Topic15\", \"Topic15\", \"Topic15\", \"Topic15\", \"Topic15\", \"Topic15\", \"Topic15\", \"Topic15\", \"Topic16\", \"Topic16\", \"Topic16\", \"Topic16\", \"Topic16\", \"Topic16\", \"Topic16\", \"Topic16\", \"Topic16\", \"Topic16\", \"Topic16\", \"Topic16\", \"Topic16\", \"Topic16\", \"Topic16\", \"Topic16\", \"Topic16\", \"Topic16\", \"Topic16\", \"Topic16\", \"Topic16\", \"Topic16\", \"Topic16\", \"Topic16\", \"Topic16\", \"Topic16\", \"Topic16\", \"Topic16\", \"Topic16\", \"Topic16\", \"Topic17\", \"Topic17\", \"Topic17\", \"Topic17\", \"Topic17\", \"Topic17\", \"Topic17\", \"Topic17\", \"Topic17\", \"Topic17\", \"Topic17\", \"Topic17\", \"Topic17\", \"Topic17\", \"Topic17\", \"Topic17\", \"Topic17\", \"Topic17\", \"Topic17\", \"Topic17\", \"Topic17\", \"Topic17\", \"Topic17\", \"Topic17\", \"Topic17\", \"Topic17\", \"Topic17\", \"Topic17\", \"Topic17\", \"Topic17\", \"Topic18\", \"Topic18\", \"Topic18\", \"Topic18\", \"Topic18\", \"Topic18\", \"Topic18\", \"Topic18\", \"Topic18\", \"Topic18\", \"Topic18\", \"Topic18\", \"Topic18\", \"Topic18\", \"Topic18\", \"Topic18\", \"Topic18\", \"Topic18\", \"Topic18\", \"Topic18\", \"Topic18\", \"Topic18\", \"Topic18\", \"Topic18\", \"Topic18\", \"Topic18\", \"Topic18\", \"Topic18\", \"Topic18\", \"Topic18\", \"Topic18\", \"Topic18\", \"Topic19\", \"Topic19\", \"Topic19\", \"Topic19\", \"Topic19\", \"Topic19\", \"Topic19\", \"Topic19\", \"Topic19\", \"Topic19\", \"Topic19\", \"Topic19\", \"Topic19\", \"Topic19\", \"Topic19\", \"Topic19\", \"Topic19\", \"Topic19\", \"Topic19\", \"Topic19\", \"Topic19\", \"Topic19\", \"Topic19\", \"Topic19\", \"Topic19\", \"Topic19\", \"Topic19\", \"Topic19\", \"Topic19\", \"Topic19\", \"Topic19\", \"Topic19\", \"Topic20\", \"Topic20\", \"Topic20\", \"Topic20\", \"Topic20\", \"Topic20\", \"Topic20\", \"Topic20\", \"Topic20\", \"Topic20\", \"Topic20\", \"Topic20\", \"Topic20\", \"Topic20\", \"Topic20\", \"Topic20\", \"Topic20\", \"Topic20\", \"Topic20\", \"Topic20\", \"Topic20\", \"Topic20\", \"Topic20\", \"Topic20\", \"Topic20\", \"Topic20\", \"Topic20\", \"Topic20\", \"Topic20\", \"Topic20\", \"Topic21\", \"Topic21\", \"Topic21\", \"Topic21\", \"Topic21\", \"Topic21\", \"Topic21\", \"Topic21\", \"Topic21\", \"Topic21\", \"Topic21\", \"Topic21\", \"Topic21\", \"Topic21\", \"Topic21\", \"Topic21\", \"Topic21\", \"Topic21\", \"Topic21\", \"Topic21\", \"Topic21\", \"Topic21\", \"Topic21\", \"Topic21\", \"Topic21\", \"Topic21\", \"Topic21\", \"Topic21\", \"Topic21\", \"Topic21\", \"Topic22\", \"Topic22\", \"Topic22\", \"Topic22\", \"Topic22\", \"Topic22\", \"Topic22\", \"Topic22\", \"Topic22\", \"Topic22\", \"Topic22\", \"Topic22\", \"Topic22\", \"Topic22\", \"Topic22\", \"Topic22\", \"Topic22\", \"Topic22\", \"Topic22\", \"Topic22\", \"Topic22\", \"Topic22\", \"Topic22\", \"Topic22\", \"Topic22\", \"Topic22\", \"Topic22\", \"Topic22\", \"Topic22\", \"Topic22\", \"Topic22\", \"Topic23\", \"Topic23\", \"Topic23\", \"Topic23\", \"Topic23\", \"Topic23\", \"Topic23\", \"Topic23\", \"Topic23\", \"Topic23\", \"Topic23\", \"Topic23\", \"Topic23\", \"Topic23\", \"Topic23\", \"Topic23\", \"Topic23\", \"Topic23\", \"Topic23\", \"Topic23\", \"Topic23\", \"Topic23\", \"Topic23\", \"Topic23\", \"Topic23\", \"Topic23\", \"Topic23\", \"Topic23\", \"Topic23\", \"Topic23\", \"Topic23\", \"Topic23\", \"Topic23\", \"Topic23\", \"Topic23\", \"Topic24\", \"Topic24\", \"Topic24\", \"Topic24\", \"Topic24\", \"Topic24\", \"Topic24\", \"Topic24\", \"Topic24\", \"Topic24\", \"Topic24\", \"Topic24\", \"Topic24\", \"Topic24\", \"Topic24\", \"Topic24\", \"Topic24\", \"Topic24\", \"Topic24\", \"Topic24\", \"Topic24\", \"Topic24\", \"Topic24\", \"Topic24\", \"Topic24\", \"Topic24\", \"Topic24\", \"Topic24\", \"Topic24\", \"Topic24\", \"Topic25\", \"Topic25\", \"Topic25\", \"Topic25\", \"Topic25\", \"Topic25\", \"Topic25\", \"Topic25\", \"Topic25\", \"Topic25\", \"Topic25\", \"Topic25\", \"Topic25\", \"Topic25\", \"Topic25\", \"Topic25\", \"Topic25\", \"Topic25\", \"Topic25\", \"Topic25\", \"Topic25\", \"Topic25\", \"Topic25\", \"Topic25\", \"Topic25\", \"Topic25\", \"Topic25\", \"Topic25\", \"Topic25\", \"Topic25\", \"Topic25\", \"Topic26\", \"Topic26\", \"Topic26\", \"Topic26\", \"Topic26\", \"Topic26\", \"Topic26\", \"Topic26\", \"Topic26\", \"Topic26\", \"Topic26\", \"Topic26\", \"Topic26\", \"Topic26\", \"Topic26\", \"Topic26\", \"Topic26\", \"Topic26\", \"Topic26\", \"Topic26\", \"Topic26\", \"Topic26\", \"Topic26\", \"Topic26\", \"Topic26\", \"Topic26\", \"Topic26\", \"Topic26\", \"Topic26\", \"Topic26\", \"Topic27\", \"Topic27\", \"Topic27\", \"Topic27\", \"Topic27\", \"Topic27\", \"Topic27\", \"Topic27\", \"Topic27\", \"Topic27\", \"Topic27\", \"Topic27\", \"Topic27\", \"Topic27\", \"Topic27\", \"Topic27\", \"Topic27\", \"Topic27\", \"Topic27\", \"Topic27\", \"Topic27\", \"Topic27\", \"Topic27\", \"Topic27\", \"Topic27\", \"Topic27\", \"Topic27\", \"Topic27\", \"Topic27\", \"Topic27\", \"Topic27\", \"Topic27\", \"Topic28\", \"Topic28\", \"Topic28\", \"Topic28\", \"Topic28\", \"Topic28\", \"Topic28\", \"Topic28\", \"Topic28\", \"Topic28\", \"Topic28\", \"Topic28\", \"Topic28\", \"Topic28\", \"Topic28\", \"Topic28\", \"Topic28\", \"Topic28\", \"Topic28\", \"Topic28\", \"Topic28\", \"Topic28\", \"Topic28\", \"Topic28\", \"Topic28\", \"Topic28\", \"Topic28\", \"Topic28\", \"Topic28\", \"Topic28\", \"Topic28\", \"Topic29\", \"Topic29\", \"Topic29\", \"Topic29\", \"Topic29\", \"Topic29\", \"Topic29\", \"Topic29\", \"Topic29\", \"Topic29\", \"Topic29\", \"Topic29\", \"Topic29\", \"Topic29\", \"Topic29\", \"Topic29\", \"Topic29\", \"Topic29\", \"Topic29\", \"Topic29\", \"Topic29\", \"Topic29\", \"Topic29\", \"Topic29\", \"Topic29\", \"Topic29\", \"Topic29\", \"Topic29\", \"Topic29\", \"Topic29\", \"Topic29\", \"Topic30\", \"Topic30\", \"Topic30\", \"Topic30\", \"Topic30\", \"Topic30\", \"Topic30\", \"Topic30\", \"Topic30\", \"Topic30\", \"Topic30\", \"Topic30\", \"Topic30\", \"Topic30\", \"Topic30\", \"Topic30\", \"Topic30\", \"Topic30\", \"Topic30\", \"Topic30\", \"Topic30\", \"Topic30\", \"Topic30\", \"Topic30\", \"Topic30\", \"Topic30\", \"Topic30\", \"Topic30\", \"Topic30\", \"Topic30\", \"Topic31\", \"Topic31\", \"Topic31\", \"Topic31\", \"Topic31\", \"Topic31\", \"Topic31\", \"Topic31\", \"Topic31\", \"Topic31\", \"Topic31\", \"Topic31\", \"Topic31\", \"Topic31\", \"Topic31\", \"Topic31\", \"Topic31\", \"Topic31\", \"Topic31\", \"Topic31\", \"Topic31\", \"Topic31\", \"Topic31\", \"Topic31\", \"Topic31\", \"Topic31\", \"Topic31\", \"Topic31\", \"Topic31\", \"Topic31\", \"Topic31\", \"Topic31\", \"Topic32\", \"Topic32\", \"Topic32\", \"Topic32\", \"Topic32\", \"Topic32\", \"Topic32\", \"Topic32\", \"Topic32\", \"Topic32\", \"Topic32\", \"Topic32\", \"Topic32\", \"Topic32\", \"Topic32\", \"Topic32\", \"Topic32\", \"Topic32\", \"Topic32\", \"Topic32\", \"Topic32\", \"Topic32\", \"Topic32\", \"Topic32\", \"Topic32\", \"Topic32\", \"Topic32\", \"Topic32\", \"Topic32\", \"Topic32\", \"Topic33\", \"Topic33\", \"Topic33\", \"Topic33\", \"Topic33\", \"Topic33\", \"Topic33\", \"Topic33\", \"Topic33\", \"Topic33\", \"Topic33\", \"Topic33\", \"Topic33\", \"Topic33\", \"Topic33\", \"Topic33\", \"Topic33\", \"Topic33\", \"Topic33\", \"Topic33\", \"Topic33\", \"Topic33\", \"Topic33\", \"Topic33\", \"Topic33\", \"Topic33\", \"Topic33\", \"Topic33\", \"Topic33\", \"Topic33\", \"Topic34\", \"Topic34\", \"Topic34\", \"Topic34\", \"Topic34\", \"Topic34\", \"Topic34\", \"Topic34\", \"Topic34\", \"Topic34\", \"Topic34\", \"Topic34\", \"Topic34\", \"Topic34\", \"Topic34\", \"Topic34\", \"Topic34\", \"Topic34\", \"Topic34\", \"Topic34\", \"Topic34\", \"Topic34\", \"Topic34\", \"Topic34\", \"Topic34\", \"Topic34\", \"Topic34\", \"Topic34\", \"Topic34\", \"Topic34\", \"Topic34\", \"Topic35\", \"Topic35\", \"Topic35\", \"Topic35\", \"Topic35\", \"Topic35\", \"Topic35\", \"Topic35\", \"Topic35\", \"Topic35\", \"Topic35\", \"Topic35\", \"Topic35\", \"Topic35\", \"Topic35\", \"Topic35\", \"Topic35\", \"Topic35\", \"Topic35\", \"Topic35\", \"Topic35\", \"Topic35\", \"Topic35\", \"Topic35\", \"Topic35\", \"Topic35\", \"Topic35\", \"Topic35\", \"Topic35\", \"Topic35\", \"Topic36\", \"Topic36\", \"Topic36\", \"Topic36\", \"Topic36\", \"Topic36\", \"Topic36\", \"Topic36\", \"Topic36\", \"Topic36\", \"Topic36\", \"Topic36\", \"Topic36\", \"Topic36\", \"Topic36\", \"Topic36\", \"Topic36\", \"Topic36\", \"Topic36\", \"Topic36\", \"Topic36\", \"Topic36\", \"Topic36\", \"Topic36\", \"Topic36\", \"Topic36\", \"Topic36\", \"Topic36\", \"Topic36\", \"Topic36\", \"Topic37\", \"Topic37\", \"Topic37\", \"Topic37\", \"Topic37\", \"Topic37\", \"Topic37\", \"Topic37\", \"Topic37\", \"Topic37\", \"Topic37\", \"Topic37\", \"Topic37\", \"Topic37\", \"Topic37\", \"Topic37\", \"Topic37\", \"Topic37\", \"Topic37\", \"Topic37\", \"Topic37\", \"Topic37\", \"Topic37\", \"Topic37\", \"Topic37\", \"Topic37\", \"Topic37\", \"Topic37\", \"Topic37\", \"Topic37\", \"Topic37\", \"Topic37\", \"Topic37\", \"Topic38\", \"Topic38\", \"Topic38\", \"Topic38\", \"Topic38\", \"Topic38\", \"Topic38\", \"Topic38\", \"Topic38\", \"Topic38\", \"Topic38\", \"Topic38\", \"Topic38\", \"Topic38\", \"Topic38\", \"Topic38\", \"Topic38\", \"Topic38\", \"Topic38\", \"Topic38\", \"Topic38\", \"Topic38\", \"Topic38\", \"Topic38\", \"Topic38\", \"Topic38\", \"Topic38\", \"Topic38\", \"Topic38\", \"Topic38\", \"Topic39\", \"Topic39\", \"Topic39\", \"Topic39\", \"Topic39\", \"Topic39\", \"Topic39\", \"Topic39\", \"Topic39\", \"Topic39\", \"Topic39\", \"Topic39\", \"Topic39\", \"Topic39\", \"Topic39\", \"Topic39\", \"Topic39\", \"Topic39\", \"Topic39\", \"Topic39\", \"Topic39\", \"Topic39\", \"Topic39\", \"Topic39\", \"Topic39\", \"Topic39\", \"Topic39\", \"Topic39\", \"Topic39\", \"Topic39\", \"Topic40\", \"Topic40\", \"Topic40\", \"Topic40\", \"Topic40\", \"Topic40\", \"Topic40\", \"Topic40\", \"Topic40\", \"Topic40\", \"Topic40\", \"Topic40\", \"Topic40\", \"Topic40\", \"Topic40\", \"Topic40\", \"Topic40\", \"Topic40\", \"Topic40\", \"Topic40\", \"Topic40\", \"Topic40\", \"Topic40\", \"Topic40\", \"Topic40\", \"Topic40\", \"Topic40\", \"Topic40\", \"Topic40\", \"Topic40\", \"Topic40\", \"Topic41\", \"Topic41\", \"Topic41\", \"Topic41\", \"Topic41\", \"Topic41\", \"Topic41\", \"Topic41\", \"Topic41\", \"Topic41\", \"Topic41\", \"Topic41\", \"Topic41\", \"Topic41\", \"Topic41\", \"Topic41\", \"Topic41\", \"Topic41\", \"Topic41\", \"Topic41\", \"Topic41\", \"Topic41\", \"Topic41\", \"Topic41\", \"Topic41\", \"Topic41\", \"Topic41\", \"Topic41\", \"Topic41\", \"Topic41\", \"Topic42\", \"Topic42\", \"Topic42\", \"Topic42\", \"Topic42\", \"Topic42\", \"Topic42\", \"Topic42\", \"Topic42\", \"Topic42\", \"Topic42\", \"Topic42\", \"Topic42\", \"Topic42\", \"Topic42\", \"Topic42\", \"Topic42\", \"Topic42\", \"Topic42\", \"Topic42\", \"Topic42\", \"Topic42\", \"Topic42\", \"Topic42\", \"Topic42\", \"Topic42\", \"Topic42\", \"Topic42\", \"Topic42\", \"Topic42\", \"Topic43\", \"Topic43\", \"Topic43\", \"Topic43\", \"Topic43\", \"Topic43\", \"Topic43\", \"Topic43\", \"Topic43\", \"Topic43\", \"Topic43\", \"Topic43\", \"Topic43\", \"Topic43\", \"Topic43\", \"Topic43\", \"Topic43\", \"Topic43\", \"Topic43\", \"Topic43\", \"Topic43\", \"Topic43\", \"Topic43\", \"Topic43\", \"Topic43\", \"Topic43\", \"Topic43\", \"Topic43\", \"Topic43\", \"Topic43\", \"Topic44\", \"Topic44\", \"Topic44\", \"Topic44\", \"Topic44\", \"Topic44\", \"Topic44\", \"Topic44\", \"Topic44\", \"Topic44\", \"Topic44\", \"Topic44\", \"Topic44\", \"Topic44\", \"Topic44\", \"Topic44\", \"Topic44\", \"Topic44\", \"Topic44\", \"Topic44\", \"Topic44\", \"Topic44\", \"Topic44\", \"Topic44\", \"Topic44\", \"Topic44\", \"Topic44\", \"Topic44\", \"Topic44\", \"Topic44\", \"Topic45\", \"Topic45\", \"Topic45\", \"Topic45\", \"Topic45\", \"Topic45\", \"Topic45\", \"Topic45\", \"Topic45\", \"Topic45\", \"Topic45\", \"Topic45\", \"Topic45\", \"Topic45\", \"Topic45\", \"Topic45\", \"Topic45\", \"Topic45\", \"Topic45\", \"Topic45\", \"Topic45\", \"Topic45\", \"Topic45\", \"Topic45\", \"Topic45\", \"Topic45\", \"Topic45\", \"Topic45\", \"Topic45\", \"Topic45\", \"Topic46\", \"Topic46\", \"Topic46\", \"Topic46\", \"Topic46\", \"Topic46\", \"Topic46\", \"Topic46\", \"Topic46\", \"Topic46\", \"Topic46\", \"Topic46\", \"Topic46\", \"Topic46\", \"Topic46\", \"Topic46\", \"Topic46\", \"Topic46\", \"Topic46\", \"Topic46\", \"Topic46\", \"Topic46\", \"Topic46\", \"Topic46\", \"Topic46\", \"Topic46\", \"Topic46\", \"Topic46\", \"Topic46\", \"Topic46\", \"Topic47\", \"Topic47\", \"Topic47\", \"Topic47\", \"Topic47\", \"Topic47\", \"Topic47\", \"Topic47\", \"Topic47\", \"Topic47\", \"Topic47\", \"Topic47\", \"Topic47\", \"Topic47\", \"Topic47\", \"Topic47\", \"Topic47\", \"Topic47\", \"Topic47\", \"Topic47\", \"Topic47\", \"Topic47\", \"Topic47\", \"Topic47\", \"Topic47\", \"Topic47\", \"Topic47\", \"Topic47\", \"Topic47\", \"Topic47\", \"Topic48\", \"Topic48\", \"Topic48\", \"Topic48\", \"Topic48\", \"Topic48\", \"Topic48\", \"Topic48\", \"Topic48\", \"Topic48\", \"Topic48\", \"Topic48\", \"Topic48\", \"Topic48\", \"Topic48\", \"Topic48\", \"Topic48\", \"Topic48\", \"Topic48\", \"Topic48\", \"Topic48\", \"Topic48\", \"Topic48\", \"Topic48\", \"Topic48\", \"Topic48\", \"Topic48\", \"Topic48\", \"Topic48\", \"Topic48\", \"Topic49\", \"Topic49\", \"Topic49\", \"Topic49\", \"Topic49\", \"Topic49\", \"Topic49\", \"Topic49\", \"Topic49\", \"Topic49\", \"Topic49\", \"Topic49\", \"Topic49\", \"Topic49\", \"Topic49\", \"Topic49\", \"Topic49\", \"Topic49\", \"Topic49\", \"Topic49\", \"Topic49\", \"Topic49\", \"Topic49\", \"Topic49\", \"Topic49\", \"Topic49\", \"Topic49\", \"Topic49\", \"Topic49\", \"Topic49\", \"Topic49\", \"Topic50\", \"Topic50\", \"Topic50\", \"Topic50\", \"Topic50\", \"Topic50\", \"Topic50\", \"Topic50\", \"Topic50\", \"Topic50\", \"Topic50\", \"Topic50\", \"Topic50\", \"Topic50\", \"Topic50\", \"Topic50\", \"Topic50\", \"Topic50\", \"Topic50\", \"Topic50\", \"Topic50\", \"Topic50\", \"Topic50\", \"Topic50\", \"Topic50\", \"Topic50\", \"Topic50\", \"Topic50\", \"Topic50\", \"Topic50\", \"Topic50\", \"Topic50\", \"Topic50\"], \"logprob\": [30.0, 29.0, 28.0, 27.0, 26.0, 25.0, 24.0, 23.0, 22.0, 21.0, 20.0, 19.0, 18.0, 17.0, 16.0, 15.0, 14.0, 13.0, 12.0, 11.0, 10.0, 9.0, 8.0, 7.0, 6.0, 5.0, 4.0, 3.0, 2.0, 1.0, -0.6128, -3.2234, -3.4221, -3.5154, -4.1247, -4.2873, -4.4541, -5.0348, -5.3376, -5.4434, -1.6894, -5.7829, -5.9953, -6.1982, -6.3375, -6.359, -6.3754, -6.3795, -6.4683, -6.5086, -6.6975, -6.7094, -6.8175, -6.8481, -6.8709, -6.9055, -7.0104, -7.0377, -7.0571, -7.1288, -2.411, -2.5767, -2.5872, -2.9546, -3.2261, -3.339, -3.5671, -3.9374, -3.9849, -4.0074, -4.0447, -4.0949, -3.0027, -4.2838, -4.3307, -4.6315, -4.6804, -4.8433, -4.3613, -5.2309, -5.3666, -5.3951, -5.4789, -5.7517, -5.9082, -5.9333, -6.1395, -6.1822, -6.3403, -6.4137, -2.2027, -1.8962, -2.4169, -2.5562, -2.5562, -2.629, -2.962, -3.1539, -3.7004, -3.731, -3.7414, -4.0743, -4.0834, -4.1607, -4.2413, -4.2973, -4.3698, -4.4975, -4.5132, -4.8532, -5.0287, -5.311, -5.3502, -5.3578, -5.4549, -5.4573, -5.4579, -5.5156, -5.5493, -5.5575, -5.6558, -5.6615, -3.2075, -2.5238, -4.4211, -5.3903, -2.0788, -2.1645, -2.2548, -2.4855, -2.7957, -3.2196, -3.3084, -3.3797, -3.7275, -4.1391, -4.2614, -4.488, -4.5702, -4.5714, -4.8558, -5.0473, -5.202, -5.2668, -5.3932, -5.4235, -5.5504, -5.5876, -5.597, -5.6375, -5.6424, -5.659, -5.6632, -5.6936, -5.7609, -5.7897, -3.524, -4.783, -1.8883, -2.235, -2.9807, -3.7651, -3.9079, -4.2923, -4.3804, -4.4661, -4.4789, -4.5775, -4.6905, -4.7362, -4.7445, -4.7493, -4.9015, -5.0344, -5.0566, -5.0588, -5.0783, -5.1328, -5.2197, -5.2613, -5.2736, -5.2972, -5.3349, -5.3376, -5.3392, -5.343, -5.4247, -5.4277, -2.2456, -1.6855, -2.5326, -3.7915, -4.3049, -4.5905, -4.593, -4.7713, -5.0507, -5.0953, -5.1644, -5.1889, -5.1969, -5.2642, -5.3761, -5.5315, -5.6246, -5.6517, -5.6754, -5.7151, -5.7681, -5.8166, -5.8272, -5.8427, -5.9096, -5.9876, -6.0175, -6.0212, -6.026, -6.0351, -6.0439, -0.9501, -2.0597, -2.7361, -3.3292, -3.8711, -4.031, -4.5075, -4.5824, -4.5955, -4.6468, -4.6506, -4.7313, -4.9616, -4.984, -5.014, -5.0765, -5.1072, -5.2438, -5.2552, -5.2734, -5.2825, -5.3397, -5.3885, -5.3954, -5.4463, -5.4776, -5.5032, -5.5546, -5.576, -5.5953, -5.6168, -1.0215, -2.6942, -2.9191, -3.2218, -3.2959, -3.4118, -3.458, -3.4768, -3.9199, -4.3341, -4.3565, -4.6409, -4.7369, -4.7767, -4.871, -4.8912, -4.8945, -4.9101, -4.9914, -5.0026, -5.004, -5.0041, -5.0041, -5.0041, -5.0279, -5.055, -5.0677, -5.1297, -5.141, -5.2044, -5.2073, -2.2093, -2.3414, -1.8588, -2.7088, -2.743, -3.204, -3.4377, -3.6302, -3.7561, -3.9706, -4.0209, -4.3199, -4.3238, -4.3479, -4.437, -4.6628, -4.7602, -4.7677, -4.9046, -4.9749, -4.9813, -5.0315, -5.0736, -5.082, -5.1386, -5.1691, -5.1867, -5.3939, -5.4073, -5.4988, -5.5853, -5.6058, -2.1979, -1.5887, -2.8822, -3.027, -3.1425, -3.4409, -3.5883, -3.6729, -3.8899, -3.9208, -4.0684, -4.1918, -4.5564, -4.714, -5.0224, -5.0561, -5.1455, -5.2647, -5.3385, -5.4059, -5.4736, -5.5242, -5.5635, -5.5771, -5.5848, -5.5981, -5.6903, -5.7228, -5.7655, -5.7702, -5.7918, -1.9126, -1.584, -2.2344, -2.6486, -3.2677, -3.3391, -3.8745, -4.1139, -4.2661, -4.3438, -4.419, -4.4302, -4.5806, -4.6084, -4.6382, -4.7523, -4.7898, -5.0159, -5.0465, -5.0687, -5.091, -5.0947, -5.1038, -5.1211, -5.1335, -5.1522, -5.1615, -5.2309, -5.3182, -5.3212, -5.413, -1.9661, -2.5825, -2.6755, -2.7909, -2.8558, -2.9415, -3.4479, -4.0102, -4.1677, -4.1846, -4.3157, -4.3385, -4.3459, -4.4103, -4.4438, -4.6947, -4.8412, -4.9283, -4.9323, -4.959, -4.9646, -4.9679, -4.9679, -5.1568, -5.2255, -5.3031, -5.318, -5.3597, -5.3752, -5.385, -1.414, -2.4152, -2.9982, -3.1843, -3.3634, -3.6138, -3.8523, -3.9287, -4.0272, -4.0942, -4.1157, -4.28, -4.3185, -4.5593, -4.6208, -4.6914, -4.745, -4.8116, -4.83, -4.8934, -4.9369, -4.9797, -4.9995, -5.0973, -5.145, -5.1542, -5.1998, -5.2946, -5.3385, -5.3386, -1.6485, -2.3734, -2.7894, -2.8582, -3.3306, -3.6492, -3.9961, -4.0022, -4.1287, -4.2727, -4.3051, -4.415, -4.549, -4.586, -4.6625, -4.6817, -4.7096, -4.7851, -4.8198, -4.9333, -4.9495, -4.9518, -5.1723, -5.1937, -5.1937, -5.1937, -5.1989, -5.2418, -5.3186, -5.371, -5.3701, -2.4039, -2.474, -2.5002, -2.9672, -2.9759, -3.0975, -3.115, -3.1721, -3.1827, -3.3398, -3.3756, -4.3987, -4.6015, -4.621, -4.7074, -4.9059, -4.9493, -4.9731, -5.026, -4.955, -5.0803, -5.1058, -5.1352, -5.144, -5.2093, -5.2471, -5.3703, -5.3703, -5.3806, -5.4212, -1.3607, -1.8969, -3.3107, -3.5966, -3.7274, -3.7821, -3.932, -4.119, -4.1426, -4.1981, -4.4556, -4.4685, -4.5325, -4.6141, -4.7582, -4.8226, -4.8385, -4.8529, -4.9246, -4.934, -4.9376, -5.1789, -5.1927, -5.3017, -5.406, -5.4275, -5.5686, -5.6691, -5.6693, -5.7157, -1.8979, -2.1093, -2.4522, -2.9842, -3.4344, -3.4488, -3.6425, -3.7872, -4.0382, -4.0515, -4.1592, -4.1927, -4.4308, -4.6348, -4.7434, -4.7667, -4.782, -4.8165, -4.8188, -4.8896, -4.9632, -5.0654, -5.1049, -5.1135, -5.226, -5.259, -5.2876, -5.3125, -5.395, -5.4347, -1.9745, -2.9257, -3.3442, -3.4283, -3.6099, -3.8467, -3.9783, -4.1912, -4.3845, -4.4082, -4.4349, -4.6412, -4.6929, -4.6982, -4.8624, -4.887, -4.9184, -4.9607, -4.9967, -5.0686, -5.0723, -5.0869, -5.1447, -5.1597, -5.2633, -5.2692, -5.2741, -5.3024, -5.3681, -5.4166, -5.1392, -2.1138, -2.5998, -2.9239, -3.1862, -3.4505, -3.4532, -3.4815, -3.6029, -3.6164, -3.6214, -3.7566, -3.7594, -3.9469, -3.97, -4.0254, -4.1828, -4.3158, -4.3416, -4.3448, -4.4705, -4.5429, -4.5615, -4.6336, -4.6475, -4.6558, -4.733, -4.7375, -4.744, -4.9506, -5.0901, -5.0901, -3.9261, -3.079, -2.4202, -2.4587, -2.758, -2.9781, -3.1662, -3.5188, -3.6607, -3.7263, -3.9941, -4.1664, -4.179, -3.2512, -4.2391, -4.3091, -4.521, -4.5398, -4.5594, -4.5787, -4.6999, -4.7977, -4.8577, -4.947, -4.9589, -5.0119, -5.0645, -5.0928, -5.0931, -5.1244, -5.1322, -5.192, -2.6245, -2.899, -2.9188, -3.2502, -3.4817, -3.5944, -3.6552, -3.8702, -4.0514, -4.0817, -4.1528, -4.1798, -4.1859, -4.3347, -4.3388, -4.3634, -4.4113, -4.4419, -4.4799, -4.5368, -4.5862, -4.6078, -4.6821, -4.7031, -4.7428, -4.787, -4.8315, -4.8737, -4.9728, -5.0575, -2.219, -2.7039, -3.3485, -3.8049, -3.8366, -3.8495, -3.8586, -3.9357, -3.9631, -4.0105, -4.0567, -4.0729, -4.1238, -4.2298, -4.2859, -4.3186, -4.4308, -4.4414, -4.7197, -4.7483, -4.7653, -4.7737, -4.7967, -4.8086, -4.8636, -5.0055, -5.0184, -5.0395, -5.0462, -5.0647, -4.2203, -1.2116, -2.663, -3.4231, -3.5353, -3.5535, -3.8202, -4.1481, -4.2256, -4.4234, -4.4587, -4.7034, -4.794, -4.8256, -4.9482, -5.1016, -5.1471, -5.2753, -5.3323, -5.3903, -5.3992, -5.4167, -5.4178, -5.5557, -5.5847, -5.6007, -5.6444, -5.6468, -5.6517, -5.6788, -5.6973, -5.6299, -5.6299, -5.5545, -5.6299, -5.6299, -2.0869, -2.7035, -2.8051, -2.8373, -2.859, -2.9093, -3.2213, -3.7368, -3.7419, -3.97, -4.0343, -4.1509, -4.252, -4.3226, -4.3872, -4.5171, -4.6111, -4.871, -5.0179, -5.1113, -5.1195, -5.132, -5.1324, -5.205, -5.3077, -5.3206, -5.3214, -5.4794, -5.507, -5.6199, -1.7716, -2.6185, -2.6773, -3.4054, -3.6414, -3.9139, -4.0443, -4.0763, -4.1135, -4.2606, -4.4, -4.4336, -4.4888, -4.6318, -4.6738, -4.6877, -4.737, -4.8252, -4.8289, -4.9348, -4.9409, -4.9703, -5.0322, -5.0484, -5.0509, -5.0787, -5.1614, -5.1768, -5.19, -5.2038, -5.1566, -2.4908, -2.562, -2.8554, -2.9302, -3.0281, -3.1943, -3.745, -4.1402, -4.1492, -4.1867, -4.3037, -4.3449, -4.4154, -4.4428, -4.6327, -4.6449, -4.6471, -4.7074, -4.7816, -4.8672, -4.8992, -4.9016, -4.9699, -4.9715, -4.98, -5.0041, -5.0278, -5.0417, -5.0624, -5.0827, -2.4435, -2.6118, -2.9411, -3.0679, -3.4253, -3.8204, -3.1944, -3.956, -4.5185, -4.5547, -4.7204, -4.812, -4.8396, -4.8512, -4.9079, -4.9211, -4.9452, -4.9517, -4.9539, -4.9628, -5.0005, -5.0254, -5.1102, -5.139, -5.1889, -5.2199, -5.3113, -5.3507, -5.3692, -5.4008, -2.3299, -5.2694, -2.2015, -2.6506, -2.7409, -3.9098, -4.1251, -4.1356, -4.1558, -4.1871, -4.4627, -4.482, -4.4846, -4.5036, -4.6424, -4.6872, -4.6933, -4.811, -4.8146, -4.9023, -4.9284, -5.0489, -5.1188, -5.1886, -5.2572, -5.2739, -5.2988, -5.3142, -5.345, -5.3667, -5.4439, -5.4491, -2.1408, -2.0898, -2.1288, -2.5789, -2.98, -3.3211, -3.3304, -3.3386, -3.8379, -3.9203, -3.9344, -4.0251, -4.1953, -4.3401, -4.4267, -4.4716, -4.7117, -4.7326, -4.7394, -4.9588, -4.9653, -5.0392, -5.1349, -5.144, -5.2317, -5.2395, -5.466, -5.4755, -5.501, -5.5833, -5.6323, -5.3303, -2.4706, -3.1395, -3.3249, -3.4109, -3.7122, -3.72, -3.7311, -3.783, -3.8269, -3.9456, -3.9472, -3.967, -3.9876, -4.0757, -4.1772, -4.3901, -4.41, -4.4191, -4.5085, -4.5387, -4.6264, -4.6747, -4.684, -4.769, -4.7837, -4.8151, -4.8675, -4.9514, -4.9958, -5.042, -2.5404, -2.9788, -3.1552, -3.3476, -3.5403, -3.7928, -3.8672, -3.9985, -4.1474, -4.3805, -4.5914, -4.6983, -4.7124, -4.7541, -4.7875, -4.8302, -4.7957, -4.9348, -4.9595, -4.9602, -4.9646, -4.9844, -5.0097, -5.0511, -5.0698, -5.1214, -5.1311, -5.1944, -5.2123, -5.2417, -2.7516, -5.0342, -1.553, -2.8307, -3.0078, -3.3449, -3.3499, -3.9989, -4.0002, -4.0329, -4.081, -4.0965, -4.4115, -4.515, -4.7623, -4.8164, -4.884, -4.9362, -4.9813, -4.9979, -5.0, -5.0942, -5.1003, -5.1315, -5.2495, -5.3275, -5.3588, -5.405, -5.4845, -5.5326, -5.5776, -5.5992, -2.514, -2.8201, -3.3016, -3.3229, -3.3593, -3.4443, -3.5168, -3.5819, -3.6382, -3.6957, -3.7381, -3.8598, -3.914, -4.0983, -4.5225, -4.5249, -4.5407, -4.619, -4.6268, -4.6933, -4.8841, -4.8942, -5.036, -5.0757, -5.2292, -5.2527, -5.2987, -5.3038, -5.3762, -5.4, -2.2276, -2.9578, -3.2224, -3.6212, -3.6462, -3.7851, -4.0176, -4.0639, -4.0656, -4.1411, -4.1965, -4.361, -4.4293, -4.5094, -4.5361, -4.6275, -4.6591, -4.8441, -4.8843, -4.8953, -4.9439, -4.9667, -5.0494, -5.0653, -5.0732, -5.1272, -5.1839, -5.1918, -5.2113, -5.2745, -2.2961, -2.5011, -2.7651, -2.8558, -3.3889, -3.5262, -3.5378, -3.7892, -4.0812, -4.1172, -4.1237, -4.2034, -4.3503, -4.3706, -4.5391, -4.6164, -4.6351, -4.7796, -4.7897, -4.8188, -4.838, -4.8976, -4.9407, -4.9653, -5.008, -5.0499, -5.0604, -5.0641, -5.1989, -5.3238, -5.3243, -2.9363, -2.9466, -3.3299, -3.7103, -3.7217, -3.7342, -3.801, -4.0298, -4.0749, -4.1808, -4.2002, -4.273, -4.3081, -4.3503, -4.3563, -4.4224, -4.5324, -4.5369, -4.6347, -4.6838, -4.7081, -4.7325, -4.7552, -4.7646, -4.765, -4.7758, -4.7945, -4.8334, -4.8336, -4.8483, -2.2476, -2.3035, -2.9819, -3.2987, -3.6541, -3.8604, -3.9641, -4.0183, -4.0743, -4.0813, -4.3974, -4.4348, -4.4582, -4.4827, -4.7525, -4.8484, -5.0594, -5.1257, -2.7309, -5.3332, -5.372, -5.3767, -3.1814, -5.4888, -5.5971, -5.6908, -5.7045, -5.7351, -5.8663, -5.8784, -5.68, -3.3054, -3.651, -2.6517, -3.1385, -3.1497, -3.5297, -3.0535, -3.5936, -3.6971, -3.7449, -3.9005, -4.0921, -4.1066, -4.151, -4.1878, -4.1945, -4.246, -4.2642, -4.3402, -4.5159, -4.5671, -4.6497, -4.7642, -4.7733, -4.8102, -4.8671, -4.8883, -4.903, -4.9731, -4.9778, -5.0818, -5.104, -2.5205, -2.6449, -3.8025, -3.9188, -3.9776, -3.9889, -4.0601, -4.1723, -4.2894, -4.3553, -4.455, -4.4673, -4.5158, -4.5299, -4.534, -4.5825, -4.5951, -4.713, -4.7583, -4.7613, -4.8236, -4.8388, -4.8478, -4.8606, -4.8712, -4.8821, -4.9055, -4.9706, -4.9874, -4.9938, -2.5406, -3.0193, -3.0354, -3.0737, -3.9404, -3.9616, -4.0695, -4.085, -4.1212, -4.2507, -4.28, -4.3398, -4.3548, -4.3928, -4.4, -4.4797, -4.5094, -4.5898, -4.6231, -4.6919, -4.7425, -4.8208, -4.8439, -4.8539, -4.8545, -4.8545, -4.8545, -4.9217, -5.005, -5.0131, -4.9266, -2.4677, -2.8819, -3.0557, -3.3763, -3.5044, -3.5251, -3.8121, -3.87, -3.9676, -4.037, -4.3136, -4.3859, -4.4079, -4.4469, -4.4842, -4.5446, -4.7772, -4.7782, -4.8651, -4.9805, -5.0461, -5.0768, -5.1005, -5.1051, -5.1363, -5.2921, -5.2981, -5.3406, -5.358, -5.3703, -2.5965, -2.861, -3.2804, -3.2858, -3.3791, -3.4475, -3.7725, -4.0952, -4.1066, -4.1447, -4.2041, -4.3301, -4.353, -4.6492, -4.7012, -4.7732, -4.7925, -4.8154, -4.8837, -4.8974, -4.9029, -4.9375, -5.1018, -5.1026, -5.1027, -5.1429, -5.1627, -5.1908, -5.1932, -5.1949, -2.7916, -3.0556, -3.2513, -3.3563, -3.3658, -3.5405, -3.8631, -3.9004, -3.9734, -3.9971, -4.0403, -4.1696, -4.4007, -4.4281, -4.466, -4.4804, -4.5306, -4.5506, -4.6601, -4.6748, -4.7068, -4.7312, -4.8846, -5.0197, -4.9841, -4.7614, -5.1523, -5.1531, -5.1754, -5.1944, -2.8065, -2.9625, -3.2589, -3.5329, -3.6563, -3.8818, -3.9457, -4.0836, -4.0849, -4.1357, -4.1422, -4.1845, -4.198, -4.2124, -4.2313, -4.2477, -4.26, -4.2913, -4.33, -4.3576, -4.4681, -4.5176, -4.5177, -4.5178, -4.5785, -4.6129, -4.6157, -4.6371, -4.6417, -4.6499, -2.2005, -2.8512, -2.893, -3.0816, -3.1185, -3.1185, -3.7284, -3.8088, -4.0774, -4.1333, -4.2059, -4.2854, -4.4134, -4.4342, -4.5211, -4.5261, -4.5976, -4.8488, -4.9366, -4.9862, -5.0975, -5.082, -5.1766, -5.2421, -5.3613, -5.4201, -5.4571, -5.4582, -5.4616, -5.4762, -1.9524, -2.8115, -3.2807, -3.4751, -3.6225, -3.6635, -3.8575, -3.9391, -3.9447, -4.2495, -4.3083, -4.4707, -4.4861, -4.4868, -4.6017, -4.6497, -4.6655, -4.7348, -4.7405, -4.8157, -4.8254, -4.8583, -4.9179, -4.9365, -4.9634, -4.9748, -5.0339, -5.0642, -5.1297, -5.1325, -2.3953, -2.9335, -3.0602, -3.3085, -3.4372, -3.7657, -4.0453, -4.1984, -4.2702, -4.335, -4.3485, -4.4267, -4.4607, -4.5726, -4.5907, -4.6314, -4.6369, -4.741, -4.7751, -4.9055, -4.9057, -5.0098, -5.0291, -5.0363, -5.0366, -5.0525, -5.0989, -5.1231, -5.2049, -5.2049, -3.245, -3.2707, -3.5765, -3.5795, -3.6162, -3.6825, -3.8609, -3.9416, -4.0394, -4.205, -4.4013, -4.4287, -4.4887, -4.5123, -4.5396, -4.6093, -4.6505, -4.7393, -4.7477, -4.7597, -4.7666, -4.7977, -4.8253, -4.8274, -4.8595, -4.8741, -4.8895, -5.0133, -5.0178, -5.0352, -2.6388, -2.8932, -3.1041, -3.6233, -3.8328, -3.8626, -3.9049, -3.9244, -3.986, -4.193, -4.2025, -4.2813, -4.4058, -4.4108, -4.5219, -4.803, -4.812, -4.8446, -4.8988, -4.9014, -4.9809, -4.9963, -4.999, -5.0529, -5.087, -5.0966, -5.1076, -5.1076, -5.1356, -5.166, -5.0044, -3.2746, -3.4157, -3.4873, -3.5415, -3.5618, -3.5825, -3.585, -3.7075, -4.0097, -4.062, -4.0679, -4.0679, -4.2356, -4.342, -4.4468, -4.4668, -4.5256, -4.5627, -4.6159, -4.7887, -4.9428, -5.0392, -5.1265, -5.1266, -5.1348, -5.142, -5.1621, -5.1674, -5.1674, -5.1677, -3.4229, -4.8233, -5.0017], \"loglift\": [30.0, 29.0, 28.0, 27.0, 26.0, 25.0, 24.0, 23.0, 22.0, 21.0, 20.0, 19.0, 18.0, 17.0, 16.0, 15.0, 14.0, 13.0, 12.0, 11.0, 10.0, 9.0, 8.0, 7.0, 6.0, 5.0, 4.0, 3.0, 2.0, 1.0, 2.7054, 2.7029, 2.7023, 2.702, 2.699, 2.6978, 2.6964, 2.6892, 2.6835, 2.6811, 2.6757, 2.6713, 2.6634, 2.6541, 2.6467, 2.6454, 2.6445, 2.6442, 2.6387, 2.636, 2.6222, 2.6212, 2.612, 2.6093, 2.6071, 2.6038, 2.5932, 2.5903, 2.5881, 2.5459, 2.8298, 2.8296, 2.8296, 2.8288, 2.8281, 2.8277, 2.8269, 2.8249, 2.8246, 2.8245, 2.8242, 2.8239, 2.8233, 2.8224, 2.8219, 2.8187, 2.8181, 2.8158, 2.8099, 2.8086, 2.8054, 2.8046, 2.8024, 2.7935, 2.7872, 2.7862, 2.7761, 2.7738, 2.7643, 2.7594, 2.3589, 1.9938, 3.015, 3.0148, 3.0148, 3.0146, 3.0138, 3.0132, 3.0108, 3.0106, 3.0105, 3.0081, 3.008, 3.0073, 3.0065, 3.0059, 3.0051, 3.0036, 3.0034, 2.998, 2.9945, 2.9874, 2.9862, 2.986, 2.9829, 2.9828, 2.9828, 2.9808, 2.9796, 2.9793, 2.9755, 2.9753, 2.4636, 2.0378, 1.2615, 2.1355, 3.3089, 3.3088, 3.3086, 3.3081, 3.3072, 3.3056, 3.3051, 3.3047, 3.3023, 3.2982, 3.2966, 3.2931, 3.2916, 3.2916, 3.2855, 3.2803, 3.2753, 3.273, 3.2681, 3.2668, 3.261, 3.2592, 3.2588, 3.2567, 3.2564, 3.2555, 3.2553, 3.2537, 3.2498, 3.2479, 1.9283, 1.0257, 3.4964, 3.4958, 3.4933, 3.4878, 3.4862, 3.4807, 3.4792, 3.4775, 3.4772, 3.4751, 3.4724, 3.4712, 3.471, 3.4709, 3.4665, 3.4621, 3.4613, 3.4612, 3.4605, 3.4584, 3.4549, 3.4531, 3.4526, 3.4515, 3.4498, 3.4496, 3.4496, 3.4494, 3.4453, 3.4452, 3.2068, 3.5063, 3.5046, 3.4971, 3.4901, 3.4843, 3.4843, 3.4798, 3.4709, 3.4693, 3.4666, 3.4656, 3.4653, 3.4624, 3.4572, 3.4489, 3.4434, 3.4417, 3.4401, 3.4375, 3.4338, 3.4303, 3.4295, 3.4283, 3.4231, 3.4165, 3.4139, 3.4135, 3.4131, 3.4123, 3.4115, 2.9399, 3.5289, 3.527, 3.524, 3.5191, 3.5171, 3.5088, 3.5071, 3.5068, 3.5056, 3.5055, 3.5034, 3.4964, 3.4956, 3.4946, 3.4923, 3.4911, 3.4854, 3.4849, 3.4841, 3.4837, 3.481, 3.4785, 3.4782, 3.4755, 3.4738, 3.4697, 3.4694, 3.4681, 3.4669, 3.4655, 2.9283, 3.6614, 3.6604, 3.6586, 3.658, 3.6571, 3.6567, 3.6565, 3.6515, 3.6443, 3.6423, 3.6368, 3.6339, 3.6327, 3.6295, 3.6287, 3.6286, 3.6281, 3.6249, 3.6245, 3.6244, 3.6244, 3.6244, 3.6244, 3.6235, 3.6223, 3.6218, 3.619, 3.6185, 3.6155, 3.6154, 3.4733, 1.6084, 3.7188, 3.7163, 3.7161, 3.7134, 3.7115, 3.7096, 3.7081, 3.7051, 3.7043, 3.6987, 3.6986, 3.6981, 3.696, 3.6898, 3.6867, 3.6864, 3.6815, 3.6787, 3.6785, 3.6763, 3.6745, 3.6741, 3.6714, 3.6699, 3.6691, 3.6575, 3.6567, 3.6508, 3.6447, 3.6432, 3.6108, 3.8131, 3.8088, 3.8079, 3.8071, 3.8045, 3.8029, 3.8019, 3.7988, 3.7983, 3.7958, 3.7933, 3.7841, 3.779, 3.7664, 3.7648, 3.7602, 3.7535, 3.749, 3.7446, 3.7398, 3.7361, 3.7331, 3.732, 3.7314, 3.7303, 3.7226, 3.7197, 3.7157, 3.7153, 3.7132, 2.0373, 3.8345, 3.833, 3.8314, 3.8274, 3.8268, 3.8202, 3.816, 3.8127, 3.8108, 3.8089, 3.8086, 3.8042, 3.8033, 3.8023, 3.7983, 3.7969, 3.7871, 3.7857, 3.7846, 3.7834, 3.7832, 3.7828, 3.7819, 3.7812, 3.7802, 3.7797, 3.7757, 3.7704, 3.7702, 3.7641, 3.8408, 3.8387, 3.8383, 3.8377, 3.8374, 3.8368, 3.8327, 3.8249, 3.8218, 3.8214, 3.8184, 3.8179, 3.8177, 3.816, 3.8151, 3.8072, 3.8017, 3.798, 3.7978, 3.7966, 3.7963, 3.7962, 3.7962, 3.7867, 3.7828, 3.7781, 3.7771, 3.7744, 3.7734, 3.7727, 3.8526, 3.8502, 3.8473, 3.8459, 3.8443, 3.8415, 3.8382, 3.8369, 3.8352, 3.8339, 3.8335, 3.8298, 3.8289, 3.8221, 3.8201, 3.8177, 3.8158, 3.8132, 3.8124, 3.8098, 3.8078, 3.8059, 3.8049, 3.8, 3.7974, 3.7969, 3.7944, 3.7886, 3.7858, 3.7858, 3.8868, 3.8848, 3.8829, 3.8825, 3.8788, 3.8752, 3.8697, 3.8696, 3.867, 3.8637, 3.8629, 3.86, 3.856, 3.8548, 3.8521, 3.8514, 3.8504, 3.8475, 3.846, 3.841, 3.8403, 3.8402, 3.8286, 3.8273, 3.8273, 3.8273, 3.827, 3.8244, 3.8194, 3.8158, 3.6553, 3.887, 3.8867, 3.8866, 3.884, 3.884, 3.8831, 3.8829, 3.8825, 3.8824, 3.881, 3.8806, 3.8626, 3.8563, 3.8557, 3.8526, 3.8443, 3.8423, 3.8412, 3.8386, 3.8371, 3.8357, 3.8343, 3.8327, 3.8322, 3.8284, 3.826, 3.8178, 3.8178, 3.8171, 3.8142, 3.9089, 3.9079, 3.9005, 3.8973, 3.8955, 3.8947, 3.8922, 3.8885, 3.8879, 3.8867, 3.8799, 3.8795, 3.8775, 3.8747, 3.8693, 3.8666, 3.866, 3.8653, 3.8621, 3.8616, 3.8614, 3.8485, 3.8477, 3.8407, 3.8334, 3.8317, 3.8204, 3.8113, 3.8113, 3.8068, 3.9713, 3.9707, 3.9694, 3.9663, 3.962, 3.9618, 3.9593, 3.957, 3.9523, 3.952, 3.9496, 3.9488, 3.9421, 3.9351, 3.9308, 3.9298, 3.9291, 3.9276, 3.9275, 3.9242, 3.9205, 3.9149, 3.9126, 3.9121, 3.905, 3.9027, 3.9008, 3.899, 3.8928, 3.8896, 4.0171, 4.0126, 4.0087, 4.0077, 4.0053, 4.0014, 3.9988, 3.9939, 3.9884, 3.9876, 3.9868, 3.9793, 3.9772, 3.9756, 3.9695, 3.9682, 3.9666, 3.9644, 3.9624, 3.9582, 3.958, 3.9571, 3.9535, 3.9525, 3.9455, 3.945, 3.9447, 3.9426, 3.9375, 3.9336, 3.9162, 1.836, 4.0185, 4.0164, 4.0142, 4.0113, 4.0112, 4.0109, 4.0092, 4.009, 4.0089, 4.0068, 4.0067, 4.0032, 4.0028, 4.0016, 3.9978, 3.9942, 3.9934, 3.9933, 3.9893, 3.9867, 3.9861, 3.9833, 3.9827, 3.9824, 3.9791, 3.9789, 3.9787, 3.9686, 3.9605, 3.9605, 3.752, 0.8708, 4.0265, 4.0263, 4.0247, 4.0231, 4.0215, 4.0174, 4.0154, 4.0143, 4.0092, 4.0052, 4.0049, 4.0037, 4.0033, 4.0013, 3.9944, 3.9937, 3.993, 3.9923, 3.9874, 3.983, 3.9801, 3.9755, 3.9748, 3.9719, 3.9688, 3.967, 3.967, 3.965, 3.9645, 3.9606, 4.0581, 4.0563, 4.0562, 4.0531, 4.0504, 4.0488, 4.0478, 4.044, 4.0401, 4.0394, 4.0376, 4.0369, 4.0367, 4.0325, 4.0323, 4.0316, 4.03, 4.029, 4.0276, 4.0256, 4.0237, 4.0228, 4.0197, 4.0188, 4.017, 4.0149, 4.0128, 4.0106, 4.0052, 4.0002, 4.0801, 4.0777, 4.0719, 4.065, 4.0644, 4.0641, 4.064, 4.0624, 4.0618, 4.0607, 4.0596, 4.0592, 4.0579, 4.0551, 4.0534, 4.0524, 4.0487, 4.0484, 4.0372, 4.0358, 4.035, 4.0346, 4.0335, 4.0329, 4.0301, 4.0221, 4.0213, 4.0201, 4.0196, 4.0185, 3.7202, 4.0827, 4.078, 4.0711, 4.0696, 4.0693, 4.0648, 4.0574, 4.0553, 4.0491, 4.0479, 4.0381, 4.0338, 4.0322, 4.0256, 4.0163, 4.0132, 4.0039, 3.9994, 3.9946, 3.9938, 3.9923, 3.9922, 3.9793, 3.9763, 3.9747, 3.9701, 3.9698, 3.9693, 3.9663, 3.9643, 3.8408, 3.8408, 3.4534, 3.8408, 3.8408, 4.1064, 4.1034, 4.1027, 4.1025, 4.1023, 4.1019, 4.099, 4.0917, 4.0916, 4.087, 4.0855, 4.0825, 4.0796, 4.0774, 4.0753, 4.0706, 4.0668, 4.0543, 4.0458, 4.0398, 4.0392, 4.0383, 4.0383, 4.0331, 4.0251, 4.0241, 4.024, 4.01, 4.0074, 3.9958, 4.1213, 4.1178, 4.1175, 4.1106, 4.1071, 4.1019, 4.0989, 4.0981, 4.0971, 4.093, 4.0884, 4.0872, 4.0852, 4.0794, 4.0775, 4.0769, 4.0746, 4.0701, 4.0695, 4.0641, 4.0637, 4.062, 4.0582, 4.0571, 4.057, 4.0551, 4.0494, 4.0483, 4.0474, 4.0463, 4.0445, 4.1378, 4.1374, 4.1354, 4.1348, 4.1339, 4.1322, 4.1242, 4.1151, 4.1149, 4.1138, 4.1102, 4.1089, 4.1064, 4.1054, 4.0977, 4.0971, 4.097, 4.0942, 4.0905, 4.0859, 4.0841, 4.084, 4.0799, 4.0798, 4.0793, 4.0778, 4.0763, 4.0754, 4.074, 4.0726, 4.1483, 4.1474, 4.145, 4.1438, 4.1396, 4.1329, 4.1311, 4.1299, 4.1124, 4.1109, 4.1034, 4.0987, 4.0972, 4.0965, 4.0933, 4.0925, 4.0911, 4.0907, 4.0905, 4.09, 4.0876, 4.086, 4.0802, 4.0782, 4.0745, 4.0721, 4.0646, 4.0612, 4.0596, 4.0567, 3.3731, 4.0187, 4.1747, 4.1723, 4.1717, 4.1558, 4.1503, 4.15, 4.1494, 4.1485, 4.139, 4.1382, 4.1381, 4.1374, 4.1313, 4.1292, 4.1289, 4.1228, 4.1226, 4.1176, 4.116, 4.1082, 4.1033, 4.098, 4.0925, 4.0912, 4.089, 4.0877, 4.085, 4.083, 4.0757, 4.0752, 3.5622, 4.1793, 4.1791, 4.1769, 4.1738, 4.1701, 4.17, 4.1699, 4.1614, 4.1596, 4.1592, 4.157, 4.1522, 4.1475, 4.1444, 4.1426, 4.1319, 4.1309, 4.1305, 4.118, 4.1176, 4.1128, 4.106, 4.1053, 4.0984, 4.0978, 4.0772, 4.0763, 4.0737, 4.0648, 4.0592, 3.7514, 4.1856, 4.1803, 4.1781, 4.1769, 4.172, 4.1718, 4.1716, 4.1706, 4.1696, 4.1669, 4.1669, 4.1664, 4.1659, 4.1636, 4.1607, 4.1536, 4.1529, 4.1525, 4.149, 4.1477, 4.1438, 4.1415, 4.1411, 4.1367, 4.1359, 4.1342, 4.1312, 4.1262, 4.1233, 4.1202, 4.196, 4.1927, 4.1909, 4.1886, 4.1857, 4.1811, 4.1794, 4.1763, 4.1722, 4.1645, 4.1559, 4.1508, 4.1501, 4.148, 4.1462, 4.1438, 4.1415, 4.1376, 4.136, 4.136, 4.1357, 4.1344, 4.1327, 4.1299, 4.1286, 4.1248, 4.1241, 4.1192, 4.1178, 4.1154, 3.7634, 3.95, 4.2174, 4.2114, 4.2098, 4.2059, 4.2058, 4.1933, 4.1933, 4.1924, 4.1911, 4.1907, 4.1801, 4.1759, 4.164, 4.1609, 4.157, 4.1537, 4.1508, 4.1497, 4.1495, 4.1428, 4.1424, 4.14, 4.1305, 4.1236, 4.1207, 4.1162, 4.1081, 4.1029, 4.0979, 4.0954, 4.2137, 4.2116, 4.2065, 4.2063, 4.2058, 4.2045, 4.2034, 4.2023, 4.2013, 4.2002, 4.1994, 4.1968, 4.1955, 4.1907, 4.1757, 4.1756, 4.1749, 4.1713, 4.1709, 4.1677, 4.1571, 4.1564, 4.1471, 4.1443, 4.1323, 4.1303, 4.1263, 4.1259, 4.1192, 4.1169, 4.2314, 4.2265, 4.2236, 4.2176, 4.2171, 4.2144, 4.2088, 4.2075, 4.2075, 4.2053, 4.2035, 4.1978, 4.1952, 4.1919, 4.1907, 4.1865, 4.1849, 4.1748, 4.1724, 4.1717, 4.1686, 4.1671, 4.1614, 4.1602, 4.1597, 4.1556, 4.1511, 4.1505, 4.1488, 4.1434, 3.3751, 4.2488, 4.2469, 4.2462, 4.24, 4.2378, 4.2376, 4.2328, 4.2253, 4.2243, 4.2241, 4.2216, 4.2164, 4.2156, 4.2085, 4.2049, 4.204, 4.1963, 4.1954, 4.194, 4.1929, 4.1892, 4.1864, 4.1847, 4.1818, 4.1788, 4.178, 4.1777, 4.1671, 4.1559, 4.1559, 4.246, 4.2459, 4.2414, 4.235, 4.2347, 4.2345, 4.233, 4.2273, 4.2261, 4.2228, 4.2222, 4.2197, 4.2185, 4.2169, 4.2167, 4.2141, 4.2094, 4.2092, 4.2045, 4.202, 4.2008, 4.1994, 4.1982, 4.1977, 4.1976, 4.197, 4.196, 4.1937, 4.1937, 4.1928, 4.2535, 4.2532, 4.2483, 4.2446, 4.2388, 4.2344, 4.2318, 4.2303, 4.2287, 4.2285, 4.2177, 4.2162, 4.2152, 4.2142, 4.2009, 4.1953, 4.1811, 4.176, 4.1719, 4.158, 4.1542, 4.1537, 4.1446, 4.142, 4.1295, 4.1178, 4.116, 4.1118, 4.0929, 4.0911, 4.0373, 3.2096, 0.7142, 4.2526, 4.2481, 4.248, 4.2425, 4.2419, 4.2414, 4.2394, 4.2384, 4.2349, 4.2297, 4.2293, 4.2279, 4.2267, 4.2265, 4.2248, 4.2241, 4.2214, 4.2142, 4.2118, 4.2078, 4.2017, 4.2012, 4.199, 4.1956, 4.1942, 4.1933, 4.1886, 4.1883, 4.1808, 4.1791, 4.2543, 4.2534, 4.238, 4.2352, 4.2337, 4.2334, 4.2314, 4.228, 4.2241, 4.2216, 4.2176, 4.2171, 4.215, 4.2143, 4.2142, 4.2119, 4.2113, 4.2053, 4.2028, 4.2026, 4.199, 4.1981, 4.1976, 4.1968, 4.1961, 4.1954, 4.1939, 4.1896, 4.1884, 4.1878, 4.2622, 4.2583, 4.2581, 4.2577, 4.2426, 4.2421, 4.2391, 4.2387, 4.2376, 4.2333, 4.2323, 4.2301, 4.2295, 4.228, 4.2277, 4.2244, 4.2231, 4.2194, 4.2177, 4.2142, 4.2115, 4.2069, 4.2055, 4.2049, 4.2049, 4.2049, 4.2049, 4.2006, 4.1949, 4.1943, 3.014, 4.2774, 4.2743, 4.2726, 4.2684, 4.2664, 4.266, 4.2603, 4.2589, 4.2564, 4.2545, 4.2454, 4.2425, 4.2416, 4.24, 4.2384, 4.2357, 4.2235, 4.2234, 4.2181, 4.2104, 4.2056, 4.2033, 4.2015, 4.2011, 4.1986, 4.1849, 4.1844, 4.1803, 4.1786, 4.1773, 4.2853, 4.2832, 4.2785, 4.2784, 4.277, 4.276, 4.2698, 4.2613, 4.2609, 4.2597, 4.2578, 4.2532, 4.2523, 4.2389, 4.2361, 4.232, 4.2309, 4.2295, 4.2252, 4.2243, 4.2239, 4.2216, 4.2095, 4.2094, 4.2094, 4.2053, 4.2045, 4.2021, 4.2019, 4.2018, 4.2845, 4.282, 4.2796, 4.2781, 4.2779, 4.2751, 4.2683, 4.2674, 4.2654, 4.2648, 4.2636, 4.2596, 4.251, 4.2499, 4.2482, 4.2476, 4.2453, 4.2444, 4.2389, 4.2381, 4.2364, 4.235, 4.2257, 4.2163, 4.2138, 4.2097, 4.2059, 4.2058, 4.204, 4.2023, 4.2896, 4.2882, 4.2847, 4.2804, 4.2781, 4.273, 4.2713, 4.2674, 4.2674, 4.2658, 4.2656, 4.2642, 4.2637, 4.2632, 4.2626, 4.262, 4.2615, 4.2604, 4.2589, 4.2578, 4.2532, 4.251, 4.251, 4.251, 4.2481, 4.2464, 4.2462, 4.2451, 4.2449, 4.2445, 4.3213, 4.3168, 4.3164, 4.3144, 4.3041, 4.3041, 4.3037, 4.3019, 4.2945, 4.2927, 4.2902, 4.2873, 4.2821, 4.2812, 4.2772, 4.277, 4.2734, 4.2588, 4.2528, 4.2492, 4.2406, 4.236, 4.2338, 4.2279, 4.2161, 4.2098, 4.2056, 4.2055, 4.2051, 4.2035, 4.3486, 4.3433, 4.3378, 4.3346, 4.3318, 4.3309, 4.3264, 4.3242, 4.324, 4.3141, 4.3118, 4.3047, 4.304, 4.304, 4.2982, 4.2956, 4.2948, 4.2907, 4.2904, 4.2857, 4.2851, 4.2829, 4.2788, 4.2774, 4.2755, 4.2746, 4.27, 4.2676, 4.2621, 4.2619, 4.3664, 4.362, 4.3606, 4.3572, 4.3551, 4.3483, 4.3406, 4.3354, 4.3327, 4.3301, 4.3295, 4.3261, 4.3245, 4.319, 4.318, 4.3158, 4.3155, 4.3094, 4.3073, 4.2985, 4.2985, 4.2907, 4.2892, 4.2886, 4.2886, 4.2873, 4.2834, 4.2813, 4.2739, 4.2739, 4.4271, 4.4267, 4.421, 4.421, 4.4202, 4.4186, 4.414, 4.4116, 4.4085, 4.4025, 4.394, 4.3927, 4.3896, 4.3884, 4.387, 4.3831, 4.3806, 4.3751, 4.3745, 4.3737, 4.3733, 4.3711, 4.3692, 4.3691, 4.3667, 4.3657, 4.3645, 4.3547, 4.3543, 4.3528, 4.5097, 4.507, 4.5042, 4.4944, 4.4888, 4.4879, 4.4866, 4.486, 4.4839, 4.476, 4.4756, 4.4722, 4.4661, 4.4659, 4.4598, 4.4414, 4.4407, 4.4383, 4.434, 4.4337, 4.427, 4.4256, 4.4254, 4.4205, 4.4172, 4.4163, 4.4152, 4.4152, 4.4124, 4.4093, 4.3315, 4.6404, 4.6374, 4.6357, 4.6344, 4.6338, 4.6333, 4.6332, 4.6297, 4.6192, 4.617, 4.6168, 4.6168, 4.609, 4.6034, 4.5973, 4.5961, 4.5923, 4.5898, 4.5861, 4.567, 4.5588, 4.5491, 4.5395, 4.5395, 4.5386, 4.5377, 4.5354, 4.5348, 4.5348, 4.5347, 4.1028, 2.0794, 2.3243]}, \"token.table\": {\"Topic\": [37, 3, 4, 22, 14, 4, 3, 40, 8, 4, 4, 4, 3, 4, 48, 4, 9, 3, 12, 5, 4, 22, 4, 5, 37, 40, 19, 4, 8, 14, 22, 38, 29, 30, 3, 13, 3, 3, 3, 3, 8, 27, 14, 37, 37, 22, 36, 29, 38, 8, 27, 3, 8, 4, 47, 47, 5, 49, 44, 1, 3, 34, 3, 35, 27, 5, 35, 3, 14, 23, 5, 5, 37, 50, 48, 46, 5, 5, 49, 5, 9, 3, 48, 19, 5, 37, 5, 8, 48, 16, 14, 22, 50, 2, 43, 3, 37, 35, 49, 26, 37, 9, 26, 34, 29, 9, 9, 8, 19, 19, 5, 3, 4, 5, 23, 11, 12, 29, 32, 44, 5, 3, 3, 47, 5, 5, 3, 5, 5, 29, 48, 33, 48, 3, 27, 24, 13, 38, 23, 37, 36, 28, 24, 3, 12, 47, 13, 13, 31, 48, 34, 13, 32, 9, 10, 8, 41, 35, 8, 15, 16, 45, 14, 50, 7, 7, 32, 50, 2, 40, 11, 28, 6, 47, 26, 18, 1, 17, 6, 20, 20, 36, 17, 28, 47, 5, 41, 3, 24, 25, 43, 42, 19, 45, 1, 40, 33, 25, 23, 47, 33, 2, 50, 25, 42, 10, 36, 39, 1, 42, 11, 31, 20, 12, 14, 21, 29, 30, 14, 18, 18, 38, 35, 17, 15, 7, 6, 5, 19, 8, 20, 33, 44, 28, 23, 24, 10, 26, 35, 10, 28, 49, 39, 27, 24, 39, 32, 50, 42, 26, 39, 34, 41, 3, 30, 19, 33, 33, 7, 4, 47, 10, 34, 21, 40, 23, 25, 16, 40, 27, 41, 50, 24, 6, 49, 44, 49, 4, 5, 25, 35, 30, 14, 39, 29, 48, 33, 4, 8, 41, 13, 38, 1, 27, 15, 18, 49, 18, 18, 19, 42, 41, 18, 39, 15, 13, 7, 43, 24, 45, 44, 2, 32, 7, 2, 15, 45, 37, 18, 35, 8, 16, 6, 47, 17, 16, 2, 7, 37, 12, 32, 5, 11, 33, 33, 16, 11, 37, 50, 20, 8, 10, 39, 22, 41, 41, 37, 30, 28, 20, 46, 18, 46, 37, 10, 47, 8, 38, 33, 7, 47, 25, 14, 23, 15, 21, 9, 11, 49, 48, 20, 38, 27, 29, 15, 47, 32, 33, 8, 47, 14, 37, 15, 7, 19, 36, 27, 8, 48, 10, 48, 19, 14, 33, 19, 26, 27, 9, 9, 50, 34, 2, 35, 46, 31, 45, 42, 38, 22, 28, 23, 13, 4, 31, 17, 45, 41, 45, 18, 36, 21, 35, 39, 16, 19, 35, 24, 44, 18, 44, 42, 47, 27, 28, 48, 1, 7, 8, 10, 18, 19, 5, 6, 13, 1, 37, 12, 25, 32, 4, 4, 26, 45, 37, 12, 5, 47, 44, 14, 35, 39, 46, 33, 12, 37, 21, 1, 35, 15, 39, 47, 1, 3, 45, 28, 21, 3, 13, 17, 30, 6, 1, 22, 41, 45, 26, 7, 37, 48, 19, 24, 12, 26, 21, 17, 21, 20, 20, 20, 8, 29, 9, 17, 31, 43, 47, 28, 13, 43, 22, 47, 36, 38, 34, 14, 12, 21, 30, 44, 26, 50, 27, 14, 15, 9, 2, 3, 8, 4, 4, 4, 4, 4, 9, 4, 38, 35, 16, 24, 31, 10, 43, 33, 30, 16, 31, 48, 27, 28, 1, 35, 22, 50, 42, 25, 21, 11, 7, 41, 44, 32, 31, 49, 17, 7, 50, 24, 20, 1, 47, 7, 27, 34, 6, 11, 14, 21, 44, 11, 9, 33, 17, 43, 18, 16, 33, 13, 40, 14, 33, 11, 26, 44, 28, 48, 44, 12, 10, 33, 40, 32, 24, 2, 16, 24, 44, 29, 15, 49, 42, 6, 1, 2, 17, 17, 49, 31, 13, 48, 36, 25, 26, 8, 13, 45, 2, 23, 30, 8, 19, 4, 43, 27, 44, 33, 1, 50, 50, 43, 12, 28, 14, 32, 43, 11, 17, 16, 25, 33, 32, 11, 42, 33, 11, 42, 34, 22, 34, 5, 11, 9, 35, 32, 42, 10, 16, 31, 11, 39, 16, 46, 49, 40, 6, 43, 7, 27, 15, 17, 12, 21, 17, 2, 41, 12, 37, 1, 41, 26, 27, 34, 33, 8, 20, 37, 18, 14, 14, 20, 46, 50, 31, 36, 14, 17, 32, 32, 32, 39, 9, 48, 14, 23, 44, 42, 46, 45, 25, 7, 30, 13, 21, 36, 47, 23, 1, 21, 46, 50, 46, 38, 36, 8, 26, 2, 50, 40, 31, 22, 15, 2, 3, 50, 3, 8, 35, 47, 49, 8, 1, 14, 38, 48, 29, 11, 15, 33, 50, 10, 38, 30, 10, 37, 39, 32, 22, 31, 24, 16, 14, 2, 13, 38, 50, 46, 28, 45, 6, 34, 12, 21, 7, 29, 9, 23, 45, 23, 24, 31, 36, 17, 12, 1, 13, 1, 31, 44, 6, 19, 15, 6, 22, 32, 10, 36, 29, 21, 49, 48, 11, 17, 23, 41, 36, 19, 29, 6, 6, 36, 15, 5, 5, 45, 22, 33, 17, 22, 46, 37, 15, 25, 23, 48, 3, 22, 18, 16, 49, 12, 16, 47, 13, 44, 50, 19, 39, 22, 10, 34, 15, 18, 28, 38, 35, 27, 30, 29, 28, 41, 23, 39, 22, 44, 12, 21, 49, 18, 42, 27, 25, 26, 18, 29, 15, 15, 29, 1, 14, 30, 43, 17, 2, 34, 24, 37, 29, 17, 21, 25, 32, 30, 26, 25, 2, 22, 9, 30, 6, 30, 42, 25, 5, 14, 23, 29, 40, 13, 30, 39, 2, 30, 30, 18, 8, 35, 8, 38, 41, 39, 44, 23, 46, 28, 34, 14, 32, 31, 10, 40, 29, 46, 47, 28, 16, 40, 14, 47, 42, 21, 39, 8, 20, 12, 31, 10, 19, 24, 7, 42, 35, 7, 25, 42, 23, 36, 22, 2, 6, 2, 44, 45, 30, 13, 19, 24, 34, 37, 45, 18, 27, 50, 39, 32, 9, 29, 38, 9, 9, 25, 21, 38, 34, 46, 29, 20, 44, 5, 20, 45, 36, 10, 16, 40, 22, 20, 36, 35, 34, 38, 12, 31, 37, 16, 32, 14, 26, 26, 14, 6, 16, 22, 16, 16, 19, 38, 13, 10, 46, 22, 19, 15, 46, 12, 3, 46, 12, 4, 47, 7, 17, 50, 32, 46, 30, 20, 45, 37, 50, 37, 22, 14, 40, 47, 11, 7, 23, 39, 2, 31, 15, 50, 6, 28, 28, 46, 2, 48, 31, 40, 21, 49, 23, 49, 39, 15, 20, 14, 11, 40, 28, 18, 27, 30, 1, 23, 6, 18, 49, 6, 17, 6, 6, 1, 25, 42, 42, 20, 10, 26, 23, 3, 6, 40, 40, 1, 20, 8, 43, 19, 30, 27, 37, 27, 27, 17, 44, 13, 45, 41, 40, 36, 26, 44, 39, 34, 31, 35, 33, 25, 27, 35, 13, 39, 18, 34, 9, 38, 44, 12, 25, 42, 27, 31, 9, 34, 7, 25, 46, 12, 39, 25, 46, 28, 18, 16, 19, 38, 17, 40, 9, 22, 40, 22, 47, 18, 36, 30, 39, 26, 43, 48, 11, 7, 28, 43, 21, 12, 6, 45, 38, 25, 45, 32, 18, 13, 21, 7, 17, 31, 24, 41, 34, 30, 41, 9, 15, 15, 32, 23, 16, 34, 37, 26, 35, 45, 36, 4, 20, 38, 43, 39, 10, 31, 11, 15, 42, 22, 30, 29, 8, 24, 19, 23, 18, 27, 21, 4, 9, 11, 48, 41, 48, 49, 26, 19, 11, 21, 21, 48, 41, 38, 15, 47, 13, 16, 21, 23, 24, 35, 11, 3, 14, 14, 9, 19, 48, 36, 22, 2, 14, 30, 31, 36, 41, 33, 20, 49, 32, 49, 3, 32, 6, 35, 11, 1, 25, 31, 7, 34, 13, 46, 11, 46, 28, 12, 28, 2, 10, 43, 49, 25, 43, 40, 20, 23, 33, 27, 28, 23, 45, 39, 46, 13, 39, 24, 24, 34, 4, 3, 5, 31, 35, 44, 7, 31, 19, 47, 43, 42, 7, 13, 1, 17, 29, 49, 37, 1, 44, 20, 25, 9, 11, 4, 29, 24, 38, 1, 19, 36, 41, 24, 9, 50, 7, 43, 30, 26, 10, 42, 46, 38, 23, 35, 49, 29, 28, 18, 35, 20, 36, 23, 50, 26, 2, 11, 25, 32, 43, 31, 23, 49, 45, 48, 26, 49, 21, 2, 47, 12, 23, 12, 25, 38, 42, 31, 49, 49, 48, 36, 31, 7, 23, 8, 17, 33, 50, 43, 10, 16, 35, 24, 10, 27, 20, 46, 1, 24, 33, 13, 42, 43, 21, 21, 9, 8, 42, 2, 50, 24, 11, 13, 14, 19, 21, 29, 36, 43, 16, 27, 16, 50, 24, 9, 10, 20, 36, 45, 34, 21, 19, 50, 50, 11, 41, 28, 20, 37, 19, 41, 34, 36, 34, 15, 4, 17, 43, 18, 43, 22, 23, 41, 29, 43, 2, 12, 5, 4, 28, 42, 27, 17, 10, 37, 9, 12, 1, 13, 46, 31, 46, 45, 39, 6, 6, 18, 36, 23, 38, 44, 2, 16, 24, 43, 41, 8, 9, 19, 50, 34, 7, 42, 35, 43, 1, 17, 48, 29, 16, 26, 49, 45, 32, 15, 34, 49, 24, 28, 10, 18, 45, 43, 39, 26, 36, 2, 18, 22, 7, 40, 30, 6, 35, 15, 25, 48, 40, 40, 40, 42, 40, 40, 34, 29, 20, 44, 39, 13, 29, 44, 2, 26, 40, 41, 10, 46, 41, 10, 6, 38, 45, 28, 33, 6, 2, 30, 50, 40, 41, 46, 43, 26, 25, 32, 27], \"Freq\": [0.9489818889489084, 0.9665221211784771, 0.9427627105284321, 0.9885079198567118, 0.9476396321022396, 0.9624572756251462, 0.9659476847775106, 0.9236149377073378, 0.9420110232872758, 0.9624200891619389, 0.9521917410505202, 0.916895572528022, 0.9809589067195353, 0.9640346712145968, 0.9563572297728039, 0.9949902079894904, 0.9976059165290806, 0.9676410140894869, 0.9963097492790731, 0.9810831719830148, 0.9735085526555785, 0.9782699979222366, 0.957073187651568, 0.9876842035543912, 0.9157498213370949, 0.9944438588948246, 0.9953964407533894, 0.9284104899371213, 0.9904264390016219, 0.9665857245001466, 0.9744554192508654, 0.8976471354273322, 0.9701698188502289, 0.9142930334389918, 0.9949265888501212, 0.927899879793001, 0.940679804750441, 0.9862745198181421, 0.9724245386093808, 0.9819593039830148, 0.9544776493827619, 0.9759622938022199, 0.9338023106433181, 0.831434679936124, 0.9758048737517097, 0.9901454762443072, 0.9765968138455068, 0.9861551775671634, 0.938363738604002, 0.9624648352098321, 0.8801325171194169, 0.9978798626526829, 0.9655776468517937, 0.9947205743548863, 0.9359788583224035, 0.990505968207168, 0.929433541282719, 0.9714808768775856, 0.9661232210602582, 0.9953203675576183, 0.5743914846768507, 0.42170514064882714, 0.9850690648736454, 0.9430122667635124, 0.9479840683490203, 0.9703543678879928, 0.9739499128995851, 0.9973373121850657, 0.10829063706050057, 0.758034459423504, 0.9769296517584235, 0.9657538906906156, 0.9769165006149129, 0.9682106838111086, 0.8972043017627562, 0.9616605730457928, 0.9796914952258884, 0.966353668869872, 0.9922949573019408, 0.9706253462534972, 0.989492035084702, 0.9819941405405729, 0.9825603222262986, 0.9682266568915203, 0.9763104576944923, 0.9682941079760188, 0.9900913095599256, 0.98494277669873, 0.9170946920822338, 0.9358107606800189, 0.9696556076335621, 0.9555247890294443, 0.9374527343019964, 0.9985319509014519, 0.9877666008471697, 0.9928921066689258, 0.8824803044072921, 0.9616621309365043, 0.9282446673334852, 0.9522056309397661, 0.9665205764186597, 0.955790578839749, 0.9961555185046361, 0.9792077694054392, 0.9394923681656542, 0.9836723954147205, 0.9425706820294979, 0.979589514822158, 0.9357006148472315, 0.9819345458152569, 0.9342145021833123, 0.9854573169126511, 0.9962930520917556, 0.9437390221658337, 0.9577962937482706, 0.9565190061133969, 0.9936494598633548, 0.9941925691430854, 0.955696432774779, 0.9582590097615903, 0.9909276131252924, 0.9752508102558187, 0.9789227586413219, 0.9676603514019965, 0.9308661854816649, 0.9771833461892273, 0.9636741027208452, 0.9729403598860578, 0.9270464726075343, 0.9724019635863024, 0.9185831572861571, 0.9072037212767466, 0.9734807046939056, 0.9824893147446785, 0.968184200743544, 0.943446703203808, 0.9841598159287981, 0.9791974921885807, 0.9482341268832125, 0.9108556887856104, 0.9379051068902106, 0.9357421210116782, 0.9482626153374462, 0.9823826347519988, 0.9669733798827956, 0.8921189179553501, 0.9661528304458954, 0.9724571828591231, 0.9493668281591544, 0.9274442620992788, 0.9401881112240589, 0.9756422478116997, 0.9424961716862393, 0.962520704864037, 0.9642954611313529, 0.9957881913300648, 0.947534738738351, 0.9590587216154284, 0.9781802095555531, 0.8979206124546988, 0.9562548241912715, 0.9483331159407985, 0.9713401988412959, 0.8151168321955311, 0.9635580994765758, 0.9667322806160378, 0.9662330039970022, 0.818945069518017, 0.9324109647738024, 0.9688509348130991, 0.9442149135123441, 0.9708606184371595, 0.9648608603962459, 0.9759800963967263, 0.9785799755833655, 0.9646158877663351, 0.9895498248919373, 0.9738072873622722, 0.977644055063243, 0.9615048219721911, 0.93162138594944, 0.9118238033524847, 0.9284052076045525, 0.8768501164641342, 0.9623770913914056, 0.9991856687446593, 0.9146948328985391, 0.9959430397897281, 0.970618026233937, 0.962417904701417, 0.9656301602314414, 0.9196298863049902, 0.9738091284584923, 0.9777587858519236, 0.991997195806181, 0.9085589596691179, 0.9417155904995185, 0.9278010544230381, 0.9162332424596344, 0.980299368610172, 0.9807346606231997, 0.9441654660209516, 0.9104747096689714, 0.9493962047860542, 0.9924212254662677, 0.9946456150594384, 0.9161182414011007, 0.9200083849876151, 0.8726895901400034, 0.9580328482709591, 0.9607246428092934, 0.9072191923144488, 0.986822820025705, 0.9547990841513598, 0.9985728137630194, 0.9816120267171096, 0.9314567128148862, 0.9767734840627429, 0.9394286297475735, 0.9900741008319475, 0.9821626001256977, 0.9809817312953653, 0.8745833690613247, 0.8981817552364805, 0.9934055042899073, 0.955186033914921, 0.9110032356348134, 0.9953170879149779, 0.9248946339160548, 0.979589514822158, 0.9685549217293793, 0.971608333330662, 0.9503611135070146, 0.9568859600539844, 0.8809176618983682, 0.9553615704172576, 0.9978220002431913, 0.9255509201399984, 0.9589387691830144, 0.9231758737169763, 0.8970856740743985, 0.9874645154186195, 0.947409259154322, 0.9822399801689182, 0.9950390493577996, 0.9868475528362486, 0.942373528864389, 0.9593874091805371, 0.9816231173689809, 0.9405208140161513, 0.9123157198314527, 0.9964596913637347, 0.8765963290632239, 0.996667468275933, 0.936174848807214, 0.9836354612109537, 0.9322506132657395, 0.9865019263236637, 0.9516307046085699, 0.997100172641024, 0.9121110080170658, 0.927872168228247, 0.8973509393147312, 0.9736751057487472, 0.9316497419206662, 0.9902482003575345, 0.9097308901761808, 0.9899522893404232, 0.9616728449947531, 0.9189055394269757, 0.9772531694159535, 0.8934786350094257, 0.9745989977648096, 0.9652806646070733, 0.9578973205357199, 0.9879055589040663, 0.9036445833456719, 0.25119396610538897, 0.7477401781741811, 0.9040685809129407, 0.9646813144830779, 0.9391394993346253, 0.9909925709376747, 0.9632912437243175, 0.9850705855423177, 0.9396817405468219, 0.8879634304510113, 0.9965794448152224, 0.9603184205595486, 0.9891697211433749, 0.9191102346993973, 0.983501495793553, 0.9413622388807571, 0.9628201578522663, 0.996468040965461, 0.9984364338126683, 0.9126518824925997, 0.9181595006011848, 0.9505044582736636, 0.9903354304619887, 0.9675630486923231, 0.9622759337697532, 0.9412810992834185, 0.9562610037732796, 0.9953793688274856, 0.9555528428966255, 0.9663414368876804, 0.9802598827168787, 0.9801645352235021, 0.9511961620658556, 0.9664673947230796, 0.9835705176327011, 0.9649417950308969, 0.9958127802192064, 0.9953784197646923, 0.9459493270240646, 0.9341332177561965, 0.9184991053280693, 0.9725972297447322, 0.982564308393975, 0.94695519324994, 0.9866463503834223, 0.9118267352209455, 0.924730564607307, 0.975388228949077, 0.8981181032364699, 0.964940204207368, 0.9188515993598317, 0.9927864134525245, 0.9673837328435725, 0.984392723622947, 0.9612963602968776, 0.9544105487342055, 0.9780254389044493, 0.9311161366959293, 0.9417706773156347, 0.9394698424220164, 0.9135763578821213, 0.07474715655399175, 0.958176469357205, 0.9572126337275083, 0.9393143125778113, 0.9349022229539943, 0.983051705934607, 0.9109010920130499, 0.9656882934742415, 0.9947711791623006, 0.9610251663616434, 0.9595068874268105, 0.9688457364402523, 0.9765795004955373, 0.976111768428206, 0.9346382499125392, 0.9217399258875744, 0.9805285429664278, 0.9500107740760186, 0.9887216672779336, 0.9759566857258352, 0.9669565542577884, 0.96467307788209, 0.970982724919197, 0.9867293218955481, 0.10829063706050057, 0.758034459423504, 0.9450129304433992, 0.9260714692392136, 0.9566416747671982, 0.9764103924863252, 0.9152612704024458, 0.9616758730875272, 0.9896919136581889, 0.9598115576432381, 0.9919474465232269, 0.9494187286209388, 0.9956804400543083, 0.9548016500309967, 0.930323696815521, 0.9161524363920233, 0.967712479458106, 0.9362018490501788, 0.9897242675687186, 0.8392707273616066, 0.9246253624016282, 0.9833204790821485, 0.9935628581857401, 0.9893205560660113, 0.9602128023266462, 0.9908086623614413, 0.9099445791290107, 0.9212995493540288, 0.9591561066622056, 0.9420117770469876, 0.9317699395219599, 0.9270517885324053, 0.9248946339160548, 0.9329643358002775, 0.9117454261073602, 0.9256755006544298, 0.9788487496301053, 0.9761285484889075, 0.9778084116731743, 0.995613505440967, 0.8741368113863023, 0.8982013719452392, 0.9673067053850659, 0.9523553247815755, 0.993870545505521, 0.9561154962206084, 0.9895443476289242, 0.9289900945056461, 0.8944143910611742, 0.9765488883594822, 0.9794484812421594, 0.9254254967491263, 0.9709387375692011, 0.9414723990745311, 0.9483967765311354, 0.8656350628313235, 0.92593165651663, 0.9685639536374078, 0.9698133737974494, 0.9863783648930621, 0.9835028054927909, 0.9776295507169502, 0.9718432500551342, 0.9907778401408737, 0.9439788348372704, 0.9554581044242775, 0.9861852408680354, 0.9931081406071466, 0.9571083552678438, 0.912357458598836, 0.9876073531516942, 0.9008385011247712, 0.9591863524980825, 0.9898516584990702, 0.5473981307554346, 0.12785625381856944, 0.16903030165844773, 0.1126868677722985, 0.04290769195945212, 0.9625211445537918, 0.9594327207383608, 0.997866770470908, 0.9703839076254669, 0.028888289536888056, 0.961577608347775, 0.9914920072710031, 0.9483388979029281, 0.9984961191634174, 0.9981881505071264, 0.9311830613007939, 0.9185081675538352, 0.9196566325307864, 0.96157711712281, 0.9468476402640795, 0.912532323297886, 0.9668301573515866, 0.7630879379520299, 0.0693716307229118, 0.0693716307229118, 0.0693716307229118, 0.9248813799393522, 0.9536055334738044, 0.9462559072105782, 0.9631700561831117, 0.9025933609879692, 0.9932779861601987, 0.9930350479158768, 0.8921435174155866, 0.8733769993053373, 0.7967659128531921, 0.9938960643143241, 0.8888457655384674, 0.919158105614662, 0.991727844631395, 0.9942759815909299, 0.9967817424653772, 0.9825275450426383, 0.9643601716865053, 0.9820554621874338, 0.9656030925531015, 0.9735837356632248, 0.9767169750786032, 0.9038172415834645, 0.9333093519442481, 0.9646192557435656, 0.8896326972199324, 0.9635221030057386, 0.9713210643149147, 0.9650622291122631, 0.9891545158119295, 0.9823524299753791, 0.9815300195109867, 0.9636140689734035, 0.9730757937624636, 0.9494487620204964, 0.9736526349972747, 0.9089447783672931, 0.979589514822158, 0.9812854168890068, 0.06657358146744947, 0.06657358146744947, 0.7988829776093938, 0.8715298256614546, 0.9260014160960142, 0.9790714998922295, 0.9813424727651516, 0.979426807415182, 0.9416787481529806, 0.9134043069637613, 0.9707801923950701, 0.9610912935766814, 0.9849866670139056, 0.9669972917772796, 0.9965191083131156, 0.9925785063890362, 0.9863352319101126, 0.9542763523707807, 0.9296467322154238, 0.8526146801486393, 0.9269077788371971, 0.9959266487010794, 0.9945335958607588, 0.9538715002875199, 0.6233126690147895, 0.3755858390217322, 0.9947659859151685, 0.9818667328822793, 0.9367339930789906, 0.9350815764934355, 0.9129171758864911, 0.10289394484449124, 0.8954554118898967, 0.931415708325735, 0.9915315373641063, 0.9801928765282347, 0.9288494728458392, 0.9835346863262735, 0.960212778539377, 0.9792951794492544, 0.9154012149884347, 0.9502352020907404, 0.9886006064528322, 0.9451529831213541, 0.9833819821281292, 0.970832141598689, 0.8549072582461135, 0.9744331419178264, 0.9817658509288811, 0.9475223869132979, 0.9492438724423737, 0.9215060872104883, 0.9050966233557197, 0.9982774177276467, 0.9909108645992042, 0.9505103120313818, 0.9381934465292445, 0.9951409776429557, 0.941608829059445, 0.94407708572618, 0.9408090139608662, 0.9609705841032896, 0.9929909488610795, 0.9609580785072781, 0.9374527343019964, 0.9933047541093899, 0.9938312198246311, 0.9379192942175779, 0.950750153692208, 0.9546789458816747, 0.905639976569443, 0.9672705184668527, 0.9104644443444976, 0.9900743815317943, 0.9583012689898548, 0.9798980863819983, 0.9741934346819059, 0.9873561609910613, 0.9373622306715902, 0.9889227845664503, 0.944542383182285, 0.9790590560123752, 0.9727205555249251, 0.9897375090576367, 0.9633470517702372, 0.957766426592539, 0.9154350349941025, 0.93170606076094, 0.9824390310785449, 0.9742287640756297, 0.9744885397112416, 0.9724419444341633, 0.9599996446121345, 0.9333854595551355, 0.9608518988337287, 0.9810953150165483, 0.9596474586319129, 0.9748023154721032, 0.9551738001453429, 0.9433663816693558, 0.9626955844580738, 0.97082877799075, 0.9905094399049214, 0.9415015239412609, 0.9908636963123281, 0.954631196530924, 0.9413777590424934, 0.8958309435727356, 0.9518627758065615, 0.8868642810992214, 0.9959799909687816, 0.901087724193181, 0.925147048291913, 0.9714274512550769, 0.9565595101303872, 0.991589985292857, 0.9695031127341912, 0.9426836585209278, 0.9260916926155035, 0.9432794428351454, 0.9896586895868619, 0.9740344195083147, 0.9459794662817206, 0.9777587858519236, 0.9986041538166279, 0.9224178733222139, 0.9674915196134174, 0.2164087697048502, 0.7574306939669757, 0.9751229217458883, 0.8895454316127949, 0.9345596479581015, 0.9425514277580653, 0.9788778496255964, 0.9614829348266719, 0.9879069272127119, 0.9605444090727645, 0.9548431707830753, 0.9585316823343296, 0.9527168759006194, 0.9789962320358604, 0.9262189421212371, 0.9839590325524864, 0.9344784379858252, 0.9543796868211468, 0.9948981281598417, 0.9828648567494687, 0.9816833715992792, 0.8938709855160236, 0.9865124085715212, 0.9166458729968369, 0.9825652927296388, 0.9978255404059689, 0.9701908434163271, 0.9571353971745568, 0.9847024028961953, 0.9278048915213506, 0.9876259658740864, 0.9634273844089412, 0.9724630930163578, 0.9788446266498831, 0.8739814381151747, 0.9808329219677927, 0.97760755423022, 0.9154249185365019, 0.9837246539489736, 0.9688333133115495, 0.9750084629948366, 0.9992284432320733, 0.9745121767695911, 0.9297392184811406, 0.994316042129532, 0.98940725321083, 0.9584391275022904, 0.9535736652451561, 0.9172493682755086, 0.993848890668637, 0.9486237166471706, 0.9588012458470538, 0.9314787345844519, 0.9985733888250454, 0.9978919017853747, 0.9737005053896405, 0.9975456021436648, 0.9909152775604599, 0.9862806582962234, 0.9355395163577437, 0.9720593063392704, 0.902126978861297, 0.9904662863859018, 0.9392138044676361, 0.9795826185698733, 0.985778930576086, 0.8842356724498371, 0.936288747657661, 0.8967782391299856, 0.9958566001458283, 0.9684602261948843, 0.971395084830178, 0.9707705646990398, 0.9358476236668419, 0.9404350912624474, 0.9669972917772796, 0.9764820873203202, 0.966197283604981, 0.9892993429709015, 0.856324210745973, 0.9657597007281885, 0.9508254005169334, 0.8794061943268291, 0.10829063706050057, 0.758034459423504, 0.9527126622626705, 0.9233284513847405, 0.9937105253609004, 0.9397445860917727, 0.9553533564326513, 0.9944392464680558, 0.9666866160995966, 0.9759005056234481, 0.9819477959543498, 0.9773543981494258, 0.9840257288944685, 0.9423682604064725, 0.9335890679142953, 0.9670807460800355, 0.9446928370036722, 0.9188744388951562, 0.9896929952360672, 0.9673156781735307, 0.947756604559274, 0.9795095445736123, 0.9680542997749482, 0.9751943801886207, 0.9826704713432116, 0.9818371292665682, 0.9679362420504339, 0.9654686014599954, 0.9339573186804025, 0.9872635368792917, 0.41808620103347394, 0.5729329421569828, 0.1740547940738168, 0.8261474028574122, 0.9243069613881036, 0.929761833813105, 0.9833310423823517, 0.9853190700287388, 0.9797038198649644, 0.9717277107414319, 0.9556351760286823, 0.9070621179269963, 0.9927823549618662, 0.9206537059160039, 0.9169070173205243, 0.8928120463052024, 0.9263906202762942, 0.8965203174351338, 0.9807394017420454, 0.956777580028785, 0.8754326782960323, 0.9145020236553292, 0.9746655806405021, 0.9429828651792936, 0.9390636956964582, 0.9440619013372082, 0.9968212570558947, 0.978574013803207, 0.9848891119894084, 0.9916607198815853, 0.9589971271476535, 0.9906753857630256, 0.9342652084184283, 0.9214571459144281, 0.9830798937637634, 0.9222059046096819, 0.9676555263297638, 0.9865636548761313, 0.9773156220202461, 0.957487667419202, 0.9974793513521918, 0.9689504577696049, 0.9882934960982587, 0.894157458501843, 0.966697998032508, 0.901774874468158, 0.90502296031918, 0.9695623658283061, 0.968300696963687, 0.9191637955928427, 0.9670272478192038, 0.9319730005969268, 0.971892399183487, 0.9352542778494803, 0.9590329051413378, 0.9619147834561315, 0.9574705376168499, 0.9677229721478565, 0.9555178233516055, 0.9285475020948639, 0.9915570255425148, 0.8873602294535926, 0.9611977360656835, 0.9121970545798785, 0.9409338530542926, 0.9605946744711995, 0.8516639965646561, 0.9369180139838965, 0.9532085489144682, 0.9857328021876741, 0.9024683166572653, 0.9795526513574945, 0.9653086942708823, 0.9837033696796669, 0.9959749252497431, 0.9626891596666128, 0.9442997748657436, 0.9886330661658929, 0.9618490251433515, 0.9502345505574367, 0.9914236839428593, 0.9931555571903617, 0.9729650348994272, 0.9741562605268267, 0.9632725143732521, 0.9693028817313804, 0.9725884931993596, 0.7887930222107881, 0.9328159349887041, 0.9019338421679763, 0.913160715717643, 0.960879632638865, 0.9916562308689024, 0.9684946552623205, 0.918791855842062, 0.9808151710061819, 0.9553413515427384, 0.9672219337137754, 0.9641864165348065, 0.9275258853293382, 0.9550273075681252, 0.9725414960275336, 0.9812737728073142, 0.9705360793384662, 0.975762256678318, 0.9149088780753124, 0.9434016597838207, 0.9244837458662303, 0.9965092931691736, 0.9293191401246189, 0.9715350133305946, 0.9681361052529068, 0.9836978749998677, 0.9072477640351153, 0.965219589319731, 0.9552183785155971, 0.9496829373583993, 0.9913900557769869, 0.9778733121276185, 0.9845439791547047, 0.9234981192168843, 0.9875394036692352, 0.9534729414942446, 0.9506056903907064, 0.8416473030761178, 0.9718176720005808, 0.9049599731600559, 0.9000888929386848, 0.95122204101452, 0.9974909881185613, 0.9880376528187598, 0.8410739680098793, 0.906620533927636, 0.9129631581741892, 0.9966259049804402, 0.9510307675114364, 0.9983351431275654, 0.9695155697126381, 0.9169976093000973, 0.9932522684630064, 0.9908920905776902, 0.9766086174974768, 0.9404044614531709, 0.9847803780301656, 0.9254384571328517, 0.9626130225081043, 0.9636780478553604, 0.9633301318040672, 0.9928541225403567, 0.970643429590161, 0.9791816937806874, 0.9567353975689391, 0.9775615560645721, 0.978123662165553, 0.9899915397562685, 0.9232064427723782, 0.9521592249018961, 0.976059978957013, 0.9922392586784596, 0.9620508219289523, 0.9808112208118928, 0.10829063706050057, 0.758034459423504, 0.9476277120093075, 0.9171574615523399, 0.9905247317064142, 0.9428179429312421, 0.9525810185337101, 0.9944948090358212, 0.945728014956263, 0.9603624040620484, 0.990911369727187, 0.9801576646932064, 0.9513687018279434, 0.9692181690220942, 0.954108643305148, 0.9896572977869191, 0.9653667946191018, 0.9400922764487051, 0.9173734706907191, 0.9424498101520442, 0.9098230873894914, 0.9523117054594556, 0.9714164752084917, 0.9899368712174238, 0.9778592313931628, 0.9198196541729795, 0.9499880147317092, 0.9501646158270034, 0.9165674316699587, 0.9898019018020284, 0.9543419588613566, 0.9736075619999333, 0.9760940005006203, 0.9752881879183781, 0.8733769993053373, 0.9017081310493356, 0.9263101191484464, 0.9685309892095191, 0.9935454582491828, 0.9399216788484662, 0.9464453567801719, 0.9139989150248844, 0.9652166228776631, 0.9739312167156184, 0.9904835873435582, 0.9474242259005418, 0.9515451712779608, 0.9664960319830793, 0.9816992393954425, 0.9458292551184482, 0.9528294391438396, 0.9896788469736262, 0.9728478943086509, 0.9546311426015499, 0.43273688054364445, 0.5666403681080929, 0.9558780994383151, 0.9666680827777524, 0.9476908200951705, 0.9824864297879689, 0.9960436116959789, 0.9464396205817955, 0.9961172085536921, 0.9698304303389098, 0.9684557888171295, 0.917597568917783, 0.9599668051535551, 0.9819196190512248, 0.9131714550817939, 0.9921830523713182, 0.9481918030704383, 0.9363487368805342, 0.9872952120533792, 0.9548337312172616, 0.96628990691505, 0.966860351104307, 0.9627132368057347, 0.9828960453720192, 0.9229502736407592, 0.9185035938074054, 0.9029729624662634, 0.9440066556995282, 0.9748018572882706, 0.9660224257141633, 0.9529904267355904, 0.9756665031498939, 0.9853494716683288, 0.9886082563621568, 0.9098806613072654, 0.8747345135769928, 0.9787961257287131, 0.9646013343720057, 0.9947937927624729, 0.9875345079788578, 0.9442773141419887, 0.9454754488189542, 0.9360732159504708, 0.9848380665050648, 0.6424181949805168, 0.3493853341122109, 0.997275803733595, 0.9112201914932259, 0.9931493074466305, 0.9642970736104827, 0.948001916386162, 0.9366845297523334, 0.9454100574839233, 0.912425253283414, 0.9701785326526366, 0.974358409612824, 0.9372307182259516, 0.963577749798668, 0.9730802456678057, 0.9521578858678674, 0.8792274568349141, 0.9868461810254862, 0.9813179613241695, 0.9846540113965853, 0.9582816241492192, 0.9713760056229754, 0.9955022346497, 0.9853554621001361, 0.9056599923179691, 0.9966890584427327, 0.9762714812140436, 0.9673640112769828, 0.9796451469496047, 0.9354999633803185, 0.9283410427813414, 0.9615350616237909, 0.9320802181889746, 0.9838462517438304, 0.9337450529085105, 0.9929570188150587, 0.8876390706434916, 0.10144446521639904, 0.9835853110193575, 0.9593385702089591, 0.9573517921754519, 0.9325291856804024, 0.9547487708632698, 0.9691232760960921, 0.9698002357698786, 0.9387395950285469, 0.913343434084421, 0.995813816395294, 0.9451802470001655, 0.8979888648295734, 0.9215871130970396, 0.9617154974659823, 0.9957285902856594, 0.9658992474124508, 0.9327002869875011, 0.9911553879332006, 0.9679702665973523, 0.9527629508755493, 0.9330677841234077, 0.9638822980675235, 0.9796221915432712, 0.9888302751307829, 0.9455793286906756, 0.9938451429600981, 0.9956249278127977, 0.9953232063759956, 0.9698334856796978, 0.9686568642681849, 0.9823627106355115, 0.913977510129557, 0.9610208631447693, 0.919225435804192, 0.9745856117646905, 0.9310846174325292, 0.9171923216657187, 0.9960414550142779, 0.983241033273663, 0.9499574965419062, 0.9410512892314009, 0.9018695365579313, 0.9732366333027578, 0.9994599750953724, 0.9978280549684889, 0.9761651131877923, 0.981282895393406, 0.9693665344525251, 0.9453688470897227, 0.9774140775008067, 0.9241426963500892, 0.952733124582327, 0.9976426668791478, 0.9652693970561663, 0.9678111294607065, 0.9689489677413237, 0.9032511211235907, 0.9943080641581579, 0.9964276704976518, 0.9805170092782178, 0.9884529438077243, 0.9669532360755095, 0.9244572285669179, 0.9571270534085569, 0.9523351302438827, 0.9598707908300739, 0.9858580597938805, 0.9786141392154414, 0.9858994583619031, 0.8433856139911816, 0.8718392218897009, 0.9629106341088436, 0.9749267977374015, 0.9425584437427691, 0.9736137101894263, 0.950100729265202, 0.9649760246636473, 0.9516923710498477, 0.9785069746918839, 0.8935360075320026, 0.9718134562163393, 0.9760600911625456, 0.9458889213908761, 0.9667104448280658, 0.9676333644468896, 0.9896321696875677, 0.9807567963961643, 0.9901140424277695, 0.9747528915146557, 0.987542820407179, 0.9973372029982306, 0.9523119870241694, 0.9239973974867861, 0.9277592212044701, 0.9719449631393134, 0.954338374937874, 0.9321819992547279, 0.9801640057307754, 0.9080519298313371, 0.9964314614710831, 0.9761804238047653, 0.9426493458714561, 0.9731453368158471, 0.9067800294568157, 0.9739113258119396, 0.9717909569981318, 0.9747597852578723, 0.9791182472315241, 0.9685607578777036, 0.9678189491452298, 0.9229159993682786, 0.9463121950123227, 0.7033654776506296, 0.2813461910602518, 0.9331898833223086, 0.9795614730049027, 0.9699913546628214, 0.9730559595695387, 0.9750098460132326, 0.9361206107675605, 0.9006381644728866, 0.9730067868331183, 0.985845331059971, 0.9577749453612598, 0.988850228452518, 0.9446494050916304, 0.9554505061951641, 0.9817135891132527, 0.9453112507326795, 0.9641350993592966, 0.9744602037509741, 0.9838868979283623, 0.9186112074315592, 0.9442228496835139, 0.9982941846957477, 0.9725364091033417, 0.9430932806891353, 0.9536708727362654, 0.9851794195205817, 0.9745227299890072, 0.9225754165998461, 0.9512061068670221, 0.9453395984194771, 0.9531289381196475, 0.9544953381250239, 0.9568935419001029, 0.9885668373082597, 0.9548984219370827, 0.9693226845914829, 0.9619611148741568, 0.8771250315635797, 0.9404868241581138, 0.9258052793389806, 0.992969702754411, 0.9542511621414546, 0.9068350807801965, 0.9806789922734799, 0.94441027096188, 0.9921277383576964, 0.9775791503826529, 0.9812245940638203, 0.9647789807097019, 0.9463973643577056, 0.984159422315777, 0.8915574930640471, 0.9660541242266544, 0.9832300445367413, 0.9240694325223018, 0.9931776550367825, 0.9738491427851871, 0.9453537416618313, 0.9918558809365493, 0.9547110412338804, 0.9850856117102276, 0.9555439674171529, 0.9080002312334491, 0.8864299582977104, 0.961508609258475, 0.974334818986108, 0.9941531646387337, 0.9940264897116865, 0.9581791187166786, 0.9004771432841546, 0.9037220360508569, 0.9803628847743533, 0.930257348728247, 0.979965544346203, 0.966337386253798, 0.9888382207362948, 0.9891097225699897, 0.945550329745933, 0.9186204760101637, 0.9582488927205076, 0.9483353935822242, 0.9953015377711225, 0.06816666373041114, 0.06816666373041114, 0.06816666373041114, 0.5453333098432891, 0.20449999119123338, 0.06816666373041114, 0.9958248988813406, 0.97118886258677, 0.9826678660561272, 0.9669972917772796, 0.9829712783779474, 0.9922252900323573, 0.9927558921545439, 0.9651816548665565, 0.9945292040167666, 0.9978738724326849, 0.9684100902752252, 0.9830022575337319, 0.945510679628096, 0.9781784227400816, 0.8949855695977234, 0.8738172195829113, 0.9334303753917285, 0.9514367098772939, 0.9159831088258956, 0.8974188293937864, 0.9927931654629081, 0.9406255090572498, 0.9402153626885759, 0.899484822825808, 0.9720952790205842, 0.9695643530403387, 0.9317934136245205, 0.9645954237627701, 0.9753119102232247, 0.9390769976811019, 0.9189969602815115, 0.985410086668776, 0.9315495093981155, 0.9750128778823489, 0.9097022477861699, 0.941640527151784, 0.9536807348024896, 0.9992199477159078, 0.9944317111883484, 0.9877111789186095, 0.95690576194875, 0.9915003611226517, 0.9931701268218447, 0.9559076615725068, 0.9898501675872926, 0.9400650554729391, 0.93544706735109, 0.4578796983240903, 0.5404481685136804, 0.9992441379225783, 0.9763924200152168, 0.9404301187279065, 0.9179040448023789, 0.9802998114980407, 0.9300612345744951, 0.9911375976478193, 0.882681643172134, 0.9651214799152278, 0.9988039393648864, 0.9976438141643457, 0.9981712138378032, 0.9198737251594884, 0.9215989178250965, 0.947559160226176, 0.9215538824420463, 0.9430986244465394, 0.9813041044562029, 0.9515427795872866, 0.9778045882518447, 0.9213962722272406, 0.9862962497981409, 0.9913935914794684, 0.854818084743626, 0.9541242626486817, 0.9656762998974142, 0.93048530103758, 0.8915650093161874, 0.9004747740055351, 0.9659135461126902, 0.9388008399009293, 0.9775199275565276, 0.9945412520143722, 0.9977480335246818, 0.9915321117225646, 0.9447822822242646, 0.9900396628646935, 0.9150934463313328, 0.9658881189764844, 0.9876658079314367, 0.9403374080204403, 0.9893936988392038, 0.9370802111467156, 0.9795756274770404, 0.9789792934015213, 0.9356192542656206, 0.9067731339654703, 0.9798574341006872, 0.9885663606470119, 0.9881414634511604, 0.9862600900937051, 0.9712299617096483, 0.9787381902342379, 0.8416804146569327, 0.9912244589360976, 0.953815489338268, 0.9836462189869378, 0.989632479150795, 0.9738352675808971, 0.9329022714691843, 0.9509850274515557, 0.9688749430379359, 0.9758281962345238, 0.9362831870037018, 0.9124516472446708, 0.970646567562077, 0.9481990357420819, 0.9813983496120668, 0.9798039133237885, 0.9710681219266365, 0.9305973124707081, 0.9238578507995733, 0.9751256288936463, 0.9928596615859111, 0.8830967243483535, 0.9902061260807316, 0.9433156328598178, 0.9431910351375694, 0.972265323779998, 0.9759670583144893, 0.9280825064102273, 0.9961287756805275, 0.966953964391194, 0.9858686084034898, 0.9897714638099618, 0.9476556522929074, 0.9857134196802645, 0.9359877256474547, 0.9126518824925997, 0.9328807169010913, 0.9214996955852481, 0.9888256201777339, 0.9871374666876885, 0.9497545309093528, 0.973397081864712, 0.9958084042683094, 0.996876256626233, 0.8189649010589358, 0.9062352981831082, 0.9209863582502338, 0.9732066159501499, 0.9803987645798046, 0.9623118266246703, 0.9474724529435841, 0.9735571904105166, 0.979007762715791, 0.9873880898200343, 0.8871342110055634, 0.9740656046228815, 0.9524365872327414, 0.9837372371354813, 0.9878886621443136, 0.9051260743253915, 0.9602228429915253, 0.9929781123654713, 0.9899354068536549, 0.9741839304493173, 0.8787606290801648, 0.993148166644948, 0.0056589639125068265, 0.8762948309173498, 0.9493350093235489, 0.07339440086078956, 0.07339440086078956, 0.07339440086078956, 0.07339440086078956, 0.6605496077471061, 0.07339440086078956, 0.07339440086078956, 0.9747661659513114, 0.9927617850165112, 0.9749240985122613, 0.9847992296645459, 0.981667210996444, 0.9367577780966256, 0.9308293351258045, 0.9776327972160177, 0.9653836499326337, 0.9727460178644861, 0.9082969382163503, 0.9562173811583521, 0.991577952184684, 0.8687686960929294, 0.9452993170074967, 0.9793314562093604, 0.9528049782143518, 0.9830120768076831, 0.9841360141678196, 0.9541990783187089, 0.9684696374163889, 0.9396319837301489, 0.9756131529741504, 0.9885236073173285, 0.9305302800128495, 0.9948842380725524, 0.9667244477331323, 0.9937072548832798, 0.9698972402987548, 0.975388215023182, 0.9198485374110389, 0.9265237531090622, 0.9678866339987379, 0.9252653671774189, 0.9465605325795661, 0.9419974836774662, 0.9903370049278287, 0.9502508245867427, 0.9605029839823317, 0.9901618165750292, 0.9624488225551421, 0.969249105293431, 0.9639342706644201, 0.9957792208255051, 0.9770266098882002, 0.9836208312986408, 0.9965471286167609, 0.9916197082194733, 0.9997378421771577, 0.9413077172116904, 0.9006668877888223, 0.8699444506599475, 0.9546792563953233, 0.9295362571307244, 0.9372442370284534, 0.9370223100244508, 0.9432418758837449, 0.9216645571649438, 0.9790532746929906, 0.875270331389844, 0.9944425421647157, 0.9660443614303718, 0.993655492707776, 0.8749121245745075, 0.9851187686683511, 0.9298834300482797, 0.9649488104715273, 0.9629342950759733, 0.959447026061973, 0.9769221961013667, 0.8191790103100806, 0.9741809849208464, 0.9387917895648987, 0.9036721628658936, 0.8776745676290367, 0.8709145531903618, 0.8657534242348702, 0.942555321779131, 0.9054867820284507, 0.969664395402686, 0.9695027612495233, 0.9963358887412741, 0.868603785118462, 0.9194094938989066, 0.8900600920012495, 0.9866916234342622, 0.9545957851446975, 0.9520996233401854, 0.9439089490146256, 0.9495446733716826, 0.9859824901342977, 0.9166486062662603, 0.9705683995895599, 0.9724518468251122, 0.9711536180299722, 0.9428132803399278, 0.9489653464820874, 0.9959960864618259, 0.9062601731883668, 0.9733988492766328, 0.9504287421373335, 0.990714690522181, 0.9501682274388212, 0.9728655824515019, 0.9351063027236795, 0.9335227650579988, 0.977542657336301, 0.9805207607753352, 0.9720874724224569, 0.9330677841234077, 0.9734975866340162, 0.9595110219437307, 0.9238025761344518, 0.933026254946081, 0.8726112988830437, 0.9052010063477217, 0.9828226061379177, 0.9784572453701962, 0.9311830580856998, 0.9454844455903604, 0.9892257266820887, 0.964067650079037, 0.9476679411641583, 0.9470012119993053, 0.9920484620275466, 0.9931102116944395, 0.9933168174504963, 0.9063653025811375, 0.9572732270610514, 0.9921979945171391, 0.952276730022047, 0.985572661394538, 0.8991156201317348, 0.9968321576076018, 0.9919967668948936, 0.9598058131558319, 0.9907556929392225, 0.993061235405136, 0.9799817065774817, 0.9859982770070352, 0.9555539054242179, 0.9605335744315232, 0.936631636754925, 0.9635343005396371, 0.9746040791139948, 0.9256881403030016, 0.9953637448643332], \"Term\": [\"0\", \"01\", \"0100pmfree\", \"01072021\", \"01082021\", \"0130pmfree\", \"02\", \"02072021\", \"02082021\", \"0300pmfree\", \"0330pmfree\", \"0430pmfree\", \"07\", \"0930amfre\", \"0d2\", \"0paid\", \"1\", \"10\", \"100\", \"100d2\", \"1030amfre\", \"11\", \"1100amfre\", \"11410r\", \"116\", \"12\", \"120029\", \"1200pmfree\", \"122001\", \"122002\", \"122003\", \"1230pmfree\", \"13\", \"13th\", \"14\", \"1410\", \"1410aarthi\", \"1410apollo\", \"1410rxdx\", \"15\", \"150\", \"15000\", \"15072021\", \"1508\", \"15th\", \"16\", \"16072021\", \"17\", \"17062021\", \"17072021\", \"17th\", \"18\", \"18072021\", \"1844\", \"1892d1\", \"19\", \"19062021\", \"19072021\", \"19d2\", \"1st\", \"2\", \"2\", \"20\", \"200\", \"200000\", \"20072021\", \"2021\", \"2021fee\", \"2021sub\", \"2021sub\", \"20d2\", \"21072021\", \"218\", \"22\", \"22072021\", \"23\", \"23062021\", \"23072021\", \"24\", \"24062021\", \"24072021\", \"25\", \"25062021\", \"26\", \"26062021\", \"27\", \"27062021\", \"28\", \"28062021\", \"29\", \"29062021\", \"29072021\", \"2anear\", \"2nd\", \"3\", \"30\", \"3065\", \"31\", \"32\", \"36\", \"38\", \"3rd\", \"4\", \"40\", \"400\", \"400026\", \"400071\", \"400602\", \"411007\", \"411014\", \"43d2\", \"44\", \"45\", \"4550d1\", \"49\", \"4th\", \"5\", \"50\", \"55\", \"560001\", \"560011\", \"560011covaxin\", \"560038covaxin\", \"560057\", \"560064\", \"560066\", \"560066covaxin\", \"560076\", \"560078\", \"560078covaxin\", \"560086\", \"560097covaxin\", \"560103\", \"560103covaxin\", \"5g\", \"5th\", \"6\", \"60\", \"600\", \"63\", \"65\", \"67\", \"7\", \"70\", \"700\", \"75d2\", \"780\", \"8\", \"80\", \"81\", \"88\", \"89yearold\", \"9\", \"90\", \"916\", \"94\", \"95\", \"97\", \"98\", \"ab\", \"abl\", \"abroad\", \"absolut\", \"abus\", \"accept\", \"access\", \"accord\", \"accus\", \"ach\", \"achiev\", \"across\", \"activ\", \"actual\", \"ad\", \"add\", \"addit\", \"administ\", \"administr\", \"admit\", \"adolesc\", \"adult\", \"advers\", \"advisori\", \"affair\", \"africa\", \"age\", \"agenc\", \"agesd\", \"ago\", \"agre\", \"agreement\", \"ai\", \"aiim\", \"aiimscovaxin\", \"aim\", \"aint\", \"airport\", \"al\", \"alhamdulillah\", \"allevi\", \"allow\", \"almost\", \"alon\", \"along\", \"alreadi\", \"also\", \"although\", \"alway\", \"amaz\", \"ambani\", \"ambassador\", \"america\", \"american\", \"among\", \"amp\", \"analysi\", \"angel\", \"ani\", \"anim\", \"announc\", \"anoth\", \"antibodi\", \"anvisa\", \"anymor\", \"anyon\", \"anyth\", \"apart\", \"apollo\", \"apolo\", \"appart\", \"appear\", \"appli\", \"appoint\", \"appreci\", \"appro\", \"approach\", \"approv\", \"appt\", \"april\", \"area\", \"argentina\", \"arm\", \"armi\", \"around\", \"arriv\", \"articl\", \"as\", \"asia\", \"ask\", \"assur\", \"astrazenaca\", \"astrazeneca\", \"attent\", \"aug\", \"august\", \"aundh\", \"australia\", \"author\", \"authoris\", \"avail\", \"availablehelpnagar\", \"await\", \"awar\", \"away\", \"az\", \"b\", \"b16171\", \"back\", \"bad\", \"bahrain\", \"ban\", \"bangalor\", \"bangladesh\", \"base\", \"basic\", \"batch\", \"battl\", \"bbmp\", \"bbmp\", \"bear\", \"becom\", \"bed\", \"begin\", \"behind\", \"believ\", \"bellandur\", \"benefit\", \"bengaluru\", \"besid\", \"best\", \"bet\", \"better\", \"bewar\", \"beyond\", \"bharat\", \"bharatbiotech\", \"bhavan\", \"bhubaneswar\", \"biden\", \"big\", \"bill\", \"billion\", \"biolog\", \"biontech\", \"biotech\", \"bit\", \"bla\", \"black\", \"blame\", \"bless\", \"block\", \"bodi\", \"book\", \"boost\", \"booster\", \"boostershot\", \"bori\", \"borisjohnson\", \"bottl\", \"brazil\", \"breach\", \"break\", \"breakthrough\", \"brilliant\", \"bring\", \"britain\", \"bu\", \"build\", \"busi\", \"buy\", \"c\", \"c11410r\", \"california\", \"call\", \"came\", \"camp\", \"campaign\", \"canada\", \"canada\", \"cancer\", \"candi\", \"candid\", \"cannot\", \"cant\", \"capit\", \"care\", \"case\", \"caus\", \"ccp\", \"cdc\", \"cdcgov\", \"cdsco\", \"cell\", \"celliott\", \"center\", \"center1400r\", \"centr\", \"central\", \"ceo\", \"certif\", \"challeng\", \"chanc\", \"channelfarah\", \"channelfarah\", \"charg\", \"check\", \"chembur\", \"chennai\", \"chhattisgarh\", \"chief\", \"child\", \"chile\", \"china\", \"chinaembsl\", \"chines\", \"choic\", \"choos\", \"cipla\", \"circl\", \"cite\", \"citi\", \"cityoftoronto\", \"claim\", \"clear\", \"clinic\", \"close\", \"closer\", \"cloudnin\", \"cm\", \"cmoguj\", \"cnbc\", \"co\", \"cocktail\", \"coimbator\", \"colaba\", \"colleagu\", \"colleg\", \"colombia\", \"coloni\", \"columbia\", \"combin\", \"come\", \"comirnati\", \"comment\", \"committe\", \"commun\", \"compani\", \"compar\", \"complet\", \"concern\", \"conclud\", \"condit\", \"confirm\", \"confus\", \"congratul\", \"congress\", \"consid\", \"consign\", \"contain\", \"contamin\", \"continu\", \"contract\", \"control\", \"corona\", \"coronavaccin\", \"coronaviru\", \"coronavirusvaccin\", \"corrupt\", \"cost\", \"could\", \"couldnt\", \"council\", \"countri\", \"cours\", \"court\", \"covax\", \"covaxin\", \"covaxin\", \"covaxin\", \"covaxin\", \"covaxin\", \"covaxin1410r\", \"covaxinapprov\", \"covid\", \"covid19\", \"covid19\", \"covid19india\", \"covid19vaccin\", \"covidvacccin\", \"covidvaccin\", \"covishield\", \"cowin\", \"coz\", \"cp24\", \"cr\", \"cradl\", \"creat\", \"cri\", \"cricket\", \"cricket\", \"cricket\", \"cricket\", \"crime\", \"crore\", \"ctvnew\", \"current\", \"custom\", \"cv\", \"cvspharmaci\", \"cyber\", \"cycl\", \"cypru\", \"da\", \"dad\", \"daili\", \"data\", \"date\", \"day\", \"dcgi\", \"de\", \"dead\", \"deal\", \"dear\", \"death\", \"debat\", \"decid\", \"decis\", \"del\", \"delay\", \"delhi\", \"deliv\", \"deliveri\", \"delta\", \"deltavari\", \"demand\", \"demonstr\", \"deni\", \"design\", \"despit\", \"devashish\", \"develop\", \"dgci\", \"dgci\", \"dgci\", \"di\", \"diagnost\", \"didnt\", \"die\", \"differ\", \"direct\", \"discu\", \"diseas\", \"distribut\", \"district\", \"dlf\", \"do\", \"doctor\", \"doctorsoumya\", \"doesnt\", \"dolli\", \"domin\", \"donat\", \"done\", \"dont\", \"dosag\", \"dose\", \"dose\", \"dose1\", \"dose10\", \"dose11\", \"dose16\", \"dose19\", \"dose2\", \"dose2\", \"dose21\", \"doubl\", \"doubt\", \"download\", \"dr\", \"dramat\", \"drharshvardhan\", \"drive\", \"drop\", \"drtedro\", \"drtomfrieden\", \"drug\", \"due\", \"dutert\", \"e\", \"earli\", \"easili\", \"east\", \"eat\", \"edit\", \"effect\", \"efficaci\", \"effici\", \"effort\", \"elderli\", \"elig\", \"els\", \"email\", \"embarrass\", \"emerg\", \"emergencyus\", \"empir\", \"end\", \"endors\", \"england\", \"enough\", \"ensur\", \"enter\", \"entir\", \"etc\", \"eu\", \"eua\", \"eul\", \"europ\", \"european\", \"evalu\", \"even\", \"event\", \"ever\", \"everi\", \"everyon\", \"everyth\", \"exactli\", \"excel\", \"except\", \"expect\", \"experi\", \"experienc\", \"experiment\", \"expert\", \"expir\", \"explain\", \"extra\", \"eye\", \"f\", \"face\", \"fact\", \"fake\", \"fall\", \"famili\", \"fantast\", \"far\", \"fast\", \"faster\", \"fatigu\", \"fauci\", \"fauciouchi\", \"fda\", \"fear\", \"featur\", \"feb\", \"feder\", \"feel\", \"fever\", \"field\", \"fight\", \"figur\", \"final\", \"find\", \"fine\", \"firebrand\", \"first\", \"flattenthecurv\", \"flight\", \"floor\", \"floor\", \"flu\", \"fm\", \"fo\", \"folk\", \"follow\", \"food\", \"forc\", \"ford\", \"foreign\", \"forget\", \"form\", \"forti\", \"forward\", \"found\", \"four\", \"franc\", \"free\", \"friday\", \"friend\", \"front\", \"frontlin\", \"fuck\", \"full\", \"fulli\", \"fullyvaccin\", \"fullyvacinn\", \"fund\", \"futur\", \"g\", \"gain\", \"galaxi\", \"gandhi\", \"garden\", \"gate\", \"gavi\", \"gene\", \"gener\", \"geopolit\", \"germani\", \"get\", \"getvaccin\", \"gift\", \"give\", \"given\", \"glad\", \"global\", \"globaltimesnew\", \"go\", \"god\", \"goi\", \"gonna\", \"good\", \"got\", \"govcanhealth\", \"govern\", \"govt\", \"grant\", \"graphic\", \"grate\", \"gravita\", \"great\", \"green\", \"ground\", \"group\", \"grow\", \"gujarat\", \"gurga\", \"gurgaoncovaxin\", \"gurleen1984\", \"guy\", \"h\", \"hall\", \"halt\", \"hamilton\", \"hand\", \"happen\", \"happi\", \"harar\", \"hard\", \"harmoni\", \"harshvshringla\", \"hartaldoktorkontrak\", \"hartaldoktorkontrak\", \"hasnt\", \"hate\", \"havent\", \"head\", \"headach\", \"health\", \"healthcar\", \"healthi\", \"heard\", \"heart\", \"help\", \"herdimmun\", \"here\", \"hey\", \"hi\", \"hide\", \"high\", \"higher\", \"highli\", \"highway\", \"himantabiswa\", \"hit\", \"ho\", \"hold\", \"holi\", \"home\", \"homemad\", \"hope\", \"hosp\", \"hosp\", \"hospit\", \"hospit\", \"hospita\", \"hospital1400r\", \"hour\", \"hous\", \"howev\", \"huda\", \"huge\", \"hundr\", \"husband\", \"hyderabad\", \"hyderabadbas\", \"ibuprofen\", \"icaua\", \"ice\", \"icmr\", \"icmrdelhi\", \"icmrfightscovid19\", \"icu\", \"icymi\", \"id\", \"idea\", \"ill\", \"im\", \"immedi\", \"immun\", \"immunocompromis\", \"impact\", \"import\", \"impos\", \"improv\", \"inactiv\", \"inbound\", \"inc\", \"includ\", \"increas\", \"independ\", \"india\", \"indiafightscorona\", \"indian\", \"indianarmi\", \"indigen\", \"individu\", \"ineffect\", \"infect\", \"inflamm\", \"info\", \"inform\", \"initi\", \"inject\", \"innov\", \"inocul\", \"insid\", \"instead\", \"institut\", \"interest\", \"interim\", \"intern\", \"invent\", \"invest\", \"investig\", \"invivo\", \"involv\", \"irregular\", \"isnt\", \"israel\", \"issu\", \"isupportiqrarulhassan\", \"itali\", \"ive\", \"j\", \"jab\", \"jandj\", \"janssen\", \"japan\", \"japanes\", \"jayanagar1410r\", \"jayanagarcovaxin1410r\", \"ji\", \"jnj\", \"job\", \"joebiden\", \"johnson\", \"johnsonandjohnson\", \"johnsonandjohnsonvaccin\", \"join\", \"joint\", \"journey\", \"jp\", \"jul\", \"juli\", \"jump\", \"june\", \"justintrudeau\", \"keep\", \"keninchausti\", \"kenya\", \"keshabmahanta\", \"key\", \"kharadi\", \"kid\", \"kill\", \"kind\", \"kindli\", \"knock\", \"know\", \"kudo\", \"la\", \"lab\", \"ladi\", \"lakh\", \"lancet\", \"lane\", \"lanka\", \"last\", \"later\", \"latest\", \"launch\", \"law\", \"le\", \"lead\", \"leadership\", \"least\", \"leav\", \"led\", \"left\", \"let\", \"level\", \"liber\", \"licenc\", \"lie\", \"life\", \"light\", \"like\", \"line\", \"link\", \"list\", \"littl\", \"live\", \"lka\", \"local\", \"lockdown\", \"logo\", \"long\", \"longer\", \"look\", \"lot\", \"love\", \"low\", \"lowerdos\", \"ltd\", \"made\", \"madeinindia\", \"maderna\", \"major\", \"make\", \"maker\", \"malathi\", \"malayjoin\", \"malayjoin\", \"malaysia\", \"mallig\", \"man\", \"manag\", \"mandat\", \"mani\", \"manip\", \"mansukhmandviya\", \"manufactur\", \"marathon\", \"march\", \"marg\", \"mark\", \"market\", \"mask\", \"massiv\", \"match\", \"matter\", \"matthancock\", \"mauritiu\", \"max\", \"may\", \"mayb\", \"mcgm\", \"mean\", \"meanwhil\", \"measur\", \"medic\", \"medicin\", \"medium\", \"meet\", \"memori\", \"menstrual\", \"mess\", \"met\", \"mexico\", \"mg\", \"microchip\", \"middl\", \"mild\", \"mileston\", \"millenium\", \"million\", \"min\", \"mind\", \"minist\", \"ministri\", \"minut\", \"mission\", \"mix\", \"mln\", \"modern\", \"moderna\", \"moderna\", \"modernatx\", \"modernavaccin\", \"modi\", \"mohfwindia\", \"mom\", \"monday\", \"month\", \"morn\", \"moscow\", \"mother\", \"mou\", \"move\", \"mr\", \"mrna\", \"mrnao\", \"mu\", \"much\", \"multipl\", \"mumbai\", \"mumbaicovaxin\", \"muscl\", \"must\", \"mutant\", \"mutat\", \"mygovindia\", \"myocard\", \"n\", \"nagar1200r\", \"nagar1410r\", \"name\", \"narendramodi\", \"nation\", \"navroopsingh\", \"nba\", \"ne\", \"near\", \"need\", \"neg\", \"negoti\", \"netherland\", \"neutralis\", \"never\", \"new\", \"new\", \"news\", \"newsom\", \"next\", \"nhmassam\", \"nice\", \"night\", \"nih\", \"nk\", \"nmmcp\", \"nod\", \"normal\", \"note\", \"noth\", \"novavax\", \"novemb\", \"number\", \"nurs\", \"nyati\", \"nyc\", \"observ\", \"ocgn\", \"oct\", \"octob\", \"ocugen\", \"offer\", \"offic\", \"offici\", \"often\", \"oil\", \"ok\", \"okay\", \"old\", \"older\", \"one\", \"ontario\", \"ontario\", \"open\", \"opp\", \"opposit\", \"opsom\", \"option\", \"order\", \"organ\", \"organis\", \"oth\", \"other\", \"otherwis\", \"outsid\", \"outstand\", \"own\", \"oxfordastrazeneca\", \"oxfordvaccin\", \"oxygen\", \"p\", \"p31410r\", \"pact\", \"pahowho\", \"paid\", \"pain\", \"pakistan\", \"pan\", \"pandem\", \"panel\", \"parent\", \"park\", \"part\", \"parti\", \"particip\", \"partner\", \"past\", \"patient\", \"pave\", \"peac\", \"peopl\", \"per\", \"percentag\", \"pericard\", \"period\", \"person\", \"pfizer\", \"pfizerbiontech\", \"pfizervaccin\", \"pharma\", \"pharmaceut\", \"pharmaci\", \"phase\", \"phone\", \"pill\", \"pincod\", \"place\", \"plan\", \"play\", \"player\", \"pleas\", \"plot\", \"pm\", \"pmc\", \"pmoindia\", \"polit\", \"politic\", \"poor\", \"popul\", \"posit\", \"possibl\", \"post\", \"postpon\", \"potenc\", \"potenti\", \"potu\", \"power\", \"pr\", \"predict\", \"preliminari\", \"prepar\", \"presid\", \"pretti\", \"prevent\", \"price\", \"prime\", \"privat\", \"pro\", \"probabl\", \"problem\", \"process\", \"procur\", \"produc\", \"product\", \"profession\", \"profil\", \"profit\", \"program\", \"progress\", \"project\", \"promis\", \"promot\", \"protect\", \"proud\", \"proven\", \"provid\", \"provision\", \"public\", \"publish\", \"pune\", \"punecovaxin\", \"purchas\", \"push\", \"put\", \"putin\", \"pvt\", \"pvt\", \"qualiti\", \"question\", \"quick\", \"quickli\", \"r\", \"rais\", \"ram\", \"rare\", \"rate\", \"rdif\", \"reach\", \"react\", \"reaction\", \"read\", \"readi\", \"real\", \"realli\", \"realtuckfrump\", \"realworld\", \"reason\", \"receiv\", \"recent\", \"recipi\", \"recognis\", \"recognit\", \"recommend\", \"record\", \"reddi\", \"reduct\", \"refus\", \"regard\", \"region\", \"regul\", \"reject\", \"releas\", \"rememb\", \"remind\", \"reopen\", \"repli\", \"report\", \"repthomasmassi\", \"republ\", \"request\", \"requir\", \"research\", \"resid\", \"respons\", \"rest\", \"restrict\", \"result\", \"return\", \"reuter\", \"review\", \"rich\", \"right\", \"risk\", \"rna\", \"road\", \"role\", \"roll\", \"rollout\", \"rule\", \"rumour\", \"run\", \"rural\", \"russia\", \"russian\", \"rwmalonemd\", \"s\", \"s2\", \"sa\", \"sad\", \"safe\", \"safer\", \"safeti\", \"said\", \"sakra\", \"salut\", \"sarscov2\", \"saudi\", \"save\", \"savesheikhjarrah\", \"savesheikhjarrah\", \"savesheikhjarrah\", \"savesheikhjarrah\", \"savesheikhjarrah\", \"savesheikhjarrah\", \"say\", \"scan\", \"schedul\", \"schol\", \"school\", \"scienc\", \"scientist\", \"se\", \"sec\", \"second\", \"sector\", \"see\", \"seek\", \"seem\", \"seen\", \"select\", \"sell\", \"send\", \"senior\", \"sent\", \"sep\", \"septemb\", \"sequenc\", \"seriou\", \"serum\", \"seruminstindia\", \"servic\", \"set\", \"sever\", \"sh\", \"shame\", \"share\", \"shipment\", \"shit\", \"shivaroor\", \"short\", \"shortag\", \"shot\", \"show\", \"shri\", \"sick\", \"side\", \"sign\", \"simpli\", \"sinc\", \"singl\", \"singledos\", \"sinopharm\", \"sinopharm\", \"sinovac\", \"sir\", \"sister\", \"sit\", \"site\", \"situat\", \"six\", \"skynew\", \"sleep\", \"slot\", \"slotsag\", \"slotscovaxin\", \"slovakia\", \"slow\", \"small\", \"smoke\", \"social\", \"societ\", \"someon\", \"someth\", \"son\", \"soon\", \"sore\", \"sought\", \"sourc\", \"south\", \"southafrica\", \"southkorea\", \"spain\", \"sparsh\", \"special\", \"spread\", \"sputnik\", \"sputnikv\", \"sputnikvaccin\", \"sri\", \"srilanka\", \"st\", \"staff\", \"start\", \"stat\", \"state\", \"statist\", \"statu\", \"stay\", \"staysaf\", \"steel\", \"step\", \"still\", \"stock\", \"stop\", \"stori\", \"strain\", \"strang\", \"street\", \"strong\", \"student\", \"studi\", \"submit\", \"subscrib\", \"success\", \"suchitraella\", \"sunday\", \"sunglass\", \"super\", \"superpow\", \"supp\", \"suppli\", \"support\", \"sure\", \"surg\", \"suspect\", \"suspend\", \"swadeshi\", \"swaminathan\", \"swamy39\", \"sweden\", \"switch\", \"symptom\", \"system\", \"taiwan\", \"take\", \"taken\", \"talk\", \"team\", \"technolog\", \"tell\", \"temperatur\", \"terapanth\", \"term\", \"terrorist\", \"test\", \"th\", \"thailand\", \"thane\", \"thank\", \"that\", \"thatll\", \"thaw\", \"thei\", \"therapi\", \"there\", \"theyr\", \"thi\", \"thing\", \"think\", \"third\", \"though\", \"thought\", \"thousand\", \"three\", \"thursday\", \"thursdayvib\", \"till\", \"time\", \"tire\", \"tmc\", \"tn\", \"today\", \"today\", \"togeth\", \"told\", \"tomor\", \"tomor\", \"tomor\", \"tomor\", \"tomor\", \"tomor\", \"tomor\", \"tomorrow\", \"took\", \"top\", \"toronto\", \"total\", \"toward\", \"trade\", \"tradit\", \"transmiss\", \"travel\", \"trend\", \"tri\", \"trial\", \"tribal\", \"trudeau\", \"true\", \"trump\", \"trust\", \"tuesday\", \"turkey\", \"turn\", \"tweet\", \"twitter\", \"two\", \"twodos\", \"u\", \"uae\", \"uk\", \"un\", \"understand\", \"unicef\", \"union\", \"unit\", \"unitedn\", \"unlik\", \"unvaccin\", \"updat\", \"upgrad\", \"uphcfre\", \"urban\", \"urg\", \"urgent\", \"usa\", \"use\", \"usfda\", \"usual\", \"v\", \"vaccigen\", \"vaccin\", \"vaccinati\", \"vaccinationcovid\", \"vaccinecenturi\", \"vaccinepassport\", \"vaccineregistr\", \"vaccinessavel\", \"vaccinevictim\", \"vaccino\", \"vacin\", \"vaer\", \"vaksin\", \"variant\", \"vasanth\", \"vax\", \"vega\", \"via\", \"vial\", \"video\", \"vika\", \"villa\", \"vimanngr\", \"viol\", \"viru\", \"visit\", \"vivo\", \"vladimir\", \"vonderleyen\", \"vote\", \"vp\", \"vydehi\", \"w\", \"wa\", \"wait\", \"waiver\", \"walk\", \"wanna\", \"want\", \"war\", \"ward\", \"warn\", \"warzon\", \"watch\", \"water\", \"wave\", \"way\", \"wear\", \"websit\", \"wednesday\", \"week\", \"weigh\", \"welcom\", \"welfar\", \"well\", \"wellspr\", \"went\", \"wh\", \"what\", \"whatsapp\", \"whether\", \"whoafro\", \"whoemro\", \"whoeurop\", \"whole\", \"whosearo\", \"whowpro\", \"wi\", \"wish\", \"within\", \"without\", \"wo\", \"woke\", \"woman\", \"wonder\", \"wont\", \"word\", \"work\", \"worker\", \"world\", \"worldwid\", \"worth\", \"would\", \"x\", \"yall\", \"yay\", \"ye\", \"year\", \"yellowcard\", \"yesterday\", \"yet\", \"yo\", \"young\", \"younger\", \"your\", \"youtub\", \"yr\", \"zero\", \"zimbabw\", \"zimbabwean\"]}, \"R\": 30, \"lambda.step\": 0.01, \"plot.opts\": {\"xlab\": \"PC1\", \"ylab\": \"PC2\"}, \"topic.order\": [20, 43, 9, 21, 13, 4, 37, 34, 28, 26, 10, 40, 3, 11, 38, 44, 12, 41, 15, 50, 22, 23, 24, 19, 32, 33, 6, 31, 39, 49, 1, 8, 25, 2, 7, 30, 14, 36, 48, 46, 45, 5, 16, 35, 27, 18, 47, 42, 17, 29]};\n",
              "\n",
              "function LDAvis_load_lib(url, callback){\n",
              "  var s = document.createElement('script');\n",
              "  s.src = url;\n",
              "  s.async = true;\n",
              "  s.onreadystatechange = s.onload = callback;\n",
              "  s.onerror = function(){console.warn(\"failed to load library \" + url);};\n",
              "  document.getElementsByTagName(\"head\")[0].appendChild(s);\n",
              "}\n",
              "\n",
              "if(typeof(LDAvis) !== \"undefined\"){\n",
              "   // already loaded: just create the visualization\n",
              "   !function(LDAvis){\n",
              "       new LDAvis(\"#\" + \"ldavis_el721402225701353768235633235\", ldavis_el721402225701353768235633235_data);\n",
              "   }(LDAvis);\n",
              "}else if(typeof define === \"function\" && define.amd){\n",
              "   // require.js is available: use it to load d3/LDAvis\n",
              "   require.config({paths: {d3: \"https://d3js.org/d3.v5\"}});\n",
              "   require([\"d3\"], function(d3){\n",
              "      window.d3 = d3;\n",
              "      LDAvis_load_lib(\"https://cdn.jsdelivr.net/gh/bmabey/pyLDAvis@3.3.1/pyLDAvis/js/ldavis.v3.0.0.js\", function(){\n",
              "        new LDAvis(\"#\" + \"ldavis_el721402225701353768235633235\", ldavis_el721402225701353768235633235_data);\n",
              "      });\n",
              "    });\n",
              "}else{\n",
              "    // require.js not available: dynamically load d3 & LDAvis\n",
              "    LDAvis_load_lib(\"https://d3js.org/d3.v5.js\", function(){\n",
              "         LDAvis_load_lib(\"https://cdn.jsdelivr.net/gh/bmabey/pyLDAvis@3.3.1/pyLDAvis/js/ldavis.v3.0.0.js\", function(){\n",
              "                 new LDAvis(\"#\" + \"ldavis_el721402225701353768235633235\", ldavis_el721402225701353768235633235_data);\n",
              "            })\n",
              "         });\n",
              "}\n",
              "</script>"
            ]
          },
          "metadata": {},
          "execution_count": 54
        }
      ],
      "source": [
        "import pyLDAvis\n",
        "import pyLDAvis.gensim_models\n",
        "\n",
        "pyLDAvis.enable_notebook()\n",
        "pyLDAvis.gensim_models.prepare(lda_model, corpus, id2word)"
      ]
    }
  ],
  "metadata": {
    "accelerator": "GPU",
    "colab": {
      "collapsed_sections": [
        "UWHs60QTE9oJ",
        "ffSb5oG-FzMS",
        "7dzQdE6dHOXM",
        "76VjUNiVQ1HC",
        "JrMFHCIvJirZ",
        "wC6YuKAiOqzu",
        "OEQiZ_ZaOvvu",
        "eA8AcUYOO74a",
        "oJeKvah5Qwqj",
        "V6DaPDBkS-1K",
        "qUi6WC6aTD7q",
        "1V80X5BOTs9L",
        "_Qw9oCQ1UHJq",
        "dGOc1hxTUY5Q",
        "D5wiWy_2W3QF",
        "INcjRL0DW_nP",
        "W0Ik4bMdap0H",
        "wXQKxfiTa892",
        "KdA_HtP2TWix"
      ],
      "name": "TEDE_PROJECT_1.ipynb",
      "provenance": []
    },
    "kernelspec": {
      "display_name": "Python 3",
      "name": "python3"
    },
    "language_info": {
      "name": "python"
    }
  },
  "nbformat": 4,
  "nbformat_minor": 0
}